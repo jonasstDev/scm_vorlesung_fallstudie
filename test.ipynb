{
 "cells": [
  {
   "cell_type": "code",
   "execution_count": 2,
   "id": "initial_id",
   "metadata": {
    "collapsed": true,
    "ExecuteTime": {
     "end_time": "2025-01-23T14:10:50.561837Z",
     "start_time": "2025-01-23T14:10:50.499386Z"
    }
   },
   "outputs": [
    {
     "ename": "TypeError",
     "evalue": "unhashable type: 'pyscipopt.scip.Variable'",
     "output_type": "error",
     "traceback": [
      "\u001B[0;31m---------------------------------------------------------------------------\u001B[0m",
      "\u001B[0;31mTypeError\u001B[0m                                 Traceback (most recent call last)",
      "Cell \u001B[0;32mIn[2], line 18\u001B[0m\n\u001B[1;32m      4\u001B[0m test_dict \u001B[38;5;241m=\u001B[39m {\n\u001B[1;32m      5\u001B[0m     \u001B[38;5;241m1\u001B[39m: \u001B[38;5;241m1\u001B[39m, \n\u001B[1;32m      6\u001B[0m     \u001B[38;5;241m2\u001B[39m: \u001B[38;5;241m12\u001B[39m, \n\u001B[0;32m   (...)\u001B[0m\n\u001B[1;32m     14\u001B[0m     \u001B[38;5;241m10\u001B[39m: \u001B[38;5;241m16\u001B[39m\n\u001B[1;32m     15\u001B[0m }\n\u001B[1;32m     16\u001B[0m e \u001B[38;5;241m=\u001B[39m scip\u001B[38;5;241m.\u001B[39maddVar(vtype\u001B[38;5;241m=\u001B[39m\u001B[38;5;124m'\u001B[39m\u001B[38;5;124minteger\u001B[39m\u001B[38;5;124m'\u001B[39m, lb\u001B[38;5;241m=\u001B[39m\u001B[38;5;241m0\u001B[39m, ub\u001B[38;5;241m=\u001B[39m\u001B[38;5;241m10\u001B[39m, name\u001B[38;5;241m=\u001B[39m\u001B[38;5;124m\"\u001B[39m\u001B[38;5;124me\u001B[39m\u001B[38;5;124m\"\u001B[39m)\n\u001B[0;32m---> 18\u001B[0m scip\u001B[38;5;241m.\u001B[39msetObjective(\u001B[43mtest_dict\u001B[49m\u001B[43m[\u001B[49m\u001B[43me\u001B[49m\u001B[43m]\u001B[49m, sense\u001B[38;5;241m=\u001B[39m\u001B[38;5;124m\"\u001B[39m\u001B[38;5;124mmaximize\u001B[39m\u001B[38;5;124m\"\u001B[39m)\n\u001B[1;32m     20\u001B[0m scip\u001B[38;5;241m.\u001B[39moptimize()\n\u001B[1;32m     21\u001B[0m \u001B[38;5;66;03m# Status des Solvers\u001B[39;00m\n",
      "\u001B[0;31mTypeError\u001B[0m: unhashable type: 'pyscipopt.scip.Variable'"
     ]
    }
   ],
   "source": [
    "from pyscipopt import Model, quicksum\n",
    "\n",
    "scip = Model()\n",
    "test_dict = {\n",
    "    1: 1, \n",
    "    2: 12, \n",
    "    3: 24, \n",
    "    4: 22, \n",
    "    5: 100, \n",
    "    6: 120, \n",
    "    7: 13, \n",
    "    8: 14, \n",
    "    9: 15, \n",
    "    10: 16\n",
    "}\n",
    "e = scip.addVar(vtype='integer', lb=0, ub=10, name=\"e\")\n",
    "\n",
    "scip.setObjective(test_dict[e], sense=\"maximize\")\n",
    "\n",
    "scip.optimize()\n",
    "# Status des Solvers\n",
    "status = scip.getStatus()\n",
    "print(f\"Status des Solvers: {status} \\n\")\n",
    "\n",
    "if status == \"optimal\":\n",
    "    print('LÖSUNG:')\n",
    "    print('Zielfunktionswert (Gewinn) =', scip.getObjVal())\n",
    "    print(scip.getVal(e))\n",
    "\n",
    "else:\n",
    "    print('Problem hat keine Lösung')\n"
   ]
  },
  {
   "cell_type": "code",
   "outputs": [],
   "source": [],
   "metadata": {
    "collapsed": false
   },
   "id": "4789500bf22004cc"
  }
 ],
 "metadata": {
  "kernelspec": {
   "display_name": "Python 3",
   "language": "python",
   "name": "python3"
  },
  "language_info": {
   "codemirror_mode": {
    "name": "ipython",
    "version": 2
   },
   "file_extension": ".py",
   "mimetype": "text/x-python",
   "name": "python",
   "nbconvert_exporter": "python",
   "pygments_lexer": "ipython2",
   "version": "2.7.6"
  }
 },
 "nbformat": 4,
 "nbformat_minor": 5
}
