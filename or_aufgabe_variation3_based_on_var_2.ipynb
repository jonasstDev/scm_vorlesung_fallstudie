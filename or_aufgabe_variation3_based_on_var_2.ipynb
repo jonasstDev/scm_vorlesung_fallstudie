{
 "nbformat": 4,
 "nbformat_minor": 0,
 "metadata": {
  "colab": {
   "provenance": []
  },
  "kernelspec": {
   "name": "python3",
   "language": "python",
   "display_name": "Python 3 (ipykernel)"
  },
  "language_info": {
   "name": "python"
  }
 },
 "cells": [
  {
   "cell_type": "code",
   "execution_count": 1,
   "metadata": {
    "id": "ZnQ8O5cCDDQL",
    "ExecuteTime": {
     "end_time": "2025-01-26T18:28:09.039568Z",
     "start_time": "2025-01-26T18:28:09.031915Z"
    }
   },
   "outputs": [],
   "source": [
    "# pip als Paketmanager\n",
    "#! pip install -q pyscipopt\n",
    "#! pip install pandas\n",
    "#!pip install openpyxl"
   ]
  },
  {
   "cell_type": "code",
   "source": [
    "from pyscipopt import Model, quicksum"
   ],
   "metadata": {
    "id": "X2VAyQ7jDpsj",
    "ExecuteTime": {
     "end_time": "2025-01-26T18:28:09.089241Z",
     "start_time": "2025-01-26T18:28:09.061283Z"
    }
   },
   "execution_count": 2,
   "outputs": []
  },
  {
   "cell_type": "markdown",
   "source": [
    "**Optimierungsmodell für den Kauf und Verkauf von Strom auf dem Strommarkt**"
   ],
   "metadata": {
    "id": "X5_MT5TQDrb4"
   }
  },
  {
   "cell_type": "code",
   "source": [
    "# Erstellen einer Modellinstanz\n",
    "scip = Model()"
   ],
   "metadata": {
    "id": "B4-fy7HIEAsr",
    "ExecuteTime": {
     "end_time": "2025-01-26T18:28:09.093433Z",
     "start_time": "2025-01-26T18:28:09.090077Z"
    }
   },
   "execution_count": 3,
   "outputs": []
  },
  {
   "cell_type": "markdown",
   "source": [
    "**Indexmenge**"
   ],
   "metadata": {
    "id": "m3fgChtdEDH5"
   }
  },
  {
   "cell_type": "code",
   "source": [
    "# Investition über Zeitraum j Tage\n",
    "j = 1\n",
    "\n",
    "H = [n for n in range(1, 24*j+1)]\n",
    "R = [r for r in range(0, 25)]\n",
    "# Erklärung:\n",
    "# es gibt 24 Risikoabstufungen, höchstes R -> höchstes Risiko, r=0, kein Risiko\n",
    "# hohes Risiko => hohe Wahrscheinlichkeit gemäß der Prognosetabelle, den Zuschlag nicht zu bekommen\n",
    "# Je höher die Risikoklasse ist, desto vorteilhafter (niedriger bei Kauf und höher bei Verkauf) ist der Preis, den man als Gebotspreis abgibt\n",
    "# Risikoklasse 0 = kein Risiko -> normaler Erwartungswert\n",
    "# Risikoklasse 1 = 4% \"Risiko\" und kalkulatorischer Erwartungswert wird berechnet wie folgt: \n",
    "    # 96% Eintrittswahrscheinlichkeit -> Erwartungswert aus den nicht durch das Gebot ausgeschlossenen Preismöglichkeit\n",
    "    # 4% Eintrittswahrscheinlichkeit -> Erwartungswert = Moving Average der 3 umliegenden Zeitpunkte verrechnet mit penalty\n",
    "    # kalkulatorischer Erwartungswert ist der gewichtete Durchschnitt nach Eintrittswahrscheinlichkeit\n",
    "\n",
    "# Risikowahrscheinlichkeiten, diese sind nötig, um später die gewichteten Durchschnitte zu bilden\n",
    "prob_r = {}\n",
    "for r in R:\n",
    "    prob_r[r] = 1 - r/25"
   ],
   "metadata": {
    "id": "_s8ylJM4EHTo",
    "colab": {
     "base_uri": "https://localhost:8080/"
    },
    "outputId": "4f9154d4-02fe-4c97-f951-758e6762265e",
    "ExecuteTime": {
     "end_time": "2025-01-26T18:28:09.096249Z",
     "start_time": "2025-01-26T18:28:09.094158Z"
    }
   },
   "execution_count": 4,
   "outputs": []
  },
  {
   "cell_type": "markdown",
   "source": [
    "**Batterie-Systemspezifikationen**"
   ],
   "metadata": {
    "id": "tNBFK_MnEKQt"
   }
  },
  {
   "cell_type": "code",
   "source": [
    "# Hier sind alle Systemspezifikationen definiert, die mit und ohne Investitionen gelten\n",
    "# Die Werte NACH Investition sind nach dem Apple-Prinzip mit dem suffix _pro versehen\n",
    "# Die Investitionen sind als Binärvariablen definiert, die entweder 0 oder 1 sind und werdne in der Zielfunktion und den Nebenbedingungen entsprechend berücksichtigt\n",
    "\n",
    "wirkungsgrad_wechselrichter = 0.985\n",
    "\n",
    "wirkungsgrad_laden = 0.975\n",
    "\n",
    "round_trip_efficiency = 0.95\n",
    "entlade_verlust = wirkungsgrad_laden - round_trip_efficiency\n",
    "\n",
    "wirkungsgrad_systemeingang = wirkungsgrad_wechselrichter * wirkungsgrad_laden\n",
    "wirkungsgrad_systemausgang = (1-(entlade_verlust / wirkungsgrad_laden)) * wirkungsgrad_wechselrichter\n",
    "\n",
    "\n",
    "f_e = wirkungsgrad_systemeingang # Faktor Einkauf\n",
    "f_v = wirkungsgrad_systemausgang # Faktor Verkauf\n",
    "\n",
    "f_e_pro = 1-((1 - f_e)*0.5)\n",
    "f_v_pro = 1-((1 - f_v)*0.5)\n",
    "\n",
    "\n",
    "nennkapazität = 40 # MWh brutto\n",
    "nennkapazität_pro = 50 # Kosten:\n",
    "\n",
    "lademinimum = 0.2 # 20%\n",
    "lademaximum = 1 # 100%\n",
    "anfangsbestand = 0.5 # 50%\n",
    "\n",
    "nettokapazität = zyklus = nennkapazität * (lademaximum - lademinimum) # MWh netto\n",
    "nettokapazität_pro = nennkapazität_pro * (lademaximum - lademinimum) \n",
    "\n",
    "zykluskosten = 1500 # € / zyklus\n",
    "mwh_zykluskosten = zykluskosten / zyklus #  € / MWh -> entweder geladen oder entladen\n",
    "\n",
    "erlaubte_zyklen_pro_tag = 2\n",
    "erlaubte_zyklen_pro_tag_pro = 3\n",
    "\n",
    "a = anfangsbestand * nennkapazität # MWh Anfangs- und Endbestand\n",
    "u = lademinimum * nennkapazität # MWh Untergrenze Batteriekapazität\n",
    "o = lademaximum * nennkapazität # MWh Obergrenze Batteriekapazität\n",
    "\n",
    "c = 0.5 # nennkapazität / h\n",
    "c_pro = 1 \n",
    "\n",
    "# Prozentuale penalty, wenn nicht Zuschlag\n",
    "penalty_anteil = 1\n",
    "penalty = 1 + penalty_anteil\n",
    "\n",
    "\n",
    "\n",
    "# -> Wir haben vier Investitionsentscheidungen (f_e_pro und f_v_pro, c_pro, nennkapazität_pro und erlaubte_zyklen_pro_tag_pro)\n",
    "# Die Kosten dazu werden bei der Zielfunktion definiert "
   ],
   "metadata": {
    "colab": {
     "base_uri": "https://localhost:8080/"
    },
    "id": "dbHcYiqREQ3l",
    "outputId": "37c0a831-76b1-4edb-a83f-08bd2004494d",
    "ExecuteTime": {
     "end_time": "2025-01-26T18:28:09.100845Z",
     "start_time": "2025-01-26T18:28:09.097510Z"
    }
   },
   "execution_count": 5,
   "outputs": []
  },
  {
   "cell_type": "markdown",
   "source": [
    "**Vorhersagedaten**"
   ],
   "metadata": {
    "id": "uXv-Z9v_ESaI"
   }
  },
  {
   "cell_type": "code",
   "source": [
    "import pandas as pd\n",
    "\n",
    "prognose = pd.read_excel('Preisprognosen.xlsx')\n",
    "\n",
    "# Erwartungswerte nach Risikoklasse und Stunde für Einkauf\n",
    "\n",
    "preis_verkauf_h_r = {}\n",
    "preis_einkauf_h_r = {}\n",
    "\n",
    "gebotspreis_verkauf_h_r = {}\n",
    "gebotspreis_einkauf_h_r = {}\n",
    "\n",
    "import math\n",
    "for h in range(1,25):\n",
    "  # Berechnung von \"Standard-EW\" für Stunde h\n",
    "  stundenprognose = prognose[prognose['Stunde'] == h]\n",
    "  #Sortiere stundenprognose nach dem Wert in Spalte \"Strompreis\"\n",
    "  stundenprognose = stundenprognose.sort_values(by='Strompreis')\n",
    "  # Index zurücksetzen\n",
    "  stundenprognose = stundenprognose.reset_index(drop=True)\n",
    "  for r in R:\n",
    "    #iteriere außerdem j*1 über den df\n",
    "    for i in range(0, j):\n",
    "    # Nehme den Durschnitt von der Spalte \"Strompreis\" vom Index r bis zum höchsten Index\n",
    "      preis_verkauf_h_r[(h+i*24, r)] = stundenprognose.loc[r:24, 'Strompreis'].mean()\n",
    "      preis_einkauf_h_r[(h+i*24, r)] = stundenprognose.loc[0:24-r, 'Strompreis'].mean()\n",
    "      gebotspreis_verkauf_h_r[(h+i*24, r)] = stundenprognose.loc[r:24, 'Strompreis'].min()\n",
    "      gebotspreis_einkauf_h_r[(h+i*24, r)] = stundenprognose.loc[0:24-r, 'Strompreis'].max()\n",
    "\n",
    "# Wie in der Version davor auch\n",
    "moving_average_h = {}\n",
    "for h in range(1,25):\n",
    "  stundenprognose = prognose[prognose['Stunde'].isin([h-1,h,h+1])]\n",
    "  for i in range(0, j):\n",
    "    moving_average_h[h+i*24] = stundenprognose['Strompreis'].mean()\n"
   ],
   "metadata": {
    "colab": {
     "base_uri": "https://localhost:8080/"
    },
    "id": "UabCBzkIEXMD",
    "outputId": "48b5eb6c-ea4b-4cc8-be74-65a421eb54f9",
    "ExecuteTime": {
     "end_time": "2025-01-26T18:28:09.798351Z",
     "start_time": "2025-01-26T18:28:09.101528Z"
    }
   },
   "execution_count": 6,
   "outputs": []
  },
  {
   "cell_type": "markdown",
   "source": [
    "**Entscheidungsvariablen**"
   ],
   "metadata": {
    "id": "DMgUDSvBEbtt"
   }
  },
  {
   "cell_type": "code",
   "source": [
    "# Für jede Risikoklasse und jede Stunde eine Mengen-Variable\n",
    "e_h_r={}\n",
    "v_h_r={}\n",
    "\n",
    "# Investitionsentscheidungen\n",
    "inv_c_rate = scip.addVar(vtype=\"B\", name=f\"Investition_c-Rate\")\n",
    "inv_nennkapazität = scip.addVar(vtype=\"B\", name=f\"Investition_Nennkapa\")\n",
    "inv_zyklen_pro_tag = scip.addVar(vtype=\"B\", name=f\"Investition_Zyklen_pro_Tag\")\n",
    "inv_wirkungsgrad = scip.addVar(vtype=\"B\", name=f\"Investition_Wirkungsgrad\")\n",
    "\n",
    "for h in H:\n",
    "    #  Für jede Risikoklasse und jede Stunde eine Mengen-Variable, ob man zu dieser Stunde bei dieser Risikoklasse die entsprechende Menge einkaufen möchte\n",
    "    for r in R:\n",
    "      e_h_r[(h, r)] = scip.addVar(vtype='C', lb=0, ub=None, name=f\"e_{h}_{r}\")\n",
    "      v_h_r[(h, r)] = scip.addVar(vtype='C', lb=0, ub=None, name=f\"v_{h}_{r}\")\n"
   ],
   "metadata": {
    "id": "b6h0dqgcEiTE",
    "colab": {
     "base_uri": "https://localhost:8080/"
    },
    "outputId": "586e35e2-f59b-423d-ebdf-4d09529a504b",
    "ExecuteTime": {
     "end_time": "2025-01-26T18:28:09.812632Z",
     "start_time": "2025-01-26T18:28:09.802656Z"
    }
   },
   "execution_count": 7,
   "outputs": []
  },
  {
   "cell_type": "markdown",
   "source": [
    "# **Zielfunktion**"
   ],
   "metadata": {
    "id": "mAMlXtDUGNDN"
   }
  },
  {
   "cell_type": "code",
   "source": [
    "gewinn_kauf_verkauf = quicksum(((preis_verkauf_h_r[(h, r)] * v_h_r[(h, r)] * prob_r[r] +\\\n",
    "                                 moving_average_h[h] * v_h_r[(h, r)] * (1-prob_r[r]) * 1/penalty) -\\\n",
    "\n",
    "                                (preis_einkauf_h_r[(h, r)] * e_h_r[(h, r)] * prob_r[r] +\\\n",
    "                                 moving_average_h[h] * e_h_r[(h, r)] * (1-prob_r[r]) * penalty ))\\\n",
    "                               \n",
    "                               for r in R for h in H )\n",
    "\n",
    "\n",
    "# Bei 3 Zyklen Investition kostet der dritte Zyklus nur 1000 mehr pro Tag (anstatt 1.500), also Skaleneffekte. Quelle: haben wir uns ausgedacht\n",
    "zykluskosten_sum = (zykluskosten * erlaubte_zyklen_pro_tag + (zykluskosten * (erlaubte_zyklen_pro_tag_pro - erlaubte_zyklen_pro_tag) * inv_zyklen_pro_tag)) * j\n",
    "\n",
    "# Investitionskosten, direkt mit der Binärvariable multipliziert, sodass sie nur Anwendung finden wenn man sich für die Inv entscheidet\n",
    "investitionskosten_c_rate = 1000_000 * inv_c_rate * (j/365)\n",
    "investitionskosten_nennkapazität = 1000_000 *  inv_nennkapazität *(j/365)\n",
    "investitionskosten_zyklen_pro_tag = 40_000 * inv_zyklen_pro_tag *(j/365)\n",
    "investitionskosten_wirkungsgrad = 40_000 * inv_wirkungsgrad *(j/365)\n",
    "\n",
    "\n",
    "scip.setObjective(gewinn_kauf_verkauf - zykluskosten_sum - (investitionskosten_nennkapazität + investitionskosten_c_rate + inv_zyklen_pro_tag + inv_wirkungsgrad + investitionskosten_wirkungsgrad), sense=\"maximize\")"
   ],
   "metadata": {
    "id": "adVdozuvGPtc",
    "colab": {
     "base_uri": "https://localhost:8080/"
    },
    "outputId": "b42fd577-0afc-482f-9b7c-24d1a234618b",
    "ExecuteTime": {
     "end_time": "2025-01-26T18:28:09.822650Z",
     "start_time": "2025-01-26T18:28:09.813283Z"
    }
   },
   "execution_count": 8,
   "outputs": []
  },
  {
   "cell_type": "markdown",
   "source": [
    "***Nebenbedingungen/ Restriktionen***"
   ],
   "metadata": {
    "id": "4LJ8EtXBGw06"
   }
  },
  {
   "cell_type": "code",
   "source": [
    "f_e_inv = ((f_e*(1-inv_wirkungsgrad))+(f_e_pro*inv_wirkungsgrad))\n",
    "f_v_inv = ((f_v*(1-inv_wirkungsgrad))+(f_v_pro*inv_wirkungsgrad))\n",
    "c_inv = ((c*(1-inv_c_rate))+(c_pro*inv_c_rate)) \n",
    "\n",
    "erlaubte_zyklen_pro_tag_inv = ((erlaubte_zyklen_pro_tag*(1-inv_zyklen_pro_tag))+(erlaubte_zyklen_pro_tag_pro*inv_zyklen_pro_tag))\n",
    "\n",
    "nettokapazität_inv = ((nettokapazität*(1-inv_nennkapazität))+nettokapazität_pro*inv_nennkapazität)\n",
    "\n",
    "# Ladestand zur Stunde 0 = Ladestand zur Stunde 24, also Summe Lademenge und Entlademenge gleich\n",
    "scip.addCons(quicksum(((e_h_r[(h,r)] * f_e_inv) - (v_h_r[(h,r)] / f_v_inv)) for r in R for h in H) == 0, name=\"Anfangs- und Endbestand gleich\")\n",
    "print(\"added: Anfangs- und Endbestand gleich\")\n",
    "\n",
    "# Maximale Ladezyklen am pro Tag anhand der Einkaufsmenge (mit Faktor = Lademenge), alternativ anhand der Verkaufsmenge\n",
    "scip.addCons(quicksum((e_h_r[(h,r)] * f_e_inv) for r in R for h in H) <= (erlaubte_zyklen_pro_tag_inv * nettokapazität_inv * 1 * j), name=\"Maximale Ladezyklen pro Tag\")\n",
    "print(\"added: Maximale Ladezyklen pro Tag\")\n",
    "\n",
    "# Mindestladestand nicht unterschritten und Höchstladestand nicht überschritten\n",
    "for h in H:\n",
    "    if h % 24 == 0: print(f\"Stunde {h} wird hinzugefügt\")\n",
    "    H_t =  [n for n in range(1, h+1)]\n",
    "    scip.addCons( (a + quicksum(((e_h_r[(t, r)] * f_e_inv) - (v_h_r[(t, r)] / f_v_inv)) for r in R for t in H_t)) >= u, name=f\"Mindestladestand zum Zeitpunkt t={h}\")\n",
    "    scip.addCons( (a + quicksum(((e_h_r[(t, r)] * f_e_inv) - (v_h_r[(t, r)] / f_v_inv)) for r in R for t in H_t)) <= o, name=f\"Maximalladestand zum Zeitpunkt t={h}\")\n",
    "\n",
    "# Lade- und Entladeleistung begrenzt (C-Rate)\n",
    "for h in H:\n",
    "    if h % 24 == 0: print(f\"Stunde {h} wird hinzugefügt\")\n",
    "    scip.addCons(quicksum(((e_h_r[(h, r)] * f_e_inv) + (v_h_r[(h, r)] / f_v_inv)) for r in R) <= c_inv * nettokapazität_inv, name=f\"Lade-/Entladeleistung der Stunde h={h}\")\n",
    "    "
   ],
   "metadata": {
    "id": "drIHi2kOG9Mx",
    "ExecuteTime": {
     "end_time": "2025-01-26T18:28:11.352169Z",
     "start_time": "2025-01-26T18:28:09.823219Z"
    }
   },
   "execution_count": 9,
   "outputs": [
    {
     "name": "stdout",
     "output_type": "stream",
     "text": [
      "added: Anfangs- und Endbestand gleich\n",
      "added: Maximale Ladezyklen pro Tag\n",
      "Stunde 24 wird hinzugefügt\n",
      "Stunde 24 wird hinzugefügt\n"
     ]
    }
   ]
  },
  {
   "cell_type": "markdown",
   "source": [
    "**Berechnung der Lösung**"
   ],
   "metadata": {
    "id": "z30z05i1HAMS"
   }
  },
  {
   "cell_type": "code",
   "source": [
    "scip.setIntParam(\"display/verblevel\", 5)  # Set verbosity level to 5\n",
    "\n",
    "\n",
    "scip.optimize()\n",
    "# Status des Solvers\n",
    "status = scip.getStatus()\n",
    "print(f\"Status des Solvers: {status} \\n\")\n",
    "\n",
    "if status == \"optimal\":\n",
    "    print('LÖSUNG:')\n",
    "    print('Zielfunktionswert (Gewinn) =', scip.getObjVal())\n",
    "    for h in H:\n",
    "      v_h = 0\n",
    "      e_h = 0\n",
    "      risikoklasse_v = None\n",
    "      risikodict_v = {}\n",
    "      risikoklasse_e = None\n",
    "      risikodict_e = {}\n",
    "      risikodict_v[r] = scip.getVal(v_h_r[(h, r)])\n",
    "      risikodict_e[r] = scip.getVal(e_h_r[(h, r)])\n",
    "      for r in R:\n",
    "        risikodict_v[r] = scip.getVal(v_h_r[(h, r)])\n",
    "        risikodict_e[r] = scip.getVal(e_h_r[(h, r)])\n",
    "        if scip.getVal(v_h_r[(h, r)]) > 0:\n",
    "          risikoklasse_v = r\n",
    "\n",
    "        if scip.getVal(e_h_r[(h, r)]) > 0:\n",
    "          risikoklasse_e = r\n",
    "\n",
    "        v_h += scip.getVal(v_h_r[(h, r)])\n",
    "        e_h += scip.getVal(e_h_r[(h, r)])  \n",
    "      print(\"EINKAUF Stunde\", h, \" : \" , e_h)\n",
    "      if risikoklasse_e != None: print(\"EINKAUF Risikoklasse Stunde\", h, \" : \", risikoklasse_e)\n",
    "      #print(\"EINKAUF Risiko: \", risikodict_e)\n",
    "      print(\"Verkauf Stunde\", h, \" : \" , v_h)\n",
    "      if risikoklasse_v != None: print(\"VERKAUF Risikoklasse Stunde\", h, \" : \", risikoklasse_v)\n",
    "      #print(\"VERKAUF Risiko: \", risikodict_v)\n",
    "else:\n",
    "    print('Problem hat keine Lösung')"
   ],
   "metadata": {
    "id": "UJ1ttWA9HCXI",
    "ExecuteTime": {
     "end_time": "2025-01-26T18:28:30.785361Z",
     "start_time": "2025-01-26T18:28:11.356535Z"
    }
   },
   "execution_count": 10,
   "outputs": [
    {
     "name": "stdout",
     "output_type": "stream",
     "text": [
      "LP Solver <Soplex 7.1.1>: barrier convergence tolerance cannot be set -- tolerance of SCIP and LP solver may differ\n",
      "LP Solver <Soplex 7.1.1>: fastmip setting not available -- SCIP parameter has no effect\n",
      "LP Solver <Soplex 7.1.1>: number of threads settings not available -- SCIP parameter has no effect\n",
      "Status des Solvers: optimal \n",
      "\n",
      "LÖSUNG:\n",
      "Zielfunktionswert (Gewinn) = 1382.4729972629948\n",
      "EINKAUF Stunde 1  :  0.0\n",
      "Verkauf Stunde 1  :  0.0\n",
      "EINKAUF Stunde 2  :  0.0\n",
      "Verkauf Stunde 2  :  0.0\n",
      "EINKAUF Stunde 3  :  0.0\n",
      "Verkauf Stunde 3  :  0.0\n",
      "EINKAUF Stunde 4  :  16.32340751131799\n",
      "EINKAUF Risikoklasse Stunde 4  :  0\n",
      "Verkauf Stunde 4  :  0.0\n",
      "EINKAUF Stunde 5  :  4.080851877829497\n",
      "EINKAUF Risikoklasse Stunde 5  :  0\n",
      "Verkauf Stunde 5  :  0.0\n",
      "EINKAUF Stunde 6  :  0.0\n",
      "Verkauf Stunde 6  :  0.0\n",
      "EINKAUF Stunde 7  :  0.0\n",
      "Verkauf Stunde 7  :  15.677948717948723\n",
      "VERKAUF Risikoklasse Stunde 7  :  2\n",
      "EINKAUF Stunde 8  :  0.0\n",
      "Verkauf Stunde 8  :  15.677948717948723\n",
      "VERKAUF Risikoklasse Stunde 8  :  3\n",
      "EINKAUF Stunde 9  :  0.0\n",
      "Verkauf Stunde 9  :  0.0\n",
      "EINKAUF Stunde 10  :  0.0\n",
      "Verkauf Stunde 10  :  0.0\n",
      "EINKAUF Stunde 11  :  0.0\n",
      "Verkauf Stunde 11  :  0.0\n",
      "EINKAUF Stunde 12  :  0.0\n",
      "Verkauf Stunde 12  :  0.0\n",
      "EINKAUF Stunde 13  :  0.0\n",
      "Verkauf Stunde 13  :  0.0\n",
      "EINKAUF Stunde 14  :  16.32340751131799\n",
      "EINKAUF Risikoklasse Stunde 14  :  8\n",
      "Verkauf Stunde 14  :  0.0\n",
      "EINKAUF Stunde 15  :  16.32340751131799\n",
      "EINKAUF Risikoklasse Stunde 15  :  7\n",
      "Verkauf Stunde 15  :  0.0\n",
      "EINKAUF Stunde 16  :  0.0\n",
      "Verkauf Stunde 16  :  0.0\n",
      "EINKAUF Stunde 17  :  0.0\n",
      "Verkauf Stunde 17  :  0.0\n",
      "EINKAUF Stunde 18  :  0.0\n",
      "Verkauf Stunde 18  :  0.0\n",
      "EINKAUF Stunde 19  :  0.0\n",
      "Verkauf Stunde 19  :  0.0\n",
      "EINKAUF Stunde 20  :  0.0\n",
      "Verkauf Stunde 20  :  0.0\n",
      "EINKAUF Stunde 21  :  0.0\n",
      "Verkauf Stunde 21  :  15.677948717948723\n",
      "VERKAUF Risikoklasse Stunde 21  :  1\n",
      "EINKAUF Stunde 22  :  0.0\n",
      "Verkauf Stunde 22  :  15.677948717948723\n",
      "VERKAUF Risikoklasse Stunde 22  :  1\n",
      "EINKAUF Stunde 23  :  0.0\n",
      "Verkauf Stunde 23  :  0.0\n",
      "EINKAUF Stunde 24  :  12.242555633488491\n",
      "EINKAUF Risikoklasse Stunde 24  :  0\n",
      "Verkauf Stunde 24  :  0.0\n",
      "transformed problem has 1204 variables (4 bin, 0 int, 0 impl, 1200 cont) and 74 constraints\n",
      "     74 constraints of type <nonlinear>\n",
      "\n",
      "original problem has 33124 active (37.1779%) nonzeros and 33124 (37.1779%) check nonzeros\n",
      "\n",
      "feasible solution found by trivial heuristic after 0.2 seconds, objective value -3.000000e+03\n",
      "presolving:\n",
      "(round 1, fast)       0 del vars, 0 del conss, 0 add conss, 1800 chg bounds, 0 chg sides, 0 chg coeffs, 0 upgd conss, 0 impls, 0 clqs\n",
      "(round 2, exhaustive) 0 del vars, 0 del conss, 2 add conss, 1800 chg bounds, 0 chg sides, 0 chg coeffs, 0 upgd conss, 0 impls, 0 clqs\n",
      "   (0.9s) probing cycle finished: starting next cycle\n",
      "   (0.9s) symmetry computation started: requiring (bin +, int +, cont +), (fixed: bin -, int -, cont -)\n",
      "   (0.9s) no symmetry present (symcode time: 0.01)\n",
      "clique table cleanup detected 0 bound changes\n",
      "\n",
      "presolved problem has 18131 active (28.9115%) nonzeros and 18131 (28.9115%) check nonzeros\n",
      "\n",
      "presolving (3 rounds: 3 fast, 2 medium, 2 exhaustive):\n",
      " 0 deleted vars, 0 deleted constraints, 0 added constraints, 1800 tightened bounds, 0 added holes, 0 changed sides, 0 changed coefficients\n",
      " 2400 implications, 4 cliques\n",
      "presolved problem has 1206 variables (4 bin, 0 int, 2 impl, 1200 cont) and 52 constraints\n",
      "      2 constraints of type <and>\n",
      "     50 constraints of type <nonlinear>\n",
      "Presolving Time: 0.76\n",
      "transformed 1/2 original solutions to the transformed problem space\n",
      "\n",
      "Heuristic clique solving LP from scratch with 99.8 % unfixed columns (2452 of 2458) ...\n",
      " time | node  | left  |LP iter|LP it/n|mem/heur|mdpt |vars |cons |rows |cuts |sepa|confs|strbr|  dualbound   | primalbound  |  gap   | compl. \n",
      "  1.9s|     1 |     0 |  4535 |     - |   234M |   0 |2458 |  52 |1861 |   0 |  0 |   1 |   0 | 1.493062e+03 |-3.000000e+03 |    Inf | unknown\n",
      "L 9.8s|     1 |     0 |  4535 |     - |undercov|   0 |2458 |  52 |1861 |   0 |  0 |   1 |   0 | 1.493062e+03 | 1.382473e+03 |   8.00%| unknown\n",
      " 10.0s|     1 |     0 |  4539 |     - |   238M |   0 |2458 |  52 |1863 |   2 |  1 |   1 |   0 | 1.487936e+03 | 1.382473e+03 |   7.63%| unknown\n",
      " 10.0s|     1 |     0 |  4539 |     - |   238M |   0 |2458 |  52 |1861 |   2 |  1 |   1 |   0 | 1.487936e+03 | 1.382473e+03 |   7.63%| unknown\n",
      " 10.0s|     1 |     0 |  4541 |     - |   238M |   0 |2458 |  52 |1863 |   4 |  2 |   1 |   0 | 1.484359e+03 | 1.382473e+03 |   7.37%| unknown\n",
      " 10.0s|     1 |     0 |  4543 |     - |   238M |   0 |2458 |  52 |1865 |   6 |  3 |   1 |   0 | 1.475410e+03 | 1.382473e+03 |   6.72%| unknown\n",
      " 10.0s|     1 |     0 |  4546 |     - |   238M |   0 |2458 |  52 |1867 |   8 |  4 |   1 |   0 | 1.465275e+03 | 1.382473e+03 |   5.99%| unknown\n",
      " 10.0s|     1 |     0 |  4549 |     - |   238M |   0 |2458 |  52 |1869 |  10 |  5 |   1 |   0 | 1.463963e+03 | 1.382473e+03 |   5.89%| unknown\n",
      " 10.1s|     1 |     0 |  4553 |     - |   239M |   0 |2458 |  52 |1871 |  12 |  6 |   1 |   0 | 1.460312e+03 | 1.382473e+03 |   5.63%| unknown\n",
      " 10.1s|     1 |     0 |  4556 |     - |   239M |   0 |2458 |  52 |1873 |  14 |  7 |   1 |   0 | 1.458985e+03 | 1.382473e+03 |   5.53%| unknown\n",
      " 10.1s|     1 |     0 |  4558 |     - |   239M |   0 |2458 |  52 |1875 |  16 |  8 |   1 |   0 | 1.458610e+03 | 1.382473e+03 |   5.51%| unknown\n",
      " 10.2s|     1 |     0 |  4560 |     - |   239M |   0 |2458 |  52 |1877 |  18 |  9 |   1 |   0 | 1.454233e+03 | 1.382473e+03 |   5.19%| unknown\n",
      " 10.2s|     1 |     0 |  4561 |     - |   239M |   0 |2458 |  52 |1878 |  19 | 10 |   1 |   0 | 1.453768e+03 | 1.382473e+03 |   5.16%| unknown\n",
      " 10.2s|     1 |     0 |  4562 |     - |   240M |   0 |2458 |  52 |1879 |  20 | 11 |   1 |   0 | 1.453352e+03 | 1.382473e+03 |   5.13%| unknown\n",
      " 10.2s|     1 |     0 |  4563 |     - |   240M |   0 |2458 |  52 |1880 |  21 | 12 |   1 |   0 | 1.453036e+03 | 1.382473e+03 |   5.10%| unknown\n",
      " time | node  | left  |LP iter|LP it/n|mem/heur|mdpt |vars |cons |rows |cuts |sepa|confs|strbr|  dualbound   | primalbound  |  gap   | compl. \n",
      " 10.3s|     1 |     0 |  4565 |     - |   240M |   0 |2458 |  52 |1881 |  22 | 13 |   1 |   0 | 1.452656e+03 | 1.382473e+03 |   5.08%| unknown\n",
      " 10.3s|     1 |     0 |  4566 |     - |   240M |   0 |2458 |  52 |1882 |  23 | 14 |   1 |   0 | 1.452453e+03 | 1.382473e+03 |   5.06%| unknown\n",
      " 10.3s|     1 |     0 |  4567 |     - |   240M |   0 |2458 |  52 |1259 |  24 | 15 |   1 |   0 | 1.452300e+03 | 1.382473e+03 |   5.05%| unknown\n",
      " 10.3s|     1 |     0 |  4570 |     - |   241M |   0 |2458 |  52 |1260 |  25 | 16 |   1 |   0 | 1.445290e+03 | 1.382473e+03 |   4.54%| unknown\n",
      " 10.4s|     1 |     0 |  4572 |     - |   241M |   0 |2458 |  52 |1261 |  26 | 17 |   1 |   0 | 1.438063e+03 | 1.382473e+03 |   4.02%| unknown\n",
      " 10.4s|     1 |     0 |  4574 |     - |   241M |   0 |2458 |  52 |1262 |  27 | 18 |   1 |   0 | 1.437774e+03 | 1.382473e+03 |   4.00%| unknown\n",
      " 10.4s|     1 |     0 |  4575 |     - |   241M |   0 |2458 |  52 |1263 |  28 | 19 |   1 |   0 | 1.435139e+03 | 1.382473e+03 |   3.81%| unknown\n",
      " 10.4s|     1 |     0 |  4576 |     - |   241M |   0 |2458 |  52 |1264 |  29 | 20 |   1 |   0 | 1.435067e+03 | 1.382473e+03 |   3.80%| unknown\n",
      " 10.5s|     1 |     0 |  4578 |     - |   241M |   0 |2458 |  52 |1259 |  30 | 21 |   1 |   0 | 1.434642e+03 | 1.382473e+03 |   3.77%| unknown\n",
      " 15.4s|     1 |     0 | 26879 |     - |   266M |   0 |2458 |  50 |1259 |  30 | 22 |   1 |   0 | 1.434642e+03 | 1.382473e+03 |   3.77%| unknown\n",
      " 15.4s|     1 |     0 | 26886 |     - |   266M |   0 |2458 |  50 |1261 |  32 | 23 |   1 |   0 | 1.423541e+03 | 1.382473e+03 |   2.97%| unknown\n",
      " 15.4s|     1 |     0 | 26892 |     - |   266M |   0 |2458 |  50 |1263 |  34 | 24 |   1 |   0 | 1.414239e+03 | 1.382473e+03 |   2.30%| unknown\n",
      " 15.4s|     1 |     0 | 26895 |     - |   266M |   0 |2458 |  50 |1260 |  36 | 25 |   1 |   0 | 1.411746e+03 | 1.382473e+03 |   2.12%| unknown\n",
      " 15.5s|     1 |     0 | 26897 |     - |   266M |   0 |2458 |  50 |1262 |  38 | 26 |   1 |   0 | 1.410603e+03 | 1.382473e+03 |   2.03%| unknown\n",
      "(run 1, node 1) restarting after 5 global fixings of integer variables\n",
      "\n",
      "presolving:\n",
      "(round 1, fast)       1257 del vars, 0 del conss, 0 add conss, 0 chg bounds, 0 chg sides, 0 chg coeffs, 0 upgd conss, 2400 impls, 0 clqs\n",
      "clique table cleanup detected 0 bound changes\n",
      "\n",
      "presolved problem has 18050 active (30.0583%) nonzeros and 18050 (30.0583%) check nonzeros\n",
      "\n",
      "presolving (2 rounds: 2 fast, 1 medium, 1 exhaustive):\n",
      " 1257 deleted vars, 0 deleted constraints, 0 added constraints, 0 tightened bounds, 0 added holes, 0 changed sides, 0 changed coefficients\n",
      " 2400 implications, 0 cliques\n",
      "presolved problem has 1201 variables (1 bin, 0 int, 0 impl, 1200 cont) and 50 constraints\n",
      "     50 constraints of type <nonlinear>\n",
      "Presolving Time: 0.88\n",
      "transformed 4/5 original solutions to the transformed problem space\n",
      "\n",
      " time | node  | left  |LP iter|LP it/n|mem/heur|mdpt |vars |cons |rows |cuts |sepa|confs|strbr|  dualbound   | primalbound  |  gap   | compl. \n",
      " 17.9s|     1 |     0 | 31958 |     - |   249M |   0 |2453 |  50 |1857 |   0 |  0 |   1 |   0 | 1.410603e+03 | 1.382473e+03 |   2.03%| unknown\n",
      " 17.9s|     1 |     0 | 31963 |     - |   249M |   0 |2453 |  50 |1859 |   2 |  1 |   1 |   0 | 1.410603e+03 | 1.382473e+03 |   2.03%| unknown\n",
      " 17.9s|     1 |     0 | 31964 |     - |   249M |   0 |2453 |  50 |1860 |   3 |  2 |   1 |   0 | 1.410603e+03 | 1.382473e+03 |   2.03%| unknown\n",
      " 17.9s|     1 |     0 | 31965 |     - |   249M |   0 |2453 |  50 |1861 |   4 |  3 |   1 |   0 | 1.410603e+03 | 1.382473e+03 |   2.03%| unknown\n",
      " 17.9s|     1 |     0 | 31966 |     - |   249M |   0 |2453 |  50 |1862 |   5 |  4 |   1 |   0 | 1.410603e+03 | 1.382473e+03 |   2.03%| unknown\n",
      " 17.9s|     1 |     0 | 31967 |     - |   249M |   0 |2453 |  50 |1863 |   6 |  5 |   1 |   0 | 1.410603e+03 | 1.382473e+03 |   2.03%| unknown\n",
      " 17.9s|     1 |     0 | 31968 |     - |   249M |   0 |2453 |  50 |1864 |   7 |  6 |   1 |   0 | 1.410603e+03 | 1.382473e+03 |   2.03%| unknown\n",
      " 17.9s|     1 |     0 | 31971 |     - |   249M |   0 |2453 |  50 |1865 |   8 |  7 |   1 |   0 | 1.410603e+03 | 1.382473e+03 |   2.03%| unknown\n",
      " 17.9s|     1 |     0 | 31973 |     - |   249M |   0 |2453 |  50 |1866 |   9 |  8 |   1 |   0 | 1.410603e+03 | 1.382473e+03 |   2.03%| unknown\n",
      " 17.9s|     1 |     0 | 31975 |     - |   249M |   0 |2453 |  50 |1867 |  10 |  9 |   1 |   0 | 1.410603e+03 | 1.382473e+03 |   2.03%| unknown\n",
      " 17.9s|     1 |     0 | 31976 |     - |   249M |   0 |2453 |  50 |1868 |  11 | 10 |   1 |   0 | 1.410603e+03 | 1.382473e+03 |   2.03%| unknown\n",
      " 17.9s|     1 |     0 | 31977 |     - |   249M |   0 |2453 |  50 |1869 |  12 | 11 |   1 |   0 | 1.410603e+03 | 1.382473e+03 |   2.03%| unknown\n",
      " 17.9s|     1 |     0 | 31981 |     - |   249M |   0 |2453 |  50 |1250 |  16 | 12 |   1 |   0 | 1.410603e+03 | 1.382473e+03 |   2.03%| unknown\n",
      " 17.9s|     1 |     0 | 31984 |     - |   249M |   0 |2453 |  50 |1251 |  17 | 13 |   1 |   0 | 1.410603e+03 | 1.382473e+03 |   2.03%| unknown\n",
      " 17.9s|     1 |     0 | 31988 |     - |   249M |   0 |2453 |  50 |1255 |  21 | 14 |   1 |   0 | 1.410603e+03 | 1.382473e+03 |   2.03%| unknown\n",
      " time | node  | left  |LP iter|LP it/n|mem/heur|mdpt |vars |cons |rows |cuts |sepa|confs|strbr|  dualbound   | primalbound  |  gap   | compl. \n",
      " 17.9s|     1 |     0 | 31990 |     - |   249M |   0 |2453 |  50 |1257 |  23 | 15 |   1 |   0 | 1.410603e+03 | 1.382473e+03 |   2.03%| unknown\n",
      " 17.9s|     1 |     0 | 31996 |     - |   249M |   0 |2453 |  50 |1259 |  25 | 16 |   1 |   0 | 1.410603e+03 | 1.382473e+03 |   2.03%| unknown\n",
      " 17.9s|     1 |     0 | 32001 |     - |   249M |   0 |2453 |  50 |1263 |  29 | 17 |   1 |   0 | 1.410603e+03 | 1.382473e+03 |   2.03%| unknown\n",
      " 18.0s|     1 |     0 | 32007 |     - |   249M |   0 |2453 |  50 |1263 |  31 | 18 |   1 |   0 | 1.410603e+03 | 1.382473e+03 |   2.03%| unknown\n",
      " 18.0s|     1 |     0 | 32013 |     - |   249M |   0 |2453 |  50 |1266 |  34 | 19 |   1 |   0 | 1.410603e+03 | 1.382473e+03 |   2.03%| unknown\n",
      " 18.0s|     1 |     0 | 32018 |     - |   250M |   0 |2453 |  50 |1268 |  36 | 20 |   1 |   0 | 1.410603e+03 | 1.382473e+03 |   2.03%| unknown\n",
      " 18.0s|     1 |     0 | 32020 |     - |   250M |   0 |2453 |  50 |1273 |  41 | 21 |   1 |   0 | 1.410603e+03 | 1.382473e+03 |   2.03%| unknown\n",
      " 18.0s|     1 |     0 | 32023 |     - |   250M |   0 |2453 |  50 |1275 |  43 | 22 |   1 |   0 | 1.410603e+03 | 1.382473e+03 |   2.03%| unknown\n",
      " 18.1s|     1 |     0 | 32025 |     - |   250M |   0 |2453 |  50 |1276 |  44 | 23 |   1 |   0 | 1.410603e+03 | 1.382473e+03 |   2.03%| unknown\n",
      " 18.1s|     1 |     0 | 32029 |     - |   250M |   0 |2453 |  50 |1274 |  45 | 24 |   1 |   0 | 1.410603e+03 | 1.382473e+03 |   2.03%| unknown\n",
      " 18.1s|     1 |     0 | 32031 |     - |   250M |   0 |2453 |  50 |1275 |  46 | 25 |   1 |   0 | 1.410603e+03 | 1.382473e+03 |   2.03%| unknown\n",
      " 18.1s|     1 |     0 | 32033 |     - |   250M |   0 |2453 |  50 |1277 |  48 | 26 |   1 |   0 | 1.410603e+03 | 1.382473e+03 |   2.03%| unknown\n",
      " 19.3s|     1 |     0 | 39472 |     - |   274M |   0 |2453 |  50 |1277 |  48 | 27 |   1 |   0 | 1.410603e+03 | 1.382473e+03 |   2.03%| unknown\n",
      " 19.3s|     1 |     2 | 39478 |     - |   274M |   0 |2453 |  50 |1277 |  48 | 28 |   1 |   0 | 1.410603e+03 | 1.382473e+03 |   2.03%| unknown\n",
      "\n",
      "SCIP Status        : problem is solved [optimal solution found]\n",
      "Solving Time (sec) : 19.38\n",
      "Solving Nodes      : 3 (total of 4 nodes in 2 runs)\n",
      "Primal Bound       : +1.38247299726299e+03 (5 solutions)\n",
      "Dual Bound         : +1.38247299726299e+03\n",
      "Gap                : 0.00 %\n"
     ]
    }
   ]
  },
  {
   "cell_type": "code",
   "outputs": [
    {
     "name": "stdout",
     "output_type": "stream",
     "text": [
      "C-Rate Investment = Nein von 0.5 auf 1\n",
      "Nennkapazität erhöhen: Nein von 40 auf 50 MWh\n",
      "Zyklen pro Tag erhöhen: Nein von 2 auf 3\n",
      "Wirkungsgrad erhöhen: Ja von 0.960375 auf 0.9801875 und 0.9597435897435898 auf 0.9798717948717949\n"
     ]
    }
   ],
   "source": [
    "print(f\"C-Rate Investment = {\"Ja\" if scip.getVal(inv_c_rate) else \"Nein\"} von {c} auf {c_pro}\")\n",
    "print(f\"Nennkapazität erhöhen: {\"Ja\" if scip.getVal(inv_nennkapazität) else \"Nein\"} von {nennkapazität} auf {nennkapazität_pro} MWh\")\n",
    "print(f\"Zyklen pro Tag erhöhen: {\"Ja\" if scip.getVal(inv_zyklen_pro_tag) else \"Nein\"} von {erlaubte_zyklen_pro_tag} auf {erlaubte_zyklen_pro_tag_pro}\")\n",
    "print(f\"Wirkungsgrad erhöhen: {\"Ja\" if scip.getVal(inv_wirkungsgrad) else \"Nein\"} von {f_e} auf {f_e_pro} und {f_v} auf {f_v_pro}\")\n"
   ],
   "metadata": {
    "collapsed": false,
    "ExecuteTime": {
     "end_time": "2025-01-26T18:28:30.791626Z",
     "start_time": "2025-01-26T18:28:30.788604Z"
    }
   },
   "execution_count": 11
  },
  {
   "cell_type": "code",
   "outputs": [
    {
     "name": "stdout",
     "output_type": "stream",
     "text": [
      "62.71179487179489\n",
      "65.29363004527195\n"
     ]
    }
   ],
   "source": [
    "sum_v = 0\n",
    "sum_e = 0\n",
    "for h in H: \n",
    "    for r in R:\n",
    "        sum_v += scip.getVal(v_h_r[(h, r)])\n",
    "        sum_e += scip.getVal(e_h_r[(h, r)])\n",
    "\n",
    "print(sum_v)\n",
    "print(sum_e)"
   ],
   "metadata": {
    "collapsed": false,
    "ExecuteTime": {
     "end_time": "2025-01-26T18:28:30.797458Z",
     "start_time": "2025-01-26T18:28:30.792809Z"
    }
   },
   "execution_count": 12
  },
  {
   "cell_type": "code",
   "outputs": [
    {
     "name": "stdout",
     "output_type": "stream",
     "text": [
      "Worksheet 'var3' found. Writing solution...\n",
      "Solution written to 'Ergebnisse.xlsx' in the 'var3' worksheet.\n"
     ]
    }
   ],
   "source": [
    "# Ergebnisse in Excel speichern\n",
    "\n",
    "import pandas as pd\n",
    "from openpyxl import load_workbook\n",
    "\n",
    "\n",
    "# File and worksheet details\n",
    "file_path = \"Ergebnisse.xlsx\"\n",
    "\n",
    "sheet_name = \"var3\"\n",
    "\n",
    "\n",
    "# Prepare the solution data for export\n",
    "solution_data = {\n",
    "    \"Hour\": [h for h in H],\n",
    "    \"Einkauf\": [],\n",
    "    \"Verkauf\": [],\n",
    "    \"Risikoklasse\": [],\n",
    "    \"Gebotspreis\": [],\n",
    "}\n",
    "\n",
    "# Populate the solution_data dictionary\n",
    "for h in H:\n",
    "    v_h = 0\n",
    "    e_h = 0\n",
    "    risikoklasse_v = None\n",
    "    risikoklasse_e = None\n",
    "    for r in R:\n",
    "        # Update the Verkauf and Einkauf values for the current hour\n",
    "        v_h += scip.getVal(v_h_r[(h, r)])\n",
    "        e_h += scip.getVal(e_h_r[(h, r)])\n",
    "        # Determine the risk class for Verkauf and Einkauf\n",
    "        if scip.getVal(v_h_r[(h, r)]) > 0:\n",
    "            risikoklasse_v = r\n",
    "        if scip.getVal(e_h_r[(h, r)]) > 0:\n",
    "            risikoklasse_e = r\n",
    "\n",
    "    # Append rounded values and risk classes to the solution data\n",
    "    solution_data[\"Einkauf\"].append(round(e_h, 3))\n",
    "    solution_data[\"Verkauf\"].append(round(v_h, 3))\n",
    "    solution_data[\"Risikoklasse\"].append(\n",
    "        risikoklasse_v if round(v_h, 3) > 0 else risikoklasse_e if round(e_h, 3) > 0 else \"\"\n",
    "    )\n",
    "    solution_data[\"Gebotspreis\"].append(\n",
    "        gebotspreis_verkauf_h_r[(h, risikoklasse_v)] if round(v_h, 3) > 0 else gebotspreis_einkauf_h_r[(h, risikoklasse_e)] if round(e_h, 3) > 0 else \"\"\n",
    "    )\n",
    "\n",
    "# Convert to a DataFrame\n",
    "solution_df = pd.DataFrame(solution_data)\n",
    "\n",
    "# Write to Excel\n",
    "try:\n",
    "    # Load the workbook to check for existing worksheets\n",
    "    workbook = load_workbook(file_path)\n",
    "    if sheet_name not in workbook.sheetnames:\n",
    "        # If the worksheet doesn't exist, create it\n",
    "        print(f\"Worksheet '{sheet_name}' not found. Creating it...\")\n",
    "        with pd.ExcelWriter(file_path, mode=\"a\", engine=\"openpyxl\") as writer:\n",
    "            solution_df.to_excel(writer, sheet_name=sheet_name, index=False)\n",
    "    else:\n",
    "        # If the worksheet exists, overwrite it\n",
    "        print(f\"Worksheet '{sheet_name}' found. Writing solution...\")\n",
    "        with pd.ExcelWriter(file_path, mode=\"a\", engine=\"openpyxl\", if_sheet_exists=\"replace\") as writer:\n",
    "            solution_df.to_excel(writer, sheet_name=sheet_name, index=False)\n",
    "except FileNotFoundError:\n",
    "    # If the file doesn't exist, create it and write the solution\n",
    "    print(f\"File '{file_path}' not found. Creating it and writing solution...\")\n",
    "    with pd.ExcelWriter(file_path, mode=\"w\", engine=\"openpyxl\") as writer:\n",
    "        solution_df.to_excel(writer, sheet_name=sheet_name, index=False)\n",
    "\n",
    "print(f\"Solution written to '{file_path}' in the '{sheet_name}' worksheet.\")\n"
   ],
   "metadata": {
    "collapsed": false,
    "ExecuteTime": {
     "end_time": "2025-01-26T18:28:30.851908Z",
     "start_time": "2025-01-26T18:28:30.798490Z"
    }
   },
   "execution_count": 13
  }
 ]
}
