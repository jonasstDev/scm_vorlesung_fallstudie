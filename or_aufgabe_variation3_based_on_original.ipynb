{
 "nbformat": 4,
 "nbformat_minor": 0,
 "metadata": {
  "colab": {
   "provenance": []
  },
  "kernelspec": {
   "name": "python3",
   "language": "python",
   "display_name": "Python 3 (ipykernel)"
  },
  "language_info": {
   "name": "python"
  }
 },
 "cells": [
  {
   "cell_type": "code",
   "execution_count": 1,
   "metadata": {
    "id": "ZnQ8O5cCDDQL",
    "ExecuteTime": {
     "end_time": "2025-01-26T10:57:35.623620Z",
     "start_time": "2025-01-26T10:57:35.595638Z"
    }
   },
   "outputs": [],
   "source": [
    "# pip als Paketmanager\n",
    "#! pip install -q pyscipopt\n",
    "#! pip install pandas\n",
    "#!pip install openpyxl"
   ]
  },
  {
   "cell_type": "code",
   "source": [
    "from pyscipopt import Model, quicksum"
   ],
   "metadata": {
    "id": "X2VAyQ7jDpsj",
    "ExecuteTime": {
     "end_time": "2025-01-26T10:57:35.704217Z",
     "start_time": "2025-01-26T10:57:35.625790Z"
    }
   },
   "execution_count": 2,
   "outputs": []
  },
  {
   "cell_type": "markdown",
   "source": [
    "**Optimierungsmodell für den Kauf und Verkauf von Strom auf dem Strommarkt**"
   ],
   "metadata": {
    "id": "X5_MT5TQDrb4"
   }
  },
  {
   "cell_type": "code",
   "source": [
    "# Erstellen einer Modellinstanz\n",
    "scip = Model()"
   ],
   "metadata": {
    "id": "B4-fy7HIEAsr",
    "ExecuteTime": {
     "end_time": "2025-01-26T10:57:35.709042Z",
     "start_time": "2025-01-26T10:57:35.704861Z"
    }
   },
   "execution_count": 3,
   "outputs": []
  },
  {
   "cell_type": "markdown",
   "source": [
    "**Indexmenge**"
   ],
   "metadata": {
    "id": "m3fgChtdEDH5"
   }
  },
  {
   "cell_type": "code",
   "source": [
    "# Investition über Zeitraum j Monate\n",
    "j = 1\n",
    "\n",
    "H = [n for n in range(1, 24*30*j+1)]\n",
    "R = [r for r in range(0, 25)]\n",
    "# Erklärung:\n",
    "# es gibt 26 Risikoabstufungen, höchstes R -> höchstes Risiko, r=0, kein Risiko\n",
    "#-> kein Risiko + normaler EW, Risikoklasse 1=4% Risiko und EW ergibt sich aus top 96% der Preisprognosen für h, etc.\n",
    "\n",
    "# Risikowahrscheinlichkeiten\n",
    "prob_r = {}\n",
    "for r in R:\n",
    "    prob_r[r] = 1 - r/25\n",
    "\n"
   ],
   "metadata": {
    "id": "_s8ylJM4EHTo",
    "colab": {
     "base_uri": "https://localhost:8080/"
    },
    "outputId": "4f9154d4-02fe-4c97-f951-758e6762265e",
    "ExecuteTime": {
     "end_time": "2025-01-26T10:57:35.713112Z",
     "start_time": "2025-01-26T10:57:35.710090Z"
    }
   },
   "execution_count": 4,
   "outputs": []
  },
  {
   "cell_type": "markdown",
   "source": [
    "**Batterie-Systemspezifikationen**"
   ],
   "metadata": {
    "id": "tNBFK_MnEKQt"
   }
  },
  {
   "cell_type": "code",
   "source": [
    "wirkungsgrad_wechselrichter = 0.985\n",
    "\n",
    "wirkungsgrad_laden = 0.975\n",
    "\n",
    "round_trip_efficiency = 0.95\n",
    "entlade_verlust = wirkungsgrad_laden - round_trip_efficiency\n",
    "\n",
    "wirkungsgrad_systemeingang = wirkungsgrad_wechselrichter * wirkungsgrad_laden\n",
    "wirkungsgrad_systemausgang = (1-(entlade_verlust / wirkungsgrad_laden)) * wirkungsgrad_wechselrichter\n",
    "\n",
    "\n",
    "\n",
    "f_e = wirkungsgrad_systemeingang # Faktor Einkauf\n",
    "f_v = wirkungsgrad_systemausgang # Faktor Verkauf\n",
    "\n",
    "# Durch investition verbesserte Wirkungsgrad-Faktoren: (Effizienzverluste halbiert), Kosten:\n",
    "f_e_pro = 1-((1 - f_e)*0.5)\n",
    "f_v_pro = 1-((1 - f_v)*0.5)\n",
    "\n",
    "\n",
    "nennkapazität = 40 # MWh brutto\n",
    "nennkapazität_pro = 50 # Kosten:\n",
    "\n",
    "lademinimum = 0.2 # 20%\n",
    "lademaximum = 1 # 100%\n",
    "anfangsbestand = 0.5 # 50%\n",
    "\n",
    "nettokapazität = zyklus = nennkapazität * (lademaximum - lademinimum) # MWh netto\n",
    "nettokapazität_pro = nennkapazität_pro * (lademaximum - lademinimum) # Kosten:\n",
    "\n",
    "zykluskosten = 1500 # € / zyklus\n",
    "mwh_zykluskosten = zykluskosten / zyklus # € / MWh\n",
    "\n",
    "erlaubte_zyklen_pro_tag = 2\n",
    "erlaubte_zyklen_pro_tag_pro = 3\n",
    "\n",
    "a = anfangsbestand * nennkapazität # MWh Anfangs- und Endbestand\n",
    "u = lademinimum * nennkapazität # MWh Untergrenze Batteriekapazität\n",
    "o = lademaximum * nennkapazität # MWh Obergrenze Batteriekapazität\n",
    "\n",
    "c = 0.5 # nennkapazität / h\n",
    "c_pro = 1 # Kosten:\n",
    "\n",
    "# Prozentuale penalty, wenn nicht Zuschlag\n",
    "penalty_anteil = 1\n",
    "penalty = 1 + penalty_anteil\n",
    "\n",
    "\n",
    "\n",
    "# -> Wir haben vier Investitionsentscheidungen (f_e_pro und f_v_pro, c_pro, nennkapazität_pro und erlaubte_zyklen_pro_tag_pro)"
   ],
   "metadata": {
    "colab": {
     "base_uri": "https://localhost:8080/"
    },
    "id": "dbHcYiqREQ3l",
    "outputId": "37c0a831-76b1-4edb-a83f-08bd2004494d",
    "ExecuteTime": {
     "end_time": "2025-01-26T10:57:35.717866Z",
     "start_time": "2025-01-26T10:57:35.714748Z"
    }
   },
   "execution_count": 5,
   "outputs": []
  },
  {
   "cell_type": "markdown",
   "source": [
    "**Vorhersagedaten**"
   ],
   "metadata": {
    "id": "uXv-Z9v_ESaI"
   }
  },
  {
   "cell_type": "code",
   "source": [
    "import pandas as pd\n",
    "\n",
    "prognose = pd.read_excel('Preisprognosen.xlsx')\n",
    "\n",
    "# Erwartungswerte nach Risikoklasse und Stunde für Einkauf\n",
    "\n",
    "preis_verkauf_h_r = {}\n",
    "preis_einkauf_h_r = {}\n",
    "\n",
    "r = 0\n",
    "for h in range(1,25):\n",
    "  # Berechnung von \"Standard-EW\" für Stunde h\n",
    "  stundenprognose = prognose[prognose['Stunde'] == h]\n",
    "  #Sortiere stundenprognose nach dem Wert in Spalte \"Strompreis\"\n",
    "  stundenprognose = stundenprognose.sort_values(by='Strompreis')\n",
    "  # Index zurücksetzen\n",
    "  stundenprognose = stundenprognose.reset_index(drop=True)\n",
    "  #print(stundenprognose)\n",
    "  for i in range(0, 30*j+1):\n",
    "    #iteriere außerdem j*30 über den df\n",
    "    # Nehme den Durschnitt von der Spalte \"Strompreis\" vom Index r bis zum höchsten Index\n",
    "      preis_verkauf_h_r[(h+i*24, r)] = stundenprognose.loc[r:24, 'Strompreis'].mean()\n",
    "      preis_einkauf_h_r[(h+i*24, r)] = stundenprognose.loc[0:24-r, 'Strompreis'].mean()\n",
    "   \n",
    "    \n",
    "\n",
    "# Für die Berechnung der Penalty möchten wir den Durchschnittspreis der umliegenden Stunden zu jeder Stunde haben\n",
    "moving_average_h = {}\n",
    "for h in range(1,25):\n",
    "  stundenprognose = prognose[prognose['Stunde'].isin([h-1,h,h+1])]\n",
    "  for i in range(0,30*j+1):\n",
    "    moving_average_h[h+i*24] = stundenprognose['Strompreis'].mean()\n"
   ],
   "metadata": {
    "colab": {
     "base_uri": "https://localhost:8080/"
    },
    "id": "UabCBzkIEXMD",
    "outputId": "48b5eb6c-ea4b-4cc8-be74-65a421eb54f9",
    "ExecuteTime": {
     "end_time": "2025-01-26T10:57:36.248960Z",
     "start_time": "2025-01-26T10:57:35.718552Z"
    }
   },
   "execution_count": 6,
   "outputs": []
  },
  {
   "cell_type": "markdown",
   "source": [
    "**Entscheidungsvariablen**"
   ],
   "metadata": {
    "id": "DMgUDSvBEbtt"
   }
  },
  {
   "cell_type": "code",
   "source": [
    "# Für jede Risikoklasse und jede Stunde eine Mengen-Variable\n",
    "e_h_r={}\n",
    "v_h_r={}\n",
    "\n",
    "# Investitionsentscheidungen\n",
    "inv_c_rate = scip.addVar(vtype=\"B\", name=f\"Investition_c-Rate\")\n",
    "inv_nennkapazität = scip.addVar(vtype=\"B\", name=f\"Investition_Nennkapa\")\n",
    "inv_zyklen_pro_tag = scip.addVar(vtype=\"B\", name=f\"Investition_Zyklen_pro_Tag\")\n",
    "inv_wirkungsgrad = scip.addVar(vtype=\"B\", name=f\"Investition_Wirkungsgrad\")\n",
    "\n",
    "for h in H:\n",
    "    #  Für jede Risikoklasse und jede Stunde eine Mengen-Variable, ob man zu dieser Stunde bei dieser Risikoklasse die entsprechende Menge einkaufen möchte\n",
    "    \n",
    "      e_h_r[(h, r)] = scip.addVar(vtype='C', lb=0, ub=None, name=f\"e_{h}_{r}\")\n",
    "      v_h_r[(h, r)] = scip.addVar(vtype='C', lb=0, ub=None, name=f\"v_{h}_{r}\")\n"
   ],
   "metadata": {
    "id": "b6h0dqgcEiTE",
    "colab": {
     "base_uri": "https://localhost:8080/"
    },
    "outputId": "586e35e2-f59b-423d-ebdf-4d09529a504b",
    "ExecuteTime": {
     "end_time": "2025-01-26T10:57:36.255558Z",
     "start_time": "2025-01-26T10:57:36.249618Z"
    }
   },
   "execution_count": 7,
   "outputs": []
  },
  {
   "cell_type": "markdown",
   "source": [
    "# **Zielfunktion**"
   ],
   "metadata": {
    "id": "mAMlXtDUGNDN"
   }
  },
  {
   "cell_type": "code",
   "source": [
    "r = 0\n",
    "gewinn_kauf_verkauf = quicksum(((preis_verkauf_h_r[(h, r)] * v_h_r[(h, r)] * prob_r[r] +             \\\n",
    "                                 moving_average_h[h] * v_h_r[(h, r)] * (1-prob_r[r]) * 1/penalty) -       \\\n",
    "\n",
    "                                (preis_einkauf_h_r[(h, r)] * e_h_r[(h, r)] * prob_r[r] +             \\\n",
    "                                 moving_average_h[h] * e_h_r[(h, r)] * (1-prob_r[r]) * penalty ))        \\\n",
    "\n",
    "                               for h in H )\n",
    "\n",
    "\n",
    "# Bei 3 Zyklen Investition kostet der dritte Zyklus nur 1000 mehr pro Tag (anstatt 1.500), also Skaleneffekte. Quelle: haben wir uns ausgedacht\n",
    "zykluskosten = (3000 + (1000 * inv_zyklen_pro_tag)) * 30 * j\n",
    "\n",
    "# Investitionskosten, direkt mit der Binärvariable multipliziert, sodass sie nur Anwendung finden wenn man sich für die Inv entscheidet\n",
    "investitionskosten_c_rate = 50_000 * inv_c_rate\n",
    "investitionskosten_nennkapazität = 50_000 *  inv_nennkapazität\n",
    "investitionskosten_zyklen_pro_tag = 50_000 * inv_zyklen_pro_tag\n",
    "investitionskosten_wirkungsgrad = 100_000 * inv_wirkungsgrad\n",
    "\n",
    "\n",
    "scip.setObjective(gewinn_kauf_verkauf - zykluskosten - (investitionskosten_nennkapazität/12 + investitionskosten_c_rate/12 + inv_zyklen_pro_tag/12 + inv_wirkungsgrad/12 + investitionskosten_wirkungsgrad/12), sense=\"maximize\")"
   ],
   "metadata": {
    "id": "adVdozuvGPtc",
    "colab": {
     "base_uri": "https://localhost:8080/"
    },
    "outputId": "b42fd577-0afc-482f-9b7c-24d1a234618b",
    "ExecuteTime": {
     "end_time": "2025-01-26T10:57:36.267136Z",
     "start_time": "2025-01-26T10:57:36.256378Z"
    }
   },
   "execution_count": 8,
   "outputs": []
  },
  {
   "cell_type": "markdown",
   "source": [
    "***Nebenbedingungen/ Restriktionen***"
   ],
   "metadata": {
    "id": "4LJ8EtXBGw06"
   }
  },
  {
   "cell_type": "code",
   "source": [
    "f_e_inv = ((f_e*(1-inv_wirkungsgrad))+(f_e_pro*inv_wirkungsgrad))\n",
    "f_v_inv = ((f_v*(1-inv_wirkungsgrad))+(f_v_pro*inv_wirkungsgrad))\n",
    "\n",
    "erlaubte_zyklen_pro_tag_inv = ((erlaubte_zyklen_pro_tag*(1-inv_zyklen_pro_tag))+(erlaubte_zyklen_pro_tag_pro*inv_zyklen_pro_tag))\n",
    "\n",
    "nettokapazität_inv = ((nettokapazität*(1-inv_nennkapazität))+nettokapazität_pro*inv_nennkapazität)\n",
    "\n",
    "# Ladestand zur Stunde 0 = Ladestand zur Stunde 24, also Summe Lademenge und Entlademenge gleich\n",
    "scip.addCons(quicksum(((e_h_r[(h,r)] * f_e_inv) - (v_h_r[(h,r)] / f_v_inv)) for h in H) == 0, name=\"Anfangs- und Endbestand gleich\")\n",
    "print(\"added: Anfangs- und Endbestand gleich\")\n",
    "\n",
    "# Maximale Ladezyklen am pro Tag anhand der Einkaufsmenge (mit Faktor = Lademenge), alternativ anhand der Verkaufsmenge\n",
    "scip.addCons(quicksum((e_h_r[(h,r)] * f_e_inv) for h in H) <= (erlaubte_zyklen_pro_tag_inv * nettokapazität_inv * 30 * j), name=\"Maximale Ladezyklen pro Tag\")\n",
    "print(\"added: Maximale Ladezyklen pro Tag\")\n",
    "\n",
    "# Mindestladestand nicht unterschritten und Höchstladestand nicht überschritten\n",
    "# Mindestladestand nicht unterschritten und Höchstladestand nicht überschritten\n",
    "for h in H:\n",
    "    if h % 100 == 0: print(f\"Stunde {h} wird hinzugefügt\")\n",
    "    H_t =  [n for n in range(1, h+1)]\n",
    "    scip.addCons( (a + quicksum(((e_h_r[(t, r)] * f_e_inv) - (v_h_r[(t, r)] / f_v_inv)) for t in H_t)) >= u, name=f\"Mindestladestand zum Zeitpunkt t={h}\")\n",
    "    scip.addCons( (a + quicksum(((e_h_r[(t, r)] * f_e_inv) - (v_h_r[(t, r)] / f_v_inv)) for t in H_t)) <= o, name=f\"Maximalladestand zum Zeitpunkt t={h}\")\n",
    "\n",
    "# Lade- und Entladeleistung begrenzt (C-Rate)\n",
    "for h in H:\n",
    "    if h % 100 == 0: print(f\"Stunde {h} wird hinzugefügt\")\n",
    "    scip.addCons(((e_h_r[(h, r)] * f_e_inv) + (v_h_r[(h, r)] / f_v_inv))  <= c * nennkapazität, name=f\"Lade-/Entladeleistung der Stunde h={h}\")"
   ],
   "metadata": {
    "id": "drIHi2kOG9Mx",
    "ExecuteTime": {
     "end_time": "2025-01-26T10:58:05.401371Z",
     "start_time": "2025-01-26T10:57:36.267849Z"
    }
   },
   "execution_count": 9,
   "outputs": [
    {
     "name": "stdout",
     "output_type": "stream",
     "text": [
      "added: Anfangs- und Endbestand gleich\n",
      "added: Maximale Ladezyklen pro Tag\n",
      "Stunde 100 wird hinzugefügt\n",
      "Stunde 200 wird hinzugefügt\n",
      "Stunde 300 wird hinzugefügt\n",
      "Stunde 400 wird hinzugefügt\n",
      "Stunde 500 wird hinzugefügt\n",
      "Stunde 600 wird hinzugefügt\n",
      "Stunde 700 wird hinzugefügt\n",
      "Stunde 100 wird hinzugefügt\n",
      "Stunde 200 wird hinzugefügt\n",
      "Stunde 300 wird hinzugefügt\n",
      "Stunde 400 wird hinzugefügt\n",
      "Stunde 500 wird hinzugefügt\n",
      "Stunde 600 wird hinzugefügt\n",
      "Stunde 700 wird hinzugefügt\n"
     ]
    }
   ]
  },
  {
   "cell_type": "markdown",
   "source": [
    "**Berechnung der Lösung**"
   ],
   "metadata": {
    "id": "z30z05i1HAMS"
   }
  },
  {
   "cell_type": "code",
   "source": [
    "scip.setIntParam(\"display/verblevel\", 5)  # Set verbosity level to 5\n",
    "\n",
    "\n",
    "scip.optimize()\n",
    "# Status des Solvers\n",
    "status = scip.getStatus()\n",
    "print(f\"Status des Solvers: {status} \\n\")\n",
    "\n",
    "if status == \"optimal\":\n",
    "    print('LÖSUNG:')\n",
    "    print('Zielfunktionswert (Gewinn) =', scip.getObjVal())\n",
    "    for h in H:\n",
    "      v_h = 0\n",
    "      e_h = 0\n",
    "      risikoklasse_v = None\n",
    "      risikodict_v = {}\n",
    "      risikoklasse_e = None\n",
    "      risikodict_e = {}\n",
    "\n",
    "      \n",
    "\n",
    "      v_h += scip.getVal(v_h_r[(h, r)])\n",
    "      e_h += scip.getVal(e_h_r[(h, r)])  \n",
    "      print(\"EINKAUF Stunde\", h, \" : \" , e_h)\n",
    "      if risikoklasse_e != None: print(\"EINKAUF Risikoklasse Stunde\", h, \" : \", risikoklasse_e)\n",
    "      #print(\"EINKAUF Risiko: \", risikodict_e)\n",
    "      print(\"Verkauf Stunde\", h, \" : \" , v_h)\n",
    "      if risikoklasse_v != None: print(\"VERKAUF Risikoklasse Stunde\", h, \" : \", risikoklasse_v)\n",
    "      #print(\"VERKAUF Risiko: \", risikodict_v)\n",
    "else:\n",
    "    print('Problem hat keine Lösung')"
   ],
   "metadata": {
    "id": "UJ1ttWA9HCXI",
    "is_executing": true
   },
   "execution_count": null,
   "outputs": []
  },
  {
   "cell_type": "code",
   "outputs": [],
   "source": [
    "print(scip.getVal(inv_c_rate))\n",
    "print(scip.getVal(inv_nennkapazität))\n",
    "print(scip.getVal(inv_zyklen_pro_tag))\n",
    "print(scip.getVal(inv_wirkungsgrad))\n"
   ],
   "metadata": {
    "collapsed": false,
    "is_executing": true
   },
   "execution_count": null
  },
  {
   "cell_type": "code",
   "outputs": [],
   "source": [
    "sum_v = 0\n",
    "sum_e = 0\n",
    "for h in H: \n",
    "    sum_v += scip.getVal(v_h_r[(h, r)])\n",
    "    sum_e += scip.getVal(e_h_r[(h, r)])\n",
    "    \n",
    "print(sum_v)\n",
    "print(sum_e)"
   ],
   "metadata": {
    "collapsed": false,
    "is_executing": true
   },
   "execution_count": null
  },
  {
   "cell_type": "code",
   "outputs": [],
   "source": [],
   "metadata": {
    "collapsed": false,
    "is_executing": true
   },
   "execution_count": null
  }
 ]
}
