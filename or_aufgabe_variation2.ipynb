{
 "nbformat": 4,
 "nbformat_minor": 0,
 "metadata": {
  "colab": {
   "provenance": []
  },
  "kernelspec": {
   "name": "python3",
   "language": "python",
   "display_name": "Python 3 (ipykernel)"
  },
  "language_info": {
   "name": "python"
  }
 },
 "cells": [
  {
   "cell_type": "code",
   "execution_count": 23,
   "metadata": {
    "id": "ZnQ8O5cCDDQL",
    "ExecuteTime": {
     "end_time": "2025-01-26T18:07:54.390558Z",
     "start_time": "2025-01-26T18:07:54.355386Z"
    }
   },
   "outputs": [],
   "source": [
    "# pip als Paketmanager\n",
    "#! pip install -q pyscipopt\n",
    "#! pip install pandas\n",
    "#!pip install openpyxl"
   ]
  },
  {
   "cell_type": "code",
   "source": [
    "from pyscipopt import Model, quicksum"
   ],
   "metadata": {
    "id": "X2VAyQ7jDpsj",
    "ExecuteTime": {
     "end_time": "2025-01-26T18:07:54.402340Z",
     "start_time": "2025-01-26T18:07:54.394329Z"
    }
   },
   "execution_count": 24,
   "outputs": []
  },
  {
   "cell_type": "markdown",
   "source": [
    "**Optimierungsmodell für den Kauf und Verkauf von Strom auf dem Strommarkt**"
   ],
   "metadata": {
    "id": "X5_MT5TQDrb4"
   }
  },
  {
   "cell_type": "code",
   "source": [
    "# Erstellen einer Modellinstanz\n",
    "scip = Model()"
   ],
   "metadata": {
    "id": "B4-fy7HIEAsr",
    "ExecuteTime": {
     "end_time": "2025-01-26T18:07:54.488760Z",
     "start_time": "2025-01-26T18:07:54.403676Z"
    }
   },
   "execution_count": 25,
   "outputs": []
  },
  {
   "cell_type": "markdown",
   "source": [
    "**Indexmenge**"
   ],
   "metadata": {
    "id": "m3fgChtdEDH5"
   }
  },
  {
   "cell_type": "code",
   "source": [
    "H = [n for n in range(1, 25)]\n",
    "R = [r for r in range(0, 25)]\n",
    "# Erklärung:\n",
    "# es gibt 24 Risikoabstufungen, höchstes R -> höchstes Risiko, r=0, kein Risiko\n",
    "# hohes Risiko => hohe Wahrscheinlichkeit gemäß der Prognosetabelle, den Zuschlag nicht zu bekommen\n",
    "# Je höher die Risikoklasse ist, desto vorteilhafter (niedriger bei Kauf und höher bei Verkauf) ist der Preis, den man als Gebotspreis abgibt\n",
    "# Risikoklasse 0 = kein Risiko -> normaler Erwartungswert\n",
    "# Risikoklasse 1 = 4% \"Risiko\" und kalkulatorischer Erwartungswert wird berechnet wie folgt: \n",
    "    # 96% Eintrittswahrscheinlichkeit -> Erwartungswert aus den nicht durch das Gebot ausgeschlossenen Preismöglichkeit\n",
    "    # 4% Eintrittswahrscheinlichkeit -> Erwartungswert = Moving Average der 3 umliegenden Zeitpunkte verrechnet mit penalty\n",
    "    # kalkulatorischer Erwartungswert ist der gewichtete Durchschnitt nach Eintrittswahrscheinlichkeit\n",
    "\n",
    "# Risikowahrscheinlichkeiten, diese sind nötig, um später die gewichteten Durchschnitte zu bilden\n",
    "prob_r = {}\n",
    "for r in R:\n",
    "    prob_r[r] = 1 - r/25\n",
    "\n",
    "print(prob_r)"
   ],
   "metadata": {
    "id": "_s8ylJM4EHTo",
    "colab": {
     "base_uri": "https://localhost:8080/"
    },
    "outputId": "196578c1-3871-44cc-fc14-1f3ea5fad4db",
    "ExecuteTime": {
     "end_time": "2025-01-26T18:07:54.494631Z",
     "start_time": "2025-01-26T18:07:54.489965Z"
    }
   },
   "execution_count": 26,
   "outputs": [
    {
     "name": "stdout",
     "output_type": "stream",
     "text": [
      "{0: 1.0, 1: 0.96, 2: 0.92, 3: 0.88, 4: 0.84, 5: 0.8, 6: 0.76, 7: 0.72, 8: 0.6799999999999999, 9: 0.64, 10: 0.6, 11: 0.56, 12: 0.52, 13: 0.48, 14: 0.43999999999999995, 15: 0.4, 16: 0.36, 17: 0.31999999999999995, 18: 0.28, 19: 0.24, 20: 0.19999999999999996, 21: 0.16000000000000003, 22: 0.12, 23: 0.07999999999999996, 24: 0.040000000000000036}\n"
     ]
    }
   ]
  },
  {
   "cell_type": "markdown",
   "source": [
    "**Batterie-Systemspezifikationen**"
   ],
   "metadata": {
    "id": "tNBFK_MnEKQt"
   }
  },
  {
   "cell_type": "code",
   "source": [
    "fixe_zykluskosten = False\n",
    "\n",
    "wirkungsgrad_wechselrichter = 0.985\n",
    "wirkungsgrad_laden = 0.975\n",
    "round_trip_efficiency = 0.95\n",
    "entlade_verlust = wirkungsgrad_laden - round_trip_efficiency\n",
    "\n",
    "wirkungsgrad_systemeingang = wirkungsgrad_wechselrichter * wirkungsgrad_laden\n",
    "wirkungsgrad_systemausgang = (1-(entlade_verlust / wirkungsgrad_laden)) * wirkungsgrad_wechselrichter\n",
    "\n",
    "\n",
    "f_e = wirkungsgrad_systemeingang # Faktor Einkauf\n",
    "f_v = wirkungsgrad_systemausgang # Faktor Verkauf\n",
    "\n",
    "\n",
    "nennkapazität = 40 # MWh brutto\n",
    "lademinimum = 0.2 # 20%\n",
    "lademaximum = 1 # 100%\n",
    "anfangsbestand = 0.5 # 50%\n",
    "\n",
    "nettokapazität = zyklus = nennkapazität * (lademaximum - lademinimum) # MWh netto\n",
    "zykluskosten = 1500 # € / zyklus\n",
    "mwh_zykluskosten = zykluskosten / zyklus # € / MWh -> entweder geladen oder entladen\n",
    "\n",
    "erlaubte_zyklen_pro_tag = 2\n",
    "\n",
    "a = anfangsbestand * nennkapazität # MWh Anfangs- und Endbestand\n",
    "u = lademinimum * nennkapazität # MWh Untergrenze Batteriekapazität\n",
    "o = lademaximum * nennkapazität # MWh Obergrenze Batteriekapazität\n",
    "\n",
    "c = 0.5 # nennkapazität / h\n",
    "\n",
    "# Prozentuale penalty, wenn nicht Zuschlag\n",
    "penalty = 2 # 200%\n",
    "\n",
    "\n",
    "# Sicherstellen, dass unsere Faktoren für Systemeingang und -ausgang den multiplizierten Wirkungsgraden entspricht\n",
    "print(wirkungsgrad_systemeingang*wirkungsgrad_systemausgang)\n",
    "print(wirkungsgrad_wechselrichter*wirkungsgrad_wechselrichter*round_trip_efficiency)"
   ],
   "metadata": {
    "colab": {
     "base_uri": "https://localhost:8080/"
    },
    "id": "dbHcYiqREQ3l",
    "outputId": "bfc5a22d-31f3-45d6-8e7d-b0d15c61da06",
    "ExecuteTime": {
     "end_time": "2025-01-26T18:07:54.502816Z",
     "start_time": "2025-01-26T18:07:54.495742Z"
    }
   },
   "execution_count": 27,
   "outputs": [
    {
     "name": "stdout",
     "output_type": "stream",
     "text": [
      "0.92171375\n",
      "0.92171375\n"
     ]
    }
   ]
  },
  {
   "cell_type": "markdown",
   "source": [
    "**Vorhersagedaten**"
   ],
   "metadata": {
    "id": "uXv-Z9v_ESaI"
   }
  },
  {
   "cell_type": "code",
   "source": [
    "import pandas as pd\n",
    "\n",
    "prognose = pd.read_excel('Preisprognosen.xlsx')\n",
    "\n",
    "\n",
    "# Erwartungswerte nach Risikoklasse und Stunde für Einkauf\n",
    "\n",
    "preis_verkauf_h_r = {}\n",
    "preis_einkauf_h_r = {}\n",
    "\n",
    "gebotspreis_verkauf_h_r = {}\n",
    "gebotspreis_einkauf_h_r = {}\n",
    "\n",
    "\n",
    "for h in H:\n",
    "  # Berechnung von \"Standard-EW\" für Stunde h\n",
    "  stundenprognose = prognose[prognose['Stunde'] == h]\n",
    "  # Sortiere stundenprognose nach dem Wert in Spalte \"Strompreis\"\n",
    "  stundenprognose = stundenprognose.sort_values(by='Strompreis')\n",
    "  # Index zurücksetzen\n",
    "  stundenprognose = stundenprognose.reset_index(drop=True)\n",
    "  for r in R:\n",
    "    # Nehme den Durschnitt von der Spalte \"Strompreis\" vom Index r bis zum höchsten Index\n",
    "\n",
    "    preis_verkauf_h_r[(h, r)] = stundenprognose.loc[r:24, 'Strompreis'].mean()\n",
    "    gebotspreis_verkauf_h_r[(h, r)] = stundenprognose.loc[r:24, 'Strompreis'].min()\n",
    "    \n",
    "    preis_einkauf_h_r[(h, r)] = stundenprognose.loc[0:24-r, 'Strompreis'].mean()\n",
    "    gebotspreis_einkauf_h_r[(h, r)] = stundenprognose.loc[0:24-r, 'Strompreis'].max()\n",
    "\n",
    "\n",
    "p_h = {}\n",
    "\n",
    "\n",
    "print(preis_verkauf_h_r)\n",
    "print(preis_einkauf_h_r)\n",
    "\n",
    "\n",
    "# Für die Berechnung des Vorfaktors derPenalty möchten wir den Durchschnittspreis der umliegenden Stunden zu jeder Stunde haben\n",
    "moving_average_h = {}\n",
    "for h in H:\n",
    "    stundenprognose = prognose[prognose['Stunde'].isin([h-1,h,h+1])]\n",
    "    moving_average_h[h] = stundenprognose['Strompreis'].mean()\n",
    "\n",
    "print(moving_average_h)"
   ],
   "metadata": {
    "colab": {
     "base_uri": "https://localhost:8080/"
    },
    "id": "UabCBzkIEXMD",
    "outputId": "5dcfae0f-d4cb-45b5-8999-fb52ae6b25ef",
    "ExecuteTime": {
     "end_time": "2025-01-26T18:07:54.780069Z",
     "start_time": "2025-01-26T18:07:54.504450Z"
    }
   },
   "execution_count": 28,
   "outputs": [
    {
     "name": "stdout",
     "output_type": "stream",
     "text": [
      "{(1, 0): np.float64(81.52), (1, 1): np.float64(83.54166666666667), (1, 2): np.float64(85.21739130434783), (1, 3): np.float64(86.77272727272727), (1, 4): np.float64(88.23809523809524), (1, 5): np.float64(89.65), (1, 6): np.float64(91.05263157894737), (1, 7): np.float64(92.44444444444444), (1, 8): np.float64(93.82352941176471), (1, 9): np.float64(95.1875), (1, 10): np.float64(96.6), (1, 11): np.float64(98.0), (1, 12): np.float64(99.46153846153847), (1, 13): np.float64(100.91666666666667), (1, 14): np.float64(102.45454545454545), (1, 15): np.float64(104.1), (1, 16): np.float64(105.77777777777777), (1, 17): np.float64(107.625), (1, 18): np.float64(109.57142857142857), (1, 19): np.float64(111.66666666666667), (1, 20): np.float64(114.0), (1, 21): np.float64(116.75), (1, 22): np.float64(120.0), (1, 23): np.float64(124.0), (1, 24): np.float64(130.0), (2, 0): np.float64(72.24), (2, 1): np.float64(74.08333333333333), (2, 2): np.float64(75.6086956521739), (2, 3): np.float64(77.0), (2, 4): np.float64(78.33333333333333), (2, 5): np.float64(79.6), (2, 6): np.float64(80.84210526315789), (2, 7): np.float64(82.11111111111111), (2, 8): np.float64(83.3529411764706), (2, 9): np.float64(84.625), (2, 10): np.float64(85.86666666666666), (2, 11): np.float64(87.14285714285714), (2, 12): np.float64(88.46153846153847), (2, 13): np.float64(89.83333333333333), (2, 14): np.float64(91.27272727272727), (2, 15): np.float64(92.7), (2, 16): np.float64(94.22222222222223), (2, 17): np.float64(95.875), (2, 18): np.float64(97.71428571428571), (2, 19): np.float64(99.66666666666667), (2, 20): np.float64(101.8), (2, 21): np.float64(104.25), (2, 22): np.float64(107.33333333333333), (2, 23): np.float64(111.0), (2, 24): np.float64(116.0), (3, 0): np.float64(68.16), (3, 1): np.float64(70.08333333333333), (3, 2): np.float64(71.69565217391305), (3, 3): np.float64(73.18181818181819), (3, 4): np.float64(74.57142857142857), (3, 5): np.float64(75.9), (3, 6): np.float64(77.21052631578948), (3, 7): np.float64(78.5), (3, 8): np.float64(79.82352941176471), (3, 9): np.float64(81.125), (3, 10): np.float64(82.46666666666667), (3, 11): np.float64(83.78571428571429), (3, 12): np.float64(85.15384615384616), (3, 13): np.float64(86.58333333333333), (3, 14): np.float64(88.0909090909091), (3, 15): np.float64(89.6), (3, 16): np.float64(91.22222222222223), (3, 17): np.float64(93.0), (3, 18): np.float64(94.85714285714286), (3, 19): np.float64(96.83333333333333), (3, 20): np.float64(99.0), (3, 21): np.float64(101.5), (3, 22): np.float64(104.66666666666667), (3, 23): np.float64(108.5), (3, 24): np.float64(114.0), (4, 0): np.float64(66.64), (4, 1): np.float64(68.66666666666667), (4, 2): np.float64(70.34782608695652), (4, 3): np.float64(71.9090909090909), (4, 4): np.float64(73.38095238095238), (4, 5): np.float64(74.8), (4, 6): np.float64(76.21052631578948), (4, 7): np.float64(77.61111111111111), (4, 8): np.float64(79.0), (4, 9): np.float64(80.375), (4, 10): np.float64(81.8), (4, 11): np.float64(83.21428571428571), (4, 12): np.float64(84.6923076923077), (4, 13): np.float64(86.16666666666667), (4, 14): np.float64(87.72727272727273), (4, 15): np.float64(89.3), (4, 16): np.float64(91.0), (4, 17): np.float64(92.75), (4, 18): np.float64(94.71428571428571), (4, 19): np.float64(96.83333333333333), (4, 20): np.float64(99.2), (4, 21): np.float64(102.0), (4, 22): np.float64(105.33333333333333), (4, 23): np.float64(109.5), (4, 24): np.float64(115.0), (5, 0): np.float64(66.8), (5, 1): np.float64(69.0), (5, 2): np.float64(70.82608695652173), (5, 3): np.float64(72.5), (5, 4): np.float64(74.0952380952381), (5, 5): np.float64(75.65), (5, 6): np.float64(77.15789473684211), (5, 7): np.float64(78.66666666666667), (5, 8): np.float64(80.17647058823529), (5, 9): np.float64(81.6875), (5, 10): np.float64(83.2), (5, 11): np.float64(84.71428571428571), (5, 12): np.float64(86.3076923076923), (5, 13): np.float64(87.91666666666667), (5, 14): np.float64(89.63636363636364), (5, 15): np.float64(91.4), (5, 16): np.float64(93.22222222222223), (5, 17): np.float64(95.25), (5, 18): np.float64(97.42857142857143), (5, 19): np.float64(99.83333333333333), (5, 20): np.float64(102.4), (5, 21): np.float64(105.5), (5, 22): np.float64(109.0), (5, 23): np.float64(113.5), (5, 24): np.float64(120.0), (6, 0): np.float64(71.04), (6, 1): np.float64(73.54166666666667), (6, 2): np.float64(75.6086956521739), (6, 3): np.float64(77.5), (6, 4): np.float64(79.33333333333333), (6, 5): np.float64(81.1), (6, 6): np.float64(82.84210526315789), (6, 7): np.float64(84.55555555555556), (6, 8): np.float64(86.23529411764706), (6, 9): np.float64(87.9375), (6, 10): np.float64(89.66666666666667), (6, 11): np.float64(91.42857142857143), (6, 12): np.float64(93.23076923076923), (6, 13): np.float64(95.08333333333333), (6, 14): np.float64(97.0), (6, 15): np.float64(99.0), (6, 16): np.float64(101.11111111111111), (6, 17): np.float64(103.375), (6, 18): np.float64(105.85714285714286), (6, 19): np.float64(108.5), (6, 20): np.float64(111.4), (6, 21): np.float64(114.75), (6, 22): np.float64(118.66666666666667), (6, 23): np.float64(123.5), (6, 24): np.float64(131.0), (7, 0): np.float64(88.56), (7, 1): np.float64(91.625), (7, 2): np.float64(94.17391304347827), (7, 3): np.float64(96.5), (7, 4): np.float64(98.71428571428571), (7, 5): np.float64(100.85), (7, 6): np.float64(102.94736842105263), (7, 7): np.float64(105.0), (7, 8): np.float64(107.05882352941177), (7, 9): np.float64(109.125), (7, 10): np.float64(111.2), (7, 11): np.float64(113.35714285714286), (7, 12): np.float64(115.53846153846153), (7, 13): np.float64(117.75), (7, 14): np.float64(120.0909090909091), (7, 15): np.float64(122.5), (7, 16): np.float64(125.11111111111111), (7, 17): np.float64(127.875), (7, 18): np.float64(130.85714285714286), (7, 19): np.float64(134.0), (7, 20): np.float64(137.6), (7, 21): np.float64(141.75), (7, 22): np.float64(146.66666666666666), (7, 23): np.float64(153.0), (7, 24): np.float64(162.0), (8, 0): np.float64(92.68), (8, 1): np.float64(96.125), (8, 2): np.float64(99.0), (8, 3): np.float64(101.63636363636364), (8, 4): np.float64(104.14285714285714), (8, 5): np.float64(106.55), (8, 6): np.float64(108.89473684210526), (8, 7): np.float64(111.22222222222223), (8, 8): np.float64(113.52941176470588), (8, 9): np.float64(115.875), (8, 10): np.float64(118.26666666666667), (8, 11): np.float64(120.64285714285714), (8, 12): np.float64(123.07692307692308), (8, 13): np.float64(125.58333333333333), (8, 14): np.float64(128.1818181818182), (8, 15): np.float64(130.9), (8, 16): np.float64(133.77777777777777), (8, 17): np.float64(136.875), (8, 18): np.float64(140.14285714285714), (8, 19): np.float64(143.83333333333334), (8, 20): np.float64(147.8), (8, 21): np.float64(152.5), (8, 22): np.float64(158.0), (8, 23): np.float64(165.0), (8, 24): np.float64(175.0), (9, 0): np.float64(80.92), (9, 1): np.float64(84.20833333333333), (9, 2): np.float64(86.95652173913044), (9, 3): np.float64(89.5), (9, 4): np.float64(91.9047619047619), (9, 5): np.float64(94.2), (9, 6): np.float64(96.47368421052632), (9, 7): np.float64(98.72222222222223), (9, 8): np.float64(100.94117647058823), (9, 9): np.float64(103.1875), (9, 10): np.float64(105.46666666666667), (9, 11): np.float64(107.78571428571429), (9, 12): np.float64(110.15384615384616), (9, 13): np.float64(112.58333333333333), (9, 14): np.float64(115.0909090909091), (9, 15): np.float64(117.7), (9, 16): np.float64(120.44444444444444), (9, 17): np.float64(123.375), (9, 18): np.float64(126.57142857142857), (9, 19): np.float64(130.0), (9, 20): np.float64(133.8), (9, 21): np.float64(138.25), (9, 22): np.float64(143.66666666666666), (9, 23): np.float64(150.5), (9, 24): np.float64(160.0), (10, 0): np.float64(61.08), (10, 1): np.float64(64.04166666666667), (10, 2): np.float64(66.52173913043478), (10, 3): np.float64(68.77272727272727), (10, 4): np.float64(70.9047619047619), (10, 5): np.float64(73.0), (10, 6): np.float64(75.05263157894737), (10, 7): np.float64(77.05555555555556), (10, 8): np.float64(79.05882352941177), (10, 9): np.float64(81.0625), (10, 10): np.float64(83.06666666666666), (10, 11): np.float64(85.14285714285714), (10, 12): np.float64(87.23076923076923), (10, 13): np.float64(89.41666666666667), (10, 14): np.float64(91.63636363636364), (10, 15): np.float64(94.0), (10, 16): np.float64(96.44444444444444), (10, 17): np.float64(99.125), (10, 18): np.float64(102.0), (10, 19): np.float64(105.16666666666667), (10, 20): np.float64(108.6), (10, 21): np.float64(112.5), (10, 22): np.float64(117.33333333333333), (10, 23): np.float64(123.5), (10, 24): np.float64(132.0), (11, 0): np.float64(43.08), (11, 1): np.float64(46.166666666666664), (11, 2): np.float64(48.73913043478261), (11, 3): np.float64(51.09090909090909), (11, 4): np.float64(53.333333333333336), (11, 5): np.float64(55.5), (11, 6): np.float64(57.63157894736842), (11, 7): np.float64(59.72222222222222), (11, 8): np.float64(61.8235294117647), (11, 9): np.float64(63.9375), (11, 10): np.float64(66.06666666666666), (11, 11): np.float64(68.21428571428571), (11, 12): np.float64(70.38461538461539), (11, 13): np.float64(72.66666666666667), (11, 14): np.float64(75.0), (11, 15): np.float64(77.4), (11, 16): np.float64(80.0), (11, 17): np.float64(82.75), (11, 18): np.float64(85.71428571428571), (11, 19): np.float64(89.0), (11, 20): np.float64(92.6), (11, 21): np.float64(96.75), (11, 22): np.float64(101.66666666666667), (11, 23): np.float64(108.0), (11, 24): np.float64(117.0), (12, 0): np.float64(30.88), (12, 1): np.float64(33.958333333333336), (12, 2): np.float64(36.52173913043478), (12, 3): np.float64(38.86363636363637), (12, 4): np.float64(41.095238095238095), (12, 5): np.float64(43.25), (12, 6): np.float64(45.36842105263158), (12, 7): np.float64(47.44444444444444), (12, 8): np.float64(49.529411764705884), (12, 9): np.float64(51.625), (12, 10): np.float64(53.733333333333334), (12, 11): np.float64(55.857142857142854), (12, 12): np.float64(58.07692307692308), (12, 13): np.float64(60.333333333333336), (12, 14): np.float64(62.72727272727273), (12, 15): np.float64(65.2), (12, 16): np.float64(67.77777777777777), (12, 17): np.float64(70.5), (12, 18): np.float64(73.42857142857143), (12, 19): np.float64(76.66666666666667), (12, 20): np.float64(80.4), (12, 21): np.float64(84.5), (12, 22): np.float64(89.33333333333333), (12, 23): np.float64(95.5), (12, 24): np.float64(104.0), (13, 0): np.float64(22.44), (13, 1): np.float64(25.458333333333332), (13, 2): np.float64(27.956521739130434), (13, 3): np.float64(30.272727272727273), (13, 4): np.float64(32.476190476190474), (13, 5): np.float64(34.6), (13, 6): np.float64(36.68421052631579), (13, 7): np.float64(38.72222222222222), (13, 8): np.float64(40.76470588235294), (13, 9): np.float64(42.8125), (13, 10): np.float64(44.86666666666667), (13, 11): np.float64(47.0), (13, 12): np.float64(49.15384615384615), (13, 13): np.float64(51.416666666666664), (13, 14): np.float64(53.72727272727273), (13, 15): np.float64(56.1), (13, 16): np.float64(58.666666666666664), (13, 17): np.float64(61.375), (13, 18): np.float64(64.28571428571429), (13, 19): np.float64(67.5), (13, 20): np.float64(71.0), (13, 21): np.float64(75.0), (13, 22): np.float64(80.0), (13, 23): np.float64(86.0), (13, 24): np.float64(95.0), (14, 0): np.float64(15.96), (14, 1): np.float64(19.041666666666668), (14, 2): np.float64(21.608695652173914), (14, 3): np.float64(23.954545454545453), (14, 4): np.float64(26.19047619047619), (14, 5): np.float64(28.35), (14, 6): np.float64(30.473684210526315), (14, 7): np.float64(32.55555555555556), (14, 8): np.float64(34.64705882352941), (14, 9): np.float64(36.75), (14, 10): np.float64(38.86666666666667), (14, 11): np.float64(41.0), (14, 12): np.float64(43.23076923076923), (14, 13): np.float64(45.5), (14, 14): np.float64(47.90909090909091), (14, 15): np.float64(50.4), (14, 16): np.float64(53.0), (14, 17): np.float64(55.75), (14, 18): np.float64(58.714285714285715), (14, 19): np.float64(62.0), (14, 20): np.float64(65.6), (14, 21): np.float64(69.75), (14, 22): np.float64(74.66666666666667), (14, 23): np.float64(81.0), (14, 24): np.float64(90.0), (15, 0): np.float64(12.52), (15, 1): np.float64(15.583333333333334), (15, 2): np.float64(18.130434782608695), (15, 3): np.float64(20.454545454545453), (15, 4): np.float64(22.666666666666668), (15, 5): np.float64(24.8), (15, 6): np.float64(26.894736842105264), (15, 7): np.float64(28.944444444444443), (15, 8): np.float64(31.0), (15, 9): np.float64(33.0625), (15, 10): np.float64(35.13333333333333), (15, 11): np.float64(37.285714285714285), (15, 12): np.float64(39.46153846153846), (15, 13): np.float64(41.666666666666664), (15, 14): np.float64(44.0), (15, 15): np.float64(46.4), (15, 16): np.float64(49.0), (15, 17): np.float64(51.75), (15, 18): np.float64(54.714285714285715), (15, 19): np.float64(58.0), (15, 20): np.float64(61.6), (15, 21): np.float64(65.75), (15, 22): np.float64(70.66666666666667), (15, 23): np.float64(77.0), (15, 24): np.float64(86.0), (16, 0): np.float64(18.44), (16, 1): np.float64(21.291666666666668), (16, 2): np.float64(23.652173913043477), (16, 3): np.float64(25.818181818181817), (16, 4): np.float64(27.904761904761905), (16, 5): np.float64(29.9), (16, 6): np.float64(31.842105263157894), (16, 7): np.float64(33.77777777777778), (16, 8): np.float64(35.705882352941174), (16, 9): np.float64(37.625), (16, 10): np.float64(39.6), (16, 11): np.float64(41.57142857142857), (16, 12): np.float64(43.61538461538461), (16, 13): np.float64(45.75), (16, 14): np.float64(47.90909090909091), (16, 15): np.float64(50.2), (16, 16): np.float64(52.55555555555556), (16, 17): np.float64(55.125), (16, 18): np.float64(57.857142857142854), (16, 19): np.float64(60.833333333333336), (16, 20): np.float64(64.2), (16, 21): np.float64(68.0), (16, 22): np.float64(72.66666666666667), (16, 23): np.float64(78.5), (16, 24): np.float64(87.0), (17, 0): np.float64(34.88), (17, 1): np.float64(37.75), (17, 2): np.float64(40.130434782608695), (17, 3): np.float64(42.31818181818182), (17, 4): np.float64(44.38095238095238), (17, 5): np.float64(46.4), (17, 6): np.float64(48.36842105263158), (17, 7): np.float64(50.333333333333336), (17, 8): np.float64(52.294117647058826), (17, 9): np.float64(54.25), (17, 10): np.float64(56.2), (17, 11): np.float64(58.214285714285715), (17, 12): np.float64(60.30769230769231), (17, 13): np.float64(62.416666666666664), (17, 14): np.float64(64.63636363636364), (17, 15): np.float64(66.9), (17, 16): np.float64(69.33333333333333), (17, 17): np.float64(71.875), (17, 18): np.float64(74.71428571428571), (17, 19): np.float64(77.83333333333333), (17, 20): np.float64(81.2), (17, 21): np.float64(85.0), (17, 22): np.float64(89.66666666666667), (17, 23): np.float64(95.5), (17, 24): np.float64(104.0), (18, 0): np.float64(56.56), (18, 1): np.float64(59.416666666666664), (18, 2): np.float64(61.78260869565217), (18, 3): np.float64(63.95454545454545), (18, 4): np.float64(66.04761904761905), (18, 5): np.float64(68.05), (18, 6): np.float64(70.0), (18, 7): np.float64(71.94444444444444), (18, 8): np.float64(73.88235294117646), (18, 9): np.float64(75.8125), (18, 10): np.float64(77.8), (18, 11): np.float64(79.78571428571429), (18, 12): np.float64(81.84615384615384), (18, 13): np.float64(83.91666666666667), (18, 14): np.float64(86.0909090909091), (18, 15): np.float64(88.4), (18, 16): np.float64(90.77777777777777), (18, 17): np.float64(93.375), (18, 18): np.float64(96.14285714285714), (18, 19): np.float64(99.16666666666667), (18, 20): np.float64(102.6), (18, 21): np.float64(106.5), (18, 22): np.float64(111.0), (18, 23): np.float64(117.0), (18, 24): np.float64(125.0), (19, 0): np.float64(78.44), (19, 1): np.float64(80.83333333333333), (19, 2): np.float64(82.82608695652173), (19, 3): np.float64(84.63636363636364), (19, 4): np.float64(86.38095238095238), (19, 5): np.float64(88.05), (19, 6): np.float64(89.6842105263158), (19, 7): np.float64(91.27777777777777), (19, 8): np.float64(92.88235294117646), (19, 9): np.float64(94.5), (19, 10): np.float64(96.13333333333334), (19, 11): np.float64(97.78571428571429), (19, 12): np.float64(99.46153846153847), (19, 13): np.float64(101.25), (19, 14): np.float64(103.0909090909091), (19, 15): np.float64(105.0), (19, 16): np.float64(107.0), (19, 17): np.float64(109.125), (19, 18): np.float64(111.42857142857143), (19, 19): np.float64(114.0), (19, 20): np.float64(116.8), (19, 21): np.float64(120.0), (19, 22): np.float64(124.0), (19, 23): np.float64(129.0), (19, 24): np.float64(136.0), (20, 0): np.float64(105.6), (20, 1): np.float64(108.5), (20, 2): np.float64(110.91304347826087), (20, 3): np.float64(113.13636363636364), (20, 4): np.float64(115.23809523809524), (20, 5): np.float64(117.25), (20, 6): np.float64(119.26315789473684), (20, 7): np.float64(121.22222222222223), (20, 8): np.float64(123.17647058823529), (20, 9): np.float64(125.125), (20, 10): np.float64(127.13333333333334), (20, 11): np.float64(129.14285714285714), (20, 12): np.float64(131.23076923076923), (20, 13): np.float64(133.33333333333334), (20, 14): np.float64(135.54545454545453), (20, 15): np.float64(137.9), (20, 16): np.float64(140.33333333333334), (20, 17): np.float64(142.875), (20, 18): np.float64(145.71428571428572), (20, 19): np.float64(148.83333333333334), (20, 20): np.float64(152.2), (20, 21): np.float64(156.0), (20, 22): np.float64(160.66666666666666), (20, 23): np.float64(166.5), (20, 24): np.float64(175.0), (21, 0): np.float64(144.8), (21, 1): np.float64(149.0), (21, 2): np.float64(152.52173913043478), (21, 3): np.float64(155.72727272727272), (21, 4): np.float64(158.8095238095238), (21, 5): np.float64(161.75), (21, 6): np.float64(164.6315789473684), (21, 7): np.float64(167.5), (21, 8): np.float64(170.35294117647058), (21, 9): np.float64(173.25), (21, 10): np.float64(176.13333333333333), (21, 11): np.float64(179.07142857142858), (21, 12): np.float64(182.07692307692307), (21, 13): np.float64(185.16666666666666), (21, 14): np.float64(188.36363636363637), (21, 15): np.float64(191.7), (21, 16): np.float64(195.22222222222223), (21, 17): np.float64(199.0), (21, 18): np.float64(203.14285714285714), (21, 19): np.float64(207.66666666666666), (21, 20): np.float64(212.6), (21, 21): np.float64(218.25), (21, 22): np.float64(225.0), (21, 23): np.float64(233.5), (21, 24): np.float64(246.0), (22, 0): np.float64(125.12), (22, 1): np.float64(127.91666666666667), (22, 2): np.float64(130.2173913043478), (22, 3): np.float64(132.36363636363637), (22, 4): np.float64(134.38095238095238), (22, 5): np.float64(136.35), (22, 6): np.float64(138.26315789473685), (22, 7): np.float64(140.16666666666666), (22, 8): np.float64(142.05882352941177), (22, 9): np.float64(143.9375), (22, 10): np.float64(145.86666666666667), (22, 11): np.float64(147.78571428571428), (22, 12): np.float64(149.76923076923077), (22, 13): np.float64(151.83333333333334), (22, 14): np.float64(154.0), (22, 15): np.float64(156.2), (22, 16): np.float64(158.55555555555554), (22, 17): np.float64(161.0), (22, 18): np.float64(163.71428571428572), (22, 19): np.float64(166.66666666666666), (22, 20): np.float64(170.0), (22, 21): np.float64(173.75), (22, 22): np.float64(178.33333333333334), (22, 23): np.float64(184.0), (22, 24): np.float64(192.0), (23, 0): np.float64(101.36), (23, 1): np.float64(103.0), (23, 2): np.float64(104.34782608695652), (23, 3): np.float64(105.5909090909091), (23, 4): np.float64(106.76190476190476), (23, 5): np.float64(107.9), (23, 6): np.float64(109.0), (23, 7): np.float64(110.11111111111111), (23, 8): np.float64(111.23529411764706), (23, 9): np.float64(112.3125), (23, 10): np.float64(113.4), (23, 11): np.float64(114.5), (23, 12): np.float64(115.6923076923077), (23, 13): np.float64(116.91666666666667), (23, 14): np.float64(118.18181818181819), (23, 15): np.float64(119.5), (23, 16): np.float64(120.88888888888889), (23, 17): np.float64(122.375), (23, 18): np.float64(124.0), (23, 19): np.float64(125.66666666666667), (23, 20): np.float64(127.6), (23, 21): np.float64(129.75), (23, 22): np.float64(132.33333333333334), (23, 23): np.float64(135.5), (23, 24): np.float64(140.0), (24, 0): np.float64(85.28), (24, 1): np.float64(86.70833333333333), (24, 2): np.float64(87.91304347826087), (24, 3): np.float64(89.0), (24, 4): np.float64(90.04761904761905), (24, 5): np.float64(91.05), (24, 6): np.float64(92.05263157894737), (24, 7): np.float64(93.0), (24, 8): np.float64(93.94117647058823), (24, 9): np.float64(94.9375), (24, 10): np.float64(95.93333333333334), (24, 11): np.float64(96.92857142857143), (24, 12): np.float64(97.92307692307692), (24, 13): np.float64(99.0), (24, 14): np.float64(100.0909090909091), (24, 15): np.float64(101.2), (24, 16): np.float64(102.44444444444444), (24, 17): np.float64(103.75), (24, 18): np.float64(105.14285714285714), (24, 19): np.float64(106.66666666666667), (24, 20): np.float64(108.4), (24, 21): np.float64(110.25), (24, 22): np.float64(112.66666666666667), (24, 23): np.float64(115.5), (24, 24): np.float64(120.0)}\n",
      "{(1, 0): np.float64(81.52), (1, 1): np.float64(79.5), (1, 2): np.float64(77.82608695652173), (1, 3): np.float64(76.27272727272727), (1, 4): np.float64(74.80952380952381), (1, 5): np.float64(73.4), (1, 6): np.float64(72.0), (1, 7): np.float64(70.61111111111111), (1, 8): np.float64(69.23529411764706), (1, 9): np.float64(67.875), (1, 10): np.float64(66.46666666666667), (1, 11): np.float64(65.07142857142857), (1, 12): np.float64(63.61538461538461), (1, 13): np.float64(62.083333333333336), (1, 14): np.float64(60.54545454545455), (1, 15): np.float64(58.9), (1, 16): np.float64(57.22222222222222), (1, 17): np.float64(55.375), (1, 18): np.float64(53.42857142857143), (1, 19): np.float64(51.333333333333336), (1, 20): np.float64(49.0), (1, 21): np.float64(46.25), (1, 22): np.float64(43.0), (1, 23): np.float64(39.0), (1, 24): np.float64(33.0), (2, 0): np.float64(72.24), (2, 1): np.float64(70.41666666666667), (2, 2): np.float64(68.8695652173913), (2, 3): np.float64(67.45454545454545), (2, 4): np.float64(66.14285714285714), (2, 5): np.float64(64.85), (2, 6): np.float64(63.578947368421055), (2, 7): np.float64(62.333333333333336), (2, 8): np.float64(61.11764705882353), (2, 9): np.float64(59.875), (2, 10): np.float64(58.6), (2, 11): np.float64(57.285714285714285), (2, 12): np.float64(56.0), (2, 13): np.float64(54.666666666666664), (2, 14): np.float64(53.27272727272727), (2, 15): np.float64(51.8), (2, 16): np.float64(50.22222222222222), (2, 17): np.float64(48.625), (2, 18): np.float64(46.857142857142854), (2, 19): np.float64(45.0), (2, 20): np.float64(42.8), (2, 21): np.float64(40.25), (2, 22): np.float64(37.333333333333336), (2, 23): np.float64(33.5), (2, 24): np.float64(28.0), (3, 0): np.float64(68.16), (3, 1): np.float64(66.25), (3, 2): np.float64(64.65217391304348), (3, 3): np.float64(63.18181818181818), (3, 4): np.float64(61.80952380952381), (3, 5): np.float64(60.45), (3, 6): np.float64(59.10526315789474), (3, 7): np.float64(57.77777777777778), (3, 8): np.float64(56.470588235294116), (3, 9): np.float64(55.1875), (3, 10): np.float64(53.86666666666667), (3, 11): np.float64(52.5), (3, 12): np.float64(51.15384615384615), (3, 13): np.float64(49.75), (3, 14): np.float64(48.27272727272727), (3, 15): np.float64(46.7), (3, 16): np.float64(45.111111111111114), (3, 17): np.float64(43.375), (3, 18): np.float64(41.57142857142857), (3, 19): np.float64(39.5), (3, 20): np.float64(37.2), (3, 21): np.float64(34.5), (3, 22): np.float64(31.333333333333332), (3, 23): np.float64(27.5), (3, 24): np.float64(22.0), (4, 0): np.float64(66.64), (4, 1): np.float64(64.625), (4, 2): np.float64(62.91304347826087), (4, 3): np.float64(61.36363636363637), (4, 4): np.float64(59.904761904761905), (4, 5): np.float64(58.5), (4, 6): np.float64(57.10526315789474), (4, 7): np.float64(55.72222222222222), (4, 8): np.float64(54.35294117647059), (4, 9): np.float64(52.9375), (4, 10): np.float64(51.53333333333333), (4, 11): np.float64(50.07142857142857), (4, 12): np.float64(48.61538461538461), (4, 13): np.float64(47.083333333333336), (4, 14): np.float64(45.54545454545455), (4, 15): np.float64(43.9), (4, 16): np.float64(42.22222222222222), (4, 17): np.float64(40.375), (4, 18): np.float64(38.42857142857143), (4, 19): np.float64(36.333333333333336), (4, 20): np.float64(34.0), (4, 21): np.float64(31.25), (4, 22): np.float64(28.0), (4, 23): np.float64(24.0), (4, 24): np.float64(18.0), (5, 0): np.float64(66.8), (5, 1): np.float64(64.58333333333333), (5, 2): np.float64(62.73913043478261), (5, 3): np.float64(61.04545454545455), (5, 4): np.float64(59.42857142857143), (5, 5): np.float64(57.9), (5, 6): np.float64(56.36842105263158), (5, 7): np.float64(54.888888888888886), (5, 8): np.float64(53.411764705882355), (5, 9): np.float64(51.9375), (5, 10): np.float64(50.4), (5, 11): np.float64(48.857142857142854), (5, 12): np.float64(47.30769230769231), (5, 13): np.float64(45.666666666666664), (5, 14): np.float64(44.0), (5, 15): np.float64(42.2), (5, 16): np.float64(40.333333333333336), (5, 17): np.float64(38.375), (5, 18): np.float64(36.285714285714285), (5, 19): np.float64(34.0), (5, 20): np.float64(31.4), (5, 21): np.float64(28.5), (5, 22): np.float64(25.0), (5, 23): np.float64(20.5), (5, 24): np.float64(14.0), (6, 0): np.float64(71.04), (6, 1): np.float64(68.54166666666667), (6, 2): np.float64(66.47826086956522), (6, 3): np.float64(64.54545454545455), (6, 4): np.float64(62.714285714285715), (6, 5): np.float64(60.95), (6, 6): np.float64(59.21052631578947), (6, 7): np.float64(57.5), (6, 8): np.float64(55.8235294117647), (6, 9): np.float64(54.125), (6, 10): np.float64(52.4), (6, 11): np.float64(50.642857142857146), (6, 12): np.float64(48.84615384615385), (6, 13): np.float64(47.0), (6, 14): np.float64(45.09090909090909), (6, 15): np.float64(43.1), (6, 16): np.float64(41.0), (6, 17): np.float64(38.75), (6, 18): np.float64(36.285714285714285), (6, 19): np.float64(33.666666666666664), (6, 20): np.float64(30.8), (6, 21): np.float64(27.5), (6, 22): np.float64(23.666666666666668), (6, 23): np.float64(18.5), (6, 24): np.float64(11.0), (7, 0): np.float64(88.56), (7, 1): np.float64(85.5), (7, 2): np.float64(82.95652173913044), (7, 3): np.float64(80.63636363636364), (7, 4): np.float64(78.42857142857143), (7, 5): np.float64(76.3), (7, 6): np.float64(74.21052631578948), (7, 7): np.float64(72.11111111111111), (7, 8): np.float64(70.05882352941177), (7, 9): np.float64(68.0), (7, 10): np.float64(65.93333333333334), (7, 11): np.float64(63.785714285714285), (7, 12): np.float64(61.61538461538461), (7, 13): np.float64(59.333333333333336), (7, 14): np.float64(57.0), (7, 15): np.float64(54.6), (7, 16): np.float64(52.0), (7, 17): np.float64(49.25), (7, 18): np.float64(46.285714285714285), (7, 19): np.float64(43.0), (7, 20): np.float64(39.4), (7, 21): np.float64(35.25), (7, 22): np.float64(30.333333333333332), (7, 23): np.float64(24.0), (7, 24): np.float64(15.0), (8, 0): np.float64(92.68), (8, 1): np.float64(89.25), (8, 2): np.float64(86.3913043478261), (8, 3): np.float64(83.77272727272727), (8, 4): np.float64(81.28571428571429), (8, 5): np.float64(78.9), (8, 6): np.float64(76.52631578947368), (8, 7): np.float64(74.22222222222223), (8, 8): np.float64(71.88235294117646), (8, 9): np.float64(69.5625), (8, 10): np.float64(67.2), (8, 11): np.float64(64.78571428571429), (8, 12): np.float64(62.30769230769231), (8, 13): np.float64(59.75), (8, 14): np.float64(57.09090909090909), (8, 15): np.float64(54.3), (8, 16): np.float64(51.44444444444444), (8, 17): np.float64(48.375), (8, 18): np.float64(45.0), (8, 19): np.float64(41.333333333333336), (8, 20): np.float64(37.2), (8, 21): np.float64(32.5), (8, 22): np.float64(27.0), (8, 23): np.float64(20.0), (8, 24): np.float64(10.0), (9, 0): np.float64(80.92), (9, 1): np.float64(77.625), (9, 2): np.float64(74.8695652173913), (9, 3): np.float64(72.36363636363636), (9, 4): np.float64(70.0), (9, 5): np.float64(67.7), (9, 6): np.float64(65.42105263157895), (9, 7): np.float64(63.166666666666664), (9, 8): np.float64(60.94117647058823), (9, 9): np.float64(58.6875), (9, 10): np.float64(56.4), (9, 11): np.float64(54.07142857142857), (9, 12): np.float64(51.69230769230769), (9, 13): np.float64(49.25), (9, 14): np.float64(46.72727272727273), (9, 15): np.float64(44.1), (9, 16): np.float64(41.333333333333336), (9, 17): np.float64(38.375), (9, 18): np.float64(35.142857142857146), (9, 19): np.float64(31.666666666666668), (9, 20): np.float64(27.8), (9, 21): np.float64(23.25), (9, 22): np.float64(18.0), (9, 23): np.float64(11.5), (9, 24): np.float64(2.0), (10, 0): np.float64(61.08), (10, 1): np.float64(58.125), (10, 2): np.float64(55.65217391304348), (10, 3): np.float64(53.40909090909091), (10, 4): np.float64(51.285714285714285), (10, 5): np.float64(49.2), (10, 6): np.float64(47.1578947368421), (10, 7): np.float64(45.166666666666664), (10, 8): np.float64(43.1764705882353), (10, 9): np.float64(41.1875), (10, 10): np.float64(39.13333333333333), (10, 11): np.float64(37.07142857142857), (10, 12): np.float64(34.92307692307692), (10, 13): np.float64(32.75), (10, 14): np.float64(30.454545454545453), (10, 15): np.float64(28.1), (10, 16): np.float64(25.555555555555557), (10, 17): np.float64(22.875), (10, 18): np.float64(20.0), (10, 19): np.float64(16.833333333333332), (10, 20): np.float64(13.4), (10, 21): np.float64(9.5), (10, 22): np.float64(4.666666666666667), (10, 23): np.float64(-1.5), (10, 24): np.float64(-10.0), (11, 0): np.float64(43.08), (11, 1): np.float64(40.0), (11, 2): np.float64(37.43478260869565), (11, 3): np.float64(35.09090909090909), (11, 4): np.float64(32.857142857142854), (11, 5): np.float64(30.7), (11, 6): np.float64(28.57894736842105), (11, 7): np.float64(26.5), (11, 8): np.float64(24.41176470588235), (11, 9): np.float64(22.3125), (11, 10): np.float64(20.2), (11, 11): np.float64(18.0), (11, 12): np.float64(15.76923076923077), (11, 13): np.float64(13.5), (11, 14): np.float64(11.090909090909092), (11, 15): np.float64(8.6), (11, 16): np.float64(6.0), (11, 17): np.float64(3.25), (11, 18): np.float64(0.2857142857142857), (11, 19): np.float64(-3.0), (11, 20): np.float64(-6.6), (11, 21): np.float64(-10.75), (11, 22): np.float64(-15.666666666666666), (11, 23): np.float64(-22.0), (11, 24): np.float64(-31.0), (12, 0): np.float64(30.88), (12, 1): np.float64(27.833333333333332), (12, 2): np.float64(25.26086956521739), (12, 3): np.float64(22.90909090909091), (12, 4): np.float64(20.666666666666668), (12, 5): np.float64(18.5), (12, 6): np.float64(16.42105263157895), (12, 7): np.float64(14.333333333333334), (12, 8): np.float64(12.235294117647058), (12, 9): np.float64(10.125), (12, 10): np.float64(8.0), (12, 11): np.float64(5.857142857142857), (12, 12): np.float64(3.6923076923076925), (12, 13): np.float64(1.4166666666666667), (12, 14): np.float64(-0.9090909090909091), (12, 15): np.float64(-3.4), (12, 16): np.float64(-6.0), (12, 17): np.float64(-8.75), (12, 18): np.float64(-11.714285714285714), (12, 19): np.float64(-15.0), (12, 20): np.float64(-18.6), (12, 21): np.float64(-22.75), (12, 22): np.float64(-27.666666666666668), (12, 23): np.float64(-34.0), (12, 24): np.float64(-43.0), (13, 0): np.float64(22.44), (13, 1): np.float64(19.416666666666668), (13, 2): np.float64(16.91304347826087), (13, 3): np.float64(14.590909090909092), (13, 4): np.float64(12.428571428571429), (13, 5): np.float64(10.3), (13, 6): np.float64(8.210526315789474), (13, 7): np.float64(6.166666666666667), (13, 8): np.float64(4.117647058823529), (13, 9): np.float64(2.0625), (13, 10): np.float64(0.0), (13, 11): np.float64(-2.142857142857143), (13, 12): np.float64(-4.3076923076923075), (13, 13): np.float64(-6.5), (13, 14): np.float64(-8.818181818181818), (13, 15): np.float64(-11.2), (13, 16): np.float64(-13.777777777777779), (13, 17): np.float64(-16.5), (13, 18): np.float64(-19.428571428571427), (13, 19): np.float64(-22.666666666666668), (13, 20): np.float64(-26.2), (13, 21): np.float64(-30.25), (13, 22): np.float64(-35.0), (13, 23): np.float64(-41.0), (13, 24): np.float64(-50.0), (14, 0): np.float64(15.96), (14, 1): np.float64(12.875), (14, 2): np.float64(10.304347826086957), (14, 3): np.float64(7.954545454545454), (14, 4): np.float64(5.714285714285714), (14, 5): np.float64(3.55), (14, 6): np.float64(1.4210526315789473), (14, 7): np.float64(-0.6666666666666666), (14, 8): np.float64(-2.764705882352941), (14, 9): np.float64(-4.875), (14, 10): np.float64(-7.0), (14, 11): np.float64(-9.142857142857142), (14, 12): np.float64(-11.307692307692308), (14, 13): np.float64(-13.583333333333334), (14, 14): np.float64(-15.909090909090908), (14, 15): np.float64(-18.4), (14, 16): np.float64(-21.0), (14, 17): np.float64(-23.75), (14, 18): np.float64(-26.714285714285715), (14, 19): np.float64(-30.0), (14, 20): np.float64(-33.6), (14, 21): np.float64(-37.75), (14, 22): np.float64(-42.666666666666664), (14, 23): np.float64(-49.0), (14, 24): np.float64(-58.0), (15, 0): np.float64(12.52), (15, 1): np.float64(9.458333333333334), (15, 2): np.float64(6.913043478260869), (15, 3): np.float64(4.590909090909091), (15, 4): np.float64(2.380952380952381), (15, 5): np.float64(0.25), (15, 6): np.float64(-1.8421052631578947), (15, 7): np.float64(-3.888888888888889), (15, 8): np.float64(-5.9411764705882355), (15, 9): np.float64(-8.0), (15, 10): np.float64(-10.066666666666666), (15, 11): np.float64(-12.214285714285714), (15, 12): np.float64(-14.384615384615385), (15, 13): np.float64(-16.666666666666668), (15, 14): np.float64(-19.0), (15, 15): np.float64(-21.4), (15, 16): np.float64(-24.0), (15, 17): np.float64(-26.75), (15, 18): np.float64(-29.714285714285715), (15, 19): np.float64(-33.0), (15, 20): np.float64(-36.6), (15, 21): np.float64(-40.75), (15, 22): np.float64(-45.666666666666664), (15, 23): np.float64(-52.0), (15, 24): np.float64(-61.0), (16, 0): np.float64(18.44), (16, 1): np.float64(15.583333333333334), (16, 2): np.float64(13.217391304347826), (16, 3): np.float64(11.045454545454545), (16, 4): np.float64(9.0), (16, 5): np.float64(7.0), (16, 6): np.float64(5.052631578947368), (16, 7): np.float64(3.111111111111111), (16, 8): np.float64(1.1764705882352942), (16, 9): np.float64(-0.75), (16, 10): np.float64(-2.7333333333333334), (16, 11): np.float64(-4.714285714285714), (16, 12): np.float64(-6.769230769230769), (16, 13): np.float64(-8.833333333333334), (16, 14): np.float64(-11.0), (16, 15): np.float64(-13.3), (16, 16): np.float64(-15.666666666666666), (16, 17): np.float64(-18.25), (16, 18): np.float64(-21.0), (16, 19): np.float64(-24.0), (16, 20): np.float64(-27.4), (16, 21): np.float64(-31.25), (16, 22): np.float64(-35.666666666666664), (16, 23): np.float64(-41.5), (16, 24): np.float64(-50.0), (17, 0): np.float64(34.88), (17, 1): np.float64(32.0), (17, 2): np.float64(29.608695652173914), (17, 3): np.float64(27.40909090909091), (17, 4): np.float64(25.333333333333332), (17, 5): np.float64(23.3), (17, 6): np.float64(21.31578947368421), (17, 7): np.float64(19.38888888888889), (17, 8): np.float64(17.470588235294116), (17, 9): np.float64(15.5), (17, 10): np.float64(13.533333333333333), (17, 11): np.float64(11.5), (17, 12): np.float64(9.461538461538462), (17, 13): np.float64(7.333333333333333), (17, 14): np.float64(5.181818181818182), (17, 15): np.float64(2.9), (17, 16): np.float64(0.4444444444444444), (17, 17): np.float64(-2.125), (17, 18): np.float64(-4.857142857142857), (17, 19): np.float64(-7.833333333333333), (17, 20): np.float64(-11.2), (17, 21): np.float64(-15.0), (17, 22): np.float64(-19.666666666666668), (17, 23): np.float64(-25.5), (17, 24): np.float64(-34.0), (18, 0): np.float64(56.56), (18, 1): np.float64(53.708333333333336), (18, 2): np.float64(51.30434782608695), (18, 3): np.float64(49.13636363636363), (18, 4): np.float64(47.04761904761905), (18, 5): np.float64(45.05), (18, 6): np.float64(43.10526315789474), (18, 7): np.float64(41.166666666666664), (18, 8): np.float64(39.23529411764706), (18, 9): np.float64(37.3125), (18, 10): np.float64(35.333333333333336), (18, 11): np.float64(33.357142857142854), (18, 12): np.float64(31.307692307692307), (18, 13): np.float64(29.166666666666668), (18, 14): np.float64(27.0), (18, 15): np.float64(24.7), (18, 16): np.float64(22.333333333333332), (18, 17): np.float64(19.75), (18, 18): np.float64(17.0), (18, 19): np.float64(14.0), (18, 20): np.float64(10.6), (18, 21): np.float64(6.75), (18, 22): np.float64(2.3333333333333335), (18, 23): np.float64(-3.5), (18, 24): np.float64(-12.0), (19, 0): np.float64(78.44), (19, 1): np.float64(76.04166666666667), (19, 2): np.float64(74.04347826086956), (19, 3): np.float64(72.22727272727273), (19, 4): np.float64(70.52380952380952), (19, 5): np.float64(68.85), (19, 6): np.float64(67.21052631578948), (19, 7): np.float64(65.61111111111111), (19, 8): np.float64(64.0), (19, 9): np.float64(62.375), (19, 10): np.float64(60.733333333333334), (19, 11): np.float64(59.07142857142857), (19, 12): np.float64(57.38461538461539), (19, 13): np.float64(55.666666666666664), (19, 14): np.float64(53.81818181818182), (19, 15): np.float64(51.9), (19, 16): np.float64(49.888888888888886), (19, 17): np.float64(47.75), (19, 18): np.float64(45.42857142857143), (19, 19): np.float64(42.833333333333336), (19, 20): np.float64(40.0), (19, 21): np.float64(36.75), (19, 22): np.float64(33.0), (19, 23): np.float64(28.0), (19, 24): np.float64(21.0), (20, 0): np.float64(105.6), (20, 1): np.float64(102.70833333333333), (20, 2): np.float64(100.30434782608695), (20, 3): np.float64(98.0909090909091), (20, 4): np.float64(96.0), (20, 5): np.float64(93.95), (20, 6): np.float64(91.94736842105263), (20, 7): np.float64(90.0), (20, 8): np.float64(88.05882352941177), (20, 9): np.float64(86.0625), (20, 10): np.float64(84.06666666666666), (20, 11): np.float64(82.07142857142857), (20, 12): np.float64(80.0), (20, 13): np.float64(77.83333333333333), (20, 14): np.float64(75.63636363636364), (20, 15): np.float64(73.3), (20, 16): np.float64(70.88888888888889), (20, 17): np.float64(68.25), (20, 18): np.float64(65.42857142857143), (20, 19): np.float64(62.333333333333336), (20, 20): np.float64(59.0), (20, 21): np.float64(55.0), (20, 22): np.float64(50.333333333333336), (20, 23): np.float64(44.5), (20, 24): np.float64(36.0), (21, 0): np.float64(144.8), (21, 1): np.float64(140.58333333333334), (21, 2): np.float64(137.08695652173913), (21, 3): np.float64(133.86363636363637), (21, 4): np.float64(130.8095238095238), (21, 5): np.float64(127.85), (21, 6): np.float64(124.94736842105263), (21, 7): np.float64(122.11111111111111), (21, 8): np.float64(119.29411764705883), (21, 9): np.float64(116.4375), (21, 10): np.float64(113.53333333333333), (21, 11): np.float64(110.57142857142857), (21, 12): np.float64(107.53846153846153), (21, 13): np.float64(104.41666666666667), (21, 14): np.float64(101.18181818181819), (21, 15): np.float64(97.8), (21, 16): np.float64(94.22222222222223), (21, 17): np.float64(90.5), (21, 18): np.float64(86.42857142857143), (21, 19): np.float64(82.0), (21, 20): np.float64(77.0), (21, 21): np.float64(71.25), (21, 22): np.float64(64.66666666666667), (21, 23): np.float64(56.0), (21, 24): np.float64(44.0), (22, 0): np.float64(125.12), (22, 1): np.float64(122.33333333333333), (22, 2): np.float64(120.0), (22, 3): np.float64(117.86363636363636), (22, 4): np.float64(115.85714285714286), (22, 5): np.float64(113.9), (22, 6): np.float64(112.0), (22, 7): np.float64(110.11111111111111), (22, 8): np.float64(108.23529411764706), (22, 9): np.float64(106.3125), (22, 10): np.float64(104.4), (22, 11): np.float64(102.42857142857143), (22, 12): np.float64(100.46153846153847), (22, 13): np.float64(98.41666666666667), (22, 14): np.float64(96.27272727272727), (22, 15): np.float64(94.0), (22, 16): np.float64(91.66666666666667), (22, 17): np.float64(89.125), (22, 18): np.float64(86.42857142857143), (22, 19): np.float64(83.5), (22, 20): np.float64(80.2), (22, 21): np.float64(76.5), (22, 22): np.float64(72.0), (22, 23): np.float64(66.5), (22, 24): np.float64(58.0), (23, 0): np.float64(101.36), (23, 1): np.float64(99.75), (23, 2): np.float64(98.3913043478261), (23, 3): np.float64(97.13636363636364), (23, 4): np.float64(95.95238095238095), (23, 5): np.float64(94.8), (23, 6): np.float64(93.6842105263158), (23, 7): np.float64(92.55555555555556), (23, 8): np.float64(91.47058823529412), (23, 9): np.float64(90.375), (23, 10): np.float64(89.26666666666667), (23, 11): np.float64(88.14285714285714), (23, 12): np.float64(87.0), (23, 13): np.float64(85.83333333333333), (23, 14): np.float64(84.63636363636364), (23, 15): np.float64(83.3), (23, 16): np.float64(81.88888888888889), (23, 17): np.float64(80.375), (23, 18): np.float64(78.85714285714286), (23, 19): np.float64(77.16666666666667), (23, 20): np.float64(75.2), (23, 21): np.float64(73.0), (23, 22): np.float64(70.33333333333333), (23, 23): np.float64(67.0), (23, 24): np.float64(62.0), (24, 0): np.float64(85.28), (24, 1): np.float64(83.83333333333333), (24, 2): np.float64(82.65217391304348), (24, 3): np.float64(81.54545454545455), (24, 4): np.float64(80.52380952380952), (24, 5): np.float64(79.5), (24, 6): np.float64(78.52631578947368), (24, 7): np.float64(77.55555555555556), (24, 8): np.float64(76.58823529411765), (24, 9): np.float64(75.625), (24, 10): np.float64(74.66666666666667), (24, 11): np.float64(73.64285714285714), (24, 12): np.float64(72.61538461538461), (24, 13): np.float64(71.58333333333333), (24, 14): np.float64(70.45454545454545), (24, 15): np.float64(69.3), (24, 16): np.float64(68.11111111111111), (24, 17): np.float64(66.875), (24, 18): np.float64(65.42857142857143), (24, 19): np.float64(63.833333333333336), (24, 20): np.float64(62.2), (24, 21): np.float64(60.25), (24, 22): np.float64(58.0), (24, 23): np.float64(55.0), (24, 24): np.float64(51.0)}\n",
      "{1: np.float64(76.88), 2: np.float64(73.97333333333333), 3: np.float64(69.01333333333334), 4: np.float64(67.2), 5: np.float64(68.16), 6: np.float64(75.46666666666667), 7: np.float64(84.09333333333333), 8: np.float64(87.38666666666667), 9: np.float64(78.22666666666667), 10: np.float64(61.693333333333335), 11: np.float64(45.013333333333335), 12: np.float64(32.13333333333333), 13: np.float64(23.093333333333334), 14: np.float64(16.973333333333333), 15: np.float64(15.64), 16: np.float64(21.946666666666665), 17: np.float64(36.626666666666665), 18: np.float64(56.626666666666665), 19: np.float64(80.2), 20: np.float64(109.61333333333333), 21: np.float64(125.17333333333333), 22: np.float64(123.76), 23: np.float64(103.92), 24: np.float64(93.32)}\n"
     ]
    }
   ]
  },
  {
   "cell_type": "markdown",
   "source": [
    "**Entscheidungsvariablen**"
   ],
   "metadata": {
    "id": "DMgUDSvBEbtt"
   }
  },
  {
   "cell_type": "code",
   "source": [
    "# Für jede Risikoklasse und jede Stunde eine binäre Variable\n",
    "bin_h_r={}\n",
    "# Für jede Risikoklasse und jede Stunde eine Mengen-Variable\n",
    "e_h_r={}\n",
    "v_h_r={}\n",
    "\n",
    "for h in H:\n",
    "    for r in R:\n",
    "      e_h_r[(h, r)] = scip.addVar(vtype='C', lb=0, ub=None, name=f\"e_{h}_{r}\")\n",
    "      v_h_r[(h, r)] = scip.addVar(vtype='C', lb=0, ub=None, name=f\"v_{h}_{r}\")\n",
    "\n",
    "\n",
    "print('Entscheidungsvariablen =', scip.getVars())"
   ],
   "metadata": {
    "id": "b6h0dqgcEiTE",
    "colab": {
     "base_uri": "https://localhost:8080/"
    },
    "outputId": "20c75b7e-a813-46d4-d0c0-8af0d41963d3",
    "ExecuteTime": {
     "end_time": "2025-01-26T18:07:54.788376Z",
     "start_time": "2025-01-26T18:07:54.780734Z"
    }
   },
   "execution_count": 29,
   "outputs": [
    {
     "name": "stdout",
     "output_type": "stream",
     "text": [
      "Entscheidungsvariablen = [e_1_0, v_1_0, e_1_1, v_1_1, e_1_2, v_1_2, e_1_3, v_1_3, e_1_4, v_1_4, e_1_5, v_1_5, e_1_6, v_1_6, e_1_7, v_1_7, e_1_8, v_1_8, e_1_9, v_1_9, e_1_10, v_1_10, e_1_11, v_1_11, e_1_12, v_1_12, e_1_13, v_1_13, e_1_14, v_1_14, e_1_15, v_1_15, e_1_16, v_1_16, e_1_17, v_1_17, e_1_18, v_1_18, e_1_19, v_1_19, e_1_20, v_1_20, e_1_21, v_1_21, e_1_22, v_1_22, e_1_23, v_1_23, e_1_24, v_1_24, e_2_0, v_2_0, e_2_1, v_2_1, e_2_2, v_2_2, e_2_3, v_2_3, e_2_4, v_2_4, e_2_5, v_2_5, e_2_6, v_2_6, e_2_7, v_2_7, e_2_8, v_2_8, e_2_9, v_2_9, e_2_10, v_2_10, e_2_11, v_2_11, e_2_12, v_2_12, e_2_13, v_2_13, e_2_14, v_2_14, e_2_15, v_2_15, e_2_16, v_2_16, e_2_17, v_2_17, e_2_18, v_2_18, e_2_19, v_2_19, e_2_20, v_2_20, e_2_21, v_2_21, e_2_22, v_2_22, e_2_23, v_2_23, e_2_24, v_2_24, e_3_0, v_3_0, e_3_1, v_3_1, e_3_2, v_3_2, e_3_3, v_3_3, e_3_4, v_3_4, e_3_5, v_3_5, e_3_6, v_3_6, e_3_7, v_3_7, e_3_8, v_3_8, e_3_9, v_3_9, e_3_10, v_3_10, e_3_11, v_3_11, e_3_12, v_3_12, e_3_13, v_3_13, e_3_14, v_3_14, e_3_15, v_3_15, e_3_16, v_3_16, e_3_17, v_3_17, e_3_18, v_3_18, e_3_19, v_3_19, e_3_20, v_3_20, e_3_21, v_3_21, e_3_22, v_3_22, e_3_23, v_3_23, e_3_24, v_3_24, e_4_0, v_4_0, e_4_1, v_4_1, e_4_2, v_4_2, e_4_3, v_4_3, e_4_4, v_4_4, e_4_5, v_4_5, e_4_6, v_4_6, e_4_7, v_4_7, e_4_8, v_4_8, e_4_9, v_4_9, e_4_10, v_4_10, e_4_11, v_4_11, e_4_12, v_4_12, e_4_13, v_4_13, e_4_14, v_4_14, e_4_15, v_4_15, e_4_16, v_4_16, e_4_17, v_4_17, e_4_18, v_4_18, e_4_19, v_4_19, e_4_20, v_4_20, e_4_21, v_4_21, e_4_22, v_4_22, e_4_23, v_4_23, e_4_24, v_4_24, e_5_0, v_5_0, e_5_1, v_5_1, e_5_2, v_5_2, e_5_3, v_5_3, e_5_4, v_5_4, e_5_5, v_5_5, e_5_6, v_5_6, e_5_7, v_5_7, e_5_8, v_5_8, e_5_9, v_5_9, e_5_10, v_5_10, e_5_11, v_5_11, e_5_12, v_5_12, e_5_13, v_5_13, e_5_14, v_5_14, e_5_15, v_5_15, e_5_16, v_5_16, e_5_17, v_5_17, e_5_18, v_5_18, e_5_19, v_5_19, e_5_20, v_5_20, e_5_21, v_5_21, e_5_22, v_5_22, e_5_23, v_5_23, e_5_24, v_5_24, e_6_0, v_6_0, e_6_1, v_6_1, e_6_2, v_6_2, e_6_3, v_6_3, e_6_4, v_6_4, e_6_5, v_6_5, e_6_6, v_6_6, e_6_7, v_6_7, e_6_8, v_6_8, e_6_9, v_6_9, e_6_10, v_6_10, e_6_11, v_6_11, e_6_12, v_6_12, e_6_13, v_6_13, e_6_14, v_6_14, e_6_15, v_6_15, e_6_16, v_6_16, e_6_17, v_6_17, e_6_18, v_6_18, e_6_19, v_6_19, e_6_20, v_6_20, e_6_21, v_6_21, e_6_22, v_6_22, e_6_23, v_6_23, e_6_24, v_6_24, e_7_0, v_7_0, e_7_1, v_7_1, e_7_2, v_7_2, e_7_3, v_7_3, e_7_4, v_7_4, e_7_5, v_7_5, e_7_6, v_7_6, e_7_7, v_7_7, e_7_8, v_7_8, e_7_9, v_7_9, e_7_10, v_7_10, e_7_11, v_7_11, e_7_12, v_7_12, e_7_13, v_7_13, e_7_14, v_7_14, e_7_15, v_7_15, e_7_16, v_7_16, e_7_17, v_7_17, e_7_18, v_7_18, e_7_19, v_7_19, e_7_20, v_7_20, e_7_21, v_7_21, e_7_22, v_7_22, e_7_23, v_7_23, e_7_24, v_7_24, e_8_0, v_8_0, e_8_1, v_8_1, e_8_2, v_8_2, e_8_3, v_8_3, e_8_4, v_8_4, e_8_5, v_8_5, e_8_6, v_8_6, e_8_7, v_8_7, e_8_8, v_8_8, e_8_9, v_8_9, e_8_10, v_8_10, e_8_11, v_8_11, e_8_12, v_8_12, e_8_13, v_8_13, e_8_14, v_8_14, e_8_15, v_8_15, e_8_16, v_8_16, e_8_17, v_8_17, e_8_18, v_8_18, e_8_19, v_8_19, e_8_20, v_8_20, e_8_21, v_8_21, e_8_22, v_8_22, e_8_23, v_8_23, e_8_24, v_8_24, e_9_0, v_9_0, e_9_1, v_9_1, e_9_2, v_9_2, e_9_3, v_9_3, e_9_4, v_9_4, e_9_5, v_9_5, e_9_6, v_9_6, e_9_7, v_9_7, e_9_8, v_9_8, e_9_9, v_9_9, e_9_10, v_9_10, e_9_11, v_9_11, e_9_12, v_9_12, e_9_13, v_9_13, e_9_14, v_9_14, e_9_15, v_9_15, e_9_16, v_9_16, e_9_17, v_9_17, e_9_18, v_9_18, e_9_19, v_9_19, e_9_20, v_9_20, e_9_21, v_9_21, e_9_22, v_9_22, e_9_23, v_9_23, e_9_24, v_9_24, e_10_0, v_10_0, e_10_1, v_10_1, e_10_2, v_10_2, e_10_3, v_10_3, e_10_4, v_10_4, e_10_5, v_10_5, e_10_6, v_10_6, e_10_7, v_10_7, e_10_8, v_10_8, e_10_9, v_10_9, e_10_10, v_10_10, e_10_11, v_10_11, e_10_12, v_10_12, e_10_13, v_10_13, e_10_14, v_10_14, e_10_15, v_10_15, e_10_16, v_10_16, e_10_17, v_10_17, e_10_18, v_10_18, e_10_19, v_10_19, e_10_20, v_10_20, e_10_21, v_10_21, e_10_22, v_10_22, e_10_23, v_10_23, e_10_24, v_10_24, e_11_0, v_11_0, e_11_1, v_11_1, e_11_2, v_11_2, e_11_3, v_11_3, e_11_4, v_11_4, e_11_5, v_11_5, e_11_6, v_11_6, e_11_7, v_11_7, e_11_8, v_11_8, e_11_9, v_11_9, e_11_10, v_11_10, e_11_11, v_11_11, e_11_12, v_11_12, e_11_13, v_11_13, e_11_14, v_11_14, e_11_15, v_11_15, e_11_16, v_11_16, e_11_17, v_11_17, e_11_18, v_11_18, e_11_19, v_11_19, e_11_20, v_11_20, e_11_21, v_11_21, e_11_22, v_11_22, e_11_23, v_11_23, e_11_24, v_11_24, e_12_0, v_12_0, e_12_1, v_12_1, e_12_2, v_12_2, e_12_3, v_12_3, e_12_4, v_12_4, e_12_5, v_12_5, e_12_6, v_12_6, e_12_7, v_12_7, e_12_8, v_12_8, e_12_9, v_12_9, e_12_10, v_12_10, e_12_11, v_12_11, e_12_12, v_12_12, e_12_13, v_12_13, e_12_14, v_12_14, e_12_15, v_12_15, e_12_16, v_12_16, e_12_17, v_12_17, e_12_18, v_12_18, e_12_19, v_12_19, e_12_20, v_12_20, e_12_21, v_12_21, e_12_22, v_12_22, e_12_23, v_12_23, e_12_24, v_12_24, e_13_0, v_13_0, e_13_1, v_13_1, e_13_2, v_13_2, e_13_3, v_13_3, e_13_4, v_13_4, e_13_5, v_13_5, e_13_6, v_13_6, e_13_7, v_13_7, e_13_8, v_13_8, e_13_9, v_13_9, e_13_10, v_13_10, e_13_11, v_13_11, e_13_12, v_13_12, e_13_13, v_13_13, e_13_14, v_13_14, e_13_15, v_13_15, e_13_16, v_13_16, e_13_17, v_13_17, e_13_18, v_13_18, e_13_19, v_13_19, e_13_20, v_13_20, e_13_21, v_13_21, e_13_22, v_13_22, e_13_23, v_13_23, e_13_24, v_13_24, e_14_0, v_14_0, e_14_1, v_14_1, e_14_2, v_14_2, e_14_3, v_14_3, e_14_4, v_14_4, e_14_5, v_14_5, e_14_6, v_14_6, e_14_7, v_14_7, e_14_8, v_14_8, e_14_9, v_14_9, e_14_10, v_14_10, e_14_11, v_14_11, e_14_12, v_14_12, e_14_13, v_14_13, e_14_14, v_14_14, e_14_15, v_14_15, e_14_16, v_14_16, e_14_17, v_14_17, e_14_18, v_14_18, e_14_19, v_14_19, e_14_20, v_14_20, e_14_21, v_14_21, e_14_22, v_14_22, e_14_23, v_14_23, e_14_24, v_14_24, e_15_0, v_15_0, e_15_1, v_15_1, e_15_2, v_15_2, e_15_3, v_15_3, e_15_4, v_15_4, e_15_5, v_15_5, e_15_6, v_15_6, e_15_7, v_15_7, e_15_8, v_15_8, e_15_9, v_15_9, e_15_10, v_15_10, e_15_11, v_15_11, e_15_12, v_15_12, e_15_13, v_15_13, e_15_14, v_15_14, e_15_15, v_15_15, e_15_16, v_15_16, e_15_17, v_15_17, e_15_18, v_15_18, e_15_19, v_15_19, e_15_20, v_15_20, e_15_21, v_15_21, e_15_22, v_15_22, e_15_23, v_15_23, e_15_24, v_15_24, e_16_0, v_16_0, e_16_1, v_16_1, e_16_2, v_16_2, e_16_3, v_16_3, e_16_4, v_16_4, e_16_5, v_16_5, e_16_6, v_16_6, e_16_7, v_16_7, e_16_8, v_16_8, e_16_9, v_16_9, e_16_10, v_16_10, e_16_11, v_16_11, e_16_12, v_16_12, e_16_13, v_16_13, e_16_14, v_16_14, e_16_15, v_16_15, e_16_16, v_16_16, e_16_17, v_16_17, e_16_18, v_16_18, e_16_19, v_16_19, e_16_20, v_16_20, e_16_21, v_16_21, e_16_22, v_16_22, e_16_23, v_16_23, e_16_24, v_16_24, e_17_0, v_17_0, e_17_1, v_17_1, e_17_2, v_17_2, e_17_3, v_17_3, e_17_4, v_17_4, e_17_5, v_17_5, e_17_6, v_17_6, e_17_7, v_17_7, e_17_8, v_17_8, e_17_9, v_17_9, e_17_10, v_17_10, e_17_11, v_17_11, e_17_12, v_17_12, e_17_13, v_17_13, e_17_14, v_17_14, e_17_15, v_17_15, e_17_16, v_17_16, e_17_17, v_17_17, e_17_18, v_17_18, e_17_19, v_17_19, e_17_20, v_17_20, e_17_21, v_17_21, e_17_22, v_17_22, e_17_23, v_17_23, e_17_24, v_17_24, e_18_0, v_18_0, e_18_1, v_18_1, e_18_2, v_18_2, e_18_3, v_18_3, e_18_4, v_18_4, e_18_5, v_18_5, e_18_6, v_18_6, e_18_7, v_18_7, e_18_8, v_18_8, e_18_9, v_18_9, e_18_10, v_18_10, e_18_11, v_18_11, e_18_12, v_18_12, e_18_13, v_18_13, e_18_14, v_18_14, e_18_15, v_18_15, e_18_16, v_18_16, e_18_17, v_18_17, e_18_18, v_18_18, e_18_19, v_18_19, e_18_20, v_18_20, e_18_21, v_18_21, e_18_22, v_18_22, e_18_23, v_18_23, e_18_24, v_18_24, e_19_0, v_19_0, e_19_1, v_19_1, e_19_2, v_19_2, e_19_3, v_19_3, e_19_4, v_19_4, e_19_5, v_19_5, e_19_6, v_19_6, e_19_7, v_19_7, e_19_8, v_19_8, e_19_9, v_19_9, e_19_10, v_19_10, e_19_11, v_19_11, e_19_12, v_19_12, e_19_13, v_19_13, e_19_14, v_19_14, e_19_15, v_19_15, e_19_16, v_19_16, e_19_17, v_19_17, e_19_18, v_19_18, e_19_19, v_19_19, e_19_20, v_19_20, e_19_21, v_19_21, e_19_22, v_19_22, e_19_23, v_19_23, e_19_24, v_19_24, e_20_0, v_20_0, e_20_1, v_20_1, e_20_2, v_20_2, e_20_3, v_20_3, e_20_4, v_20_4, e_20_5, v_20_5, e_20_6, v_20_6, e_20_7, v_20_7, e_20_8, v_20_8, e_20_9, v_20_9, e_20_10, v_20_10, e_20_11, v_20_11, e_20_12, v_20_12, e_20_13, v_20_13, e_20_14, v_20_14, e_20_15, v_20_15, e_20_16, v_20_16, e_20_17, v_20_17, e_20_18, v_20_18, e_20_19, v_20_19, e_20_20, v_20_20, e_20_21, v_20_21, e_20_22, v_20_22, e_20_23, v_20_23, e_20_24, v_20_24, e_21_0, v_21_0, e_21_1, v_21_1, e_21_2, v_21_2, e_21_3, v_21_3, e_21_4, v_21_4, e_21_5, v_21_5, e_21_6, v_21_6, e_21_7, v_21_7, e_21_8, v_21_8, e_21_9, v_21_9, e_21_10, v_21_10, e_21_11, v_21_11, e_21_12, v_21_12, e_21_13, v_21_13, e_21_14, v_21_14, e_21_15, v_21_15, e_21_16, v_21_16, e_21_17, v_21_17, e_21_18, v_21_18, e_21_19, v_21_19, e_21_20, v_21_20, e_21_21, v_21_21, e_21_22, v_21_22, e_21_23, v_21_23, e_21_24, v_21_24, e_22_0, v_22_0, e_22_1, v_22_1, e_22_2, v_22_2, e_22_3, v_22_3, e_22_4, v_22_4, e_22_5, v_22_5, e_22_6, v_22_6, e_22_7, v_22_7, e_22_8, v_22_8, e_22_9, v_22_9, e_22_10, v_22_10, e_22_11, v_22_11, e_22_12, v_22_12, e_22_13, v_22_13, e_22_14, v_22_14, e_22_15, v_22_15, e_22_16, v_22_16, e_22_17, v_22_17, e_22_18, v_22_18, e_22_19, v_22_19, e_22_20, v_22_20, e_22_21, v_22_21, e_22_22, v_22_22, e_22_23, v_22_23, e_22_24, v_22_24, e_23_0, v_23_0, e_23_1, v_23_1, e_23_2, v_23_2, e_23_3, v_23_3, e_23_4, v_23_4, e_23_5, v_23_5, e_23_6, v_23_6, e_23_7, v_23_7, e_23_8, v_23_8, e_23_9, v_23_9, e_23_10, v_23_10, e_23_11, v_23_11, e_23_12, v_23_12, e_23_13, v_23_13, e_23_14, v_23_14, e_23_15, v_23_15, e_23_16, v_23_16, e_23_17, v_23_17, e_23_18, v_23_18, e_23_19, v_23_19, e_23_20, v_23_20, e_23_21, v_23_21, e_23_22, v_23_22, e_23_23, v_23_23, e_23_24, v_23_24, e_24_0, v_24_0, e_24_1, v_24_1, e_24_2, v_24_2, e_24_3, v_24_3, e_24_4, v_24_4, e_24_5, v_24_5, e_24_6, v_24_6, e_24_7, v_24_7, e_24_8, v_24_8, e_24_9, v_24_9, e_24_10, v_24_10, e_24_11, v_24_11, e_24_12, v_24_12, e_24_13, v_24_13, e_24_14, v_24_14, e_24_15, v_24_15, e_24_16, v_24_16, e_24_17, v_24_17, e_24_18, v_24_18, e_24_19, v_24_19, e_24_20, v_24_20, e_24_21, v_24_21, e_24_22, v_24_22, e_24_23, v_24_23, e_24_24, v_24_24]\n"
     ]
    }
   ]
  },
  {
   "cell_type": "markdown",
   "source": [
    "# **Zielfunktion**"
   ],
   "metadata": {
    "id": "mAMlXtDUGNDN"
   }
  },
  {
   "cell_type": "code",
   "source": [
    "gewinn_kauf_verkauf = quicksum(((preis_verkauf_h_r[(h, r)] * v_h_r[(h, r)] * prob_r[r] +\\\n",
    "                                 moving_average_h[h] * v_h_r[(h, r)] * (1-prob_r[r]) * 1/penalty) -\\\n",
    "\n",
    "                                (preis_einkauf_h_r[(h, r)] * e_h_r[(h, r)] * prob_r[r] +\\\n",
    "                                 moving_average_h[h] * e_h_r[(h, r)] * (1-prob_r[r]) * penalty ))\\\n",
    "\n",
    "                               for r in R for h in H )\n",
    "\n",
    "if fixe_zykluskosten:\n",
    "    zykluskosten = 3000\n",
    "else:\n",
    "    zykluskosten = quicksum((e_h_r[(h,r)] * f_e * mwh_zykluskosten) for h in H for r in R)\n",
    "\n",
    "scip.setObjective(gewinn_kauf_verkauf - zykluskosten, sense=\"maximize\")\n",
    "print(scip.getObjective())"
   ],
   "metadata": {
    "id": "adVdozuvGPtc",
    "colab": {
     "base_uri": "https://localhost:8080/"
    },
    "outputId": "22104a19-11db-499b-c500-8381db0b80cc",
    "ExecuteTime": {
     "end_time": "2025-01-26T18:07:54.800122Z",
     "start_time": "2025-01-26T18:07:54.789005Z"
    }
   },
   "execution_count": 30,
   "outputs": [
    {
     "name": "stdout",
     "output_type": "stream",
     "text": [
      "Expr({Term(e_1_0): -126.537578125, Term(v_1_0): 81.52, Term(e_1_1): -127.487978125, Term(v_1_1): 81.7376, Term(e_1_2): -128.918378125, Term(v_1_2): 81.4752, Term(e_1_3): -130.58877812499998, Term(v_1_3): 80.97279999999999, Term(e_1_4): -132.459178125, Term(v_1_4): 80.27040000000001, Term(e_1_5): -134.48957812499998, Term(v_1_5): 79.40800000000002, Term(e_1_6): -136.639978125, Term(v_1_6): 78.4256, Term(e_1_7): -138.91037812500002, Term(v_1_7): 77.3232, Term(e_1_8): -141.30077812500002, Term(v_1_8): 76.10079999999999, Term(e_1_9): -143.811178125, Term(v_1_9): 74.7584, Term(e_1_10): -146.40157812500001, Term(v_1_10): 73.336, Term(e_1_11): -149.11197812499998, Term(v_1_11): 71.7936, Term(e_1_12): -151.90237812499998, Term(v_1_12): 70.1712, Term(e_1_13): -154.772778125, Term(v_1_13): 68.4288, Term(e_1_14): -157.76317812500002, Term(v_1_14): 66.6064, Term(e_1_15): -160.83357812499997, Term(v_1_15): 64.704, Term(e_1_16): -164.02397812499999, Term(v_1_16): 62.681599999999996, Term(e_1_17): -167.29437812499998, Term(v_1_17): 60.5792, Term(e_1_18): -170.68477812499998, Term(v_1_18): 58.3568, Term(e_1_19): -174.19517812499998, Term(v_1_19): 56.014399999999995, Term(e_1_20): -177.825578125, Term(v_1_20): 53.55199999999999, Term(e_1_21): -181.575978125, Term(v_1_21): 50.9696, Term(e_1_22): -185.486378125, Term(v_1_22): 48.227199999999996, Term(e_1_23): -189.59677812500001, Term(v_1_23): 45.2848, Term(e_1_24): -193.94717812499997, Term(v_1_24): 42.102399999999996, Term(e_2_0): -117.257578125, Term(v_2_0): 72.24, Term(e_2_1): -118.53544479166668, Term(v_2_1): 72.59946666666666, Term(e_2_2): -120.21331145833332, Term(v_2_2): 72.51893333333334, Term(e_2_3): -122.13117812499999, Term(v_2_3): 72.1984, Term(e_2_4): -124.24904479166666, Term(v_2_4): 71.71786666666667, Term(e_2_5): -126.48691145833332, Term(v_2_5): 71.07733333333333, Term(e_2_6): -128.844778125, Term(v_2_6): 70.3168, Term(e_2_7): -131.32264479166668, Term(v_2_7): 69.47626666666666, Term(e_2_8): -133.92051145833335, Term(v_2_8): 68.51573333333333, Term(e_2_9): -136.598378125, Term(v_2_9): 67.4752, Term(e_2_10): -139.35624479166665, Term(v_2_10): 66.31466666666667, Term(e_2_11): -142.19411145833334, Term(v_2_11): 65.07413333333334, Term(e_2_12): -145.151978125, Term(v_2_12): 63.753600000000006, Term(e_2_13): -148.18984479166664, Term(v_2_13): 62.35306666666666, Term(e_2_14): -151.30771145833333, Term(v_2_14): 60.87253333333332, Term(e_2_15): -154.505578125, Term(v_2_15): 59.272000000000006, Term(e_2_16): -157.78344479166668, Term(v_2_16): 57.59146666666667, Term(e_2_17): -161.18131145833334, Term(v_2_17): 55.830933333333334, Term(e_2_18): -164.65917812499998, Term(v_2_18): 53.990399999999994, Term(e_2_19): -168.25704479166666, Term(v_2_19): 52.02986666666666, Term(e_2_20): -171.93491145833332, Term(v_2_20): 49.94933333333333, Term(e_2_21): -175.73277812499998, Term(v_2_21): 47.7488, Term(e_2_22): -179.69064479166664, Term(v_2_22): 45.42826666666666, Term(e_2_23): -183.80851145833333, Term(v_2_23): 42.907733333333326, Term(e_2_24): -188.166378125, Term(v_2_24): 40.1472, Term(e_3_0): -113.177578125, Term(v_3_0): 68.16, Term(e_3_1): -114.13864479166666, Term(v_3_1): 68.66026666666666, Term(e_3_2): -115.53971145833334, Term(v_3_2): 68.72053333333334, Term(e_3_3): -117.180778125, Term(v_3_3): 68.5408, Term(e_3_4): -119.02184479166667, Term(v_3_4): 68.16106666666666, Term(e_3_5): -120.98291145833333, Term(v_3_5): 67.62133333333334, Term(e_3_6): -123.063978125, Term(v_3_6): 66.9616, Term(e_3_7): -125.26504479166667, Term(v_3_7): 66.18186666666666, Term(e_3_8): -127.58611145833333, Term(v_3_8): 65.32213333333334, Term(e_3_9): -130.027178125, Term(v_3_9): 64.3424, Term(e_3_10): -132.54824479166666, Term(v_3_10): 63.282666666666664, Term(e_3_11): -135.14931145833333, Term(v_3_11): 62.10293333333334, Term(e_3_12): -137.870378125, Term(v_3_12): 60.84320000000001, Term(e_3_13): -140.67144479166666, Term(v_3_13): 59.50346666666667, Term(e_3_14): -143.55251145833336, Term(v_3_14): 58.083733333333335, Term(e_3_15): -146.513578125, Term(v_3_15): 56.544, Term(e_3_16): -149.59464479166667, Term(v_3_16): 54.92426666666667, Term(e_3_17): -152.75571145833334, Term(v_3_17): 53.224533333333326, Term(e_3_18): -156.036778125, Term(v_3_18): 51.4048, Term(e_3_19): -159.39784479166667, Term(v_3_19): 49.465066666666665, Term(e_3_20): -162.87891145833333, Term(v_3_20): 47.40533333333333, Term(e_3_21): -166.479978125, Term(v_3_21): 45.2256, Term(e_3_22): -170.2410447916667, Term(v_3_22): 42.92586666666667, Term(e_3_23): -174.20211145833335, Term(v_3_23): 40.42613333333333, Term(e_3_24): -178.40317812499998, Term(v_3_24): 37.6864, Term(e_4_0): -111.657578125, Term(v_4_0): 66.64, Term(e_4_1): -112.433578125, Term(v_4_1): 67.26400000000001, Term(e_4_2): -113.649578125, Term(v_4_2): 67.408, Term(e_4_3): -115.145578125, Term(v_4_3): 67.312, Term(e_4_4): -116.84157812500001, Term(v_4_4): 67.01599999999999, Term(e_4_5): -118.697578125, Term(v_4_5): 66.56, Term(e_4_6): -120.673578125, Term(v_4_6): 65.98400000000001, Term(e_4_7): -122.76957812500001, Term(v_4_7): 65.28800000000001, Term(e_4_8): -124.985578125, Term(v_4_8): 64.472, Term(e_4_9): -127.28157812500001, Term(v_4_9): 63.536, Term(e_4_10): -129.697578125, Term(v_4_10): 62.519999999999996, Term(e_4_11): -132.193578125, Term(v_4_11): 61.384, Term(e_4_12): -134.809578125, Term(v_4_12): 60.168, Term(e_4_13): -137.505578125, Term(v_4_13): 58.832, Term(e_4_14): -140.321578125, Term(v_4_14): 57.416000000000004, Term(e_4_15): -143.217578125, Term(v_4_15): 55.879999999999995, Term(e_4_16): -146.233578125, Term(v_4_16): 54.263999999999996, Term(e_4_17): -149.329578125, Term(v_4_17): 52.528, Term(e_4_18): -152.54557812500002, Term(v_4_18): 50.712, Term(e_4_19): -155.881578125, Term(v_4_19): 48.775999999999996, Term(e_4_20): -159.337578125, Term(v_4_20): 46.72, Term(e_4_21): -162.91357812500002, Term(v_4_21): 44.544000000000004, Term(e_4_22): -166.649578125, Term(v_4_22): 42.208, Term(e_4_23): -170.585578125, Term(v_4_23): 39.672, Term(e_4_24): -174.761578125, Term(v_4_24): 36.856, Term(e_5_0): -111.817578125, Term(v_5_0): 66.8, Term(e_5_1): -112.470378125, Term(v_5_1): 67.6032, Term(e_5_2): -113.643178125, Term(v_5_2): 67.8864, Term(e_5_3): -115.095978125, Term(v_5_3): 67.8896, Term(e_5_4): -116.748778125, Term(v_5_4): 67.6928, Term(e_5_5): -118.60157812499999, Term(v_5_5): 67.33600000000001, Term(e_5_6): -120.57437812500001, Term(v_5_6): 66.8192, Term(e_5_7): -122.707178125, Term(v_5_7): 66.1824, Term(e_5_8): -124.959978125, Term(v_5_8): 65.42559999999999, Term(e_5_9): -127.332778125, Term(v_5_9): 64.5488, Term(e_5_10): -129.785578125, Term(v_5_10): 63.552, Term(e_5_11): -132.358378125, Term(v_5_11): 62.435199999999995, Term(e_5_12): -135.051178125, Term(v_5_12): 61.2384, Term(e_5_13): -137.823978125, Term(v_5_13): 59.9216, Term(e_5_14): -140.71677812500002, Term(v_5_14): 58.5248, Term(e_5_15): -143.689578125, Term(v_5_15): 57.007999999999996, Term(e_5_16): -146.78237812499998, Term(v_5_16): 55.3712, Term(e_5_17): -149.995178125, Term(v_5_17): 53.654399999999995, Term(e_5_18): -153.327978125, Term(v_5_18): 51.8176, Term(e_5_19): -156.78077812499998, Term(v_5_19): 49.8608, Term(e_5_20): -160.353578125, Term(v_5_20): 47.744, Term(e_5_21): -164.086378125, Term(v_5_21): 45.5072, Term(e_5_22): -167.97917812499998, Term(v_5_22): 43.0704, Term(e_5_23): -172.071978125, Term(v_5_23): 40.4336, Term(e_5_24): -176.444778125, Term(v_5_24): 37.5168, Term(e_6_0): -116.057578125, Term(v_6_0): 71.04, Term(e_6_1): -116.85491145833333, Term(v_6_1): 72.10933333333334, Term(e_6_2): -118.25224479166667, Term(v_6_2): 72.57866666666666, Term(e_6_3): -119.929578125, Term(v_6_3): 72.72800000000001, Term(e_6_4): -121.84691145833334, Term(v_6_4): 72.67733333333334, Term(e_6_5): -123.96424479166666, Term(v_6_5): 72.42666666666666, Term(e_6_6): -126.24157812499999, Term(v_6_6): 72.016, Term(e_6_7): -128.67891145833335, Term(v_6_7): 71.44533333333334, Term(e_6_8): -131.27624479166667, Term(v_6_8): 70.71466666666666, Term(e_6_9): -133.993578125, Term(v_6_9): 69.864, Term(e_6_10): -136.83091145833333, Term(v_6_10): 68.89333333333335, Term(e_6_11): -139.78824479166667, Term(v_6_11): 67.80266666666667, Term(e_6_12): -142.865578125, Term(v_6_12): 66.592, Term(e_6_13): -146.06291145833336, Term(v_6_13): 65.26133333333333, Term(e_6_14): -149.38024479166668, Term(v_6_14): 63.81066666666666, Term(e_6_15): -152.817578125, Term(v_6_15): 62.24, Term(e_6_16): -156.37491145833334, Term(v_6_16): 60.54933333333334, Term(e_6_17): -160.05224479166668, Term(v_6_17): 58.73866666666667, Term(e_6_18): -163.849578125, Term(v_6_18): 56.80800000000001, Term(e_6_19): -167.80691145833333, Term(v_6_19): 54.71733333333333, Term(e_6_20): -171.92424479166667, Term(v_6_20): 52.46666666666667, Term(e_6_21): -176.201578125, Term(v_6_21): 50.056, Term(e_6_22): -180.67891145833335, Term(v_6_22): 47.44533333333334, Term(e_6_23): -185.35624479166665, Term(v_6_23): 44.59466666666666, Term(e_6_24): -190.35357812499998, Term(v_6_24): 41.464, Term(e_7_0): -133.577578125, Term(v_7_0): 88.56, Term(e_7_1): -133.82504479166667, Term(v_7_1): 89.64186666666666, Term(e_7_2): -134.79251145833334, Term(v_7_2): 90.00373333333334, Term(e_7_3): -136.159978125, Term(v_7_3): 89.9656, Term(e_7_4): -137.80744479166668, Term(v_7_4): 89.64746666666666, Term(e_7_5): -139.6949114583333, Term(v_7_5): 89.08933333333334, Term(e_7_6): -141.782378125, Term(v_7_6): 88.3312, Term(e_7_7): -144.02984479166668, Term(v_7_7): 87.37306666666666, Term(e_7_8): -146.47731145833336, Term(v_7_8): 86.25493333333333, Term(e_7_9): -149.084778125, Term(v_7_9): 84.9768, Term(e_7_10): -151.8522447916667, Term(v_7_10): 83.53866666666667, Term(e_7_11): -154.73971145833332, Term(v_7_11): 81.98053333333334, Term(e_7_12): -157.787178125, Term(v_7_12): 80.2624, Term(e_7_13): -160.95464479166668, Term(v_7_13): 78.38426666666666, Term(e_7_14): -164.28211145833336, Term(v_7_14): 76.38613333333333, Term(e_7_15): -167.769578125, Term(v_7_15): 74.228, Term(e_7_16): -171.37704479166666, Term(v_7_16): 71.94986666666667, Term(e_7_17): -175.14451145833334, Term(v_7_17): 69.51173333333332, Term(e_7_18): -179.071978125, Term(v_7_18): 66.9136, Term(e_7_19): -183.15944479166666, Term(v_7_19): 64.11546666666666, Term(e_7_20): -187.44691145833335, Term(v_7_20): 61.15733333333333, Term(e_7_21): -191.93437812500002, Term(v_7_21): 57.9992, Term(e_7_22): -196.66184479166665, Term(v_7_22): 54.60106666666667, Term(e_7_23): -201.66931145833334, Term(v_7_23): 50.92293333333333, Term(e_7_24): -207.07677812499998, Term(v_7_24): 46.8448, Term(e_8_0): -137.697578125, Term(v_8_0): 92.68, Term(e_8_1): -137.68851145833332, Term(v_8_1): 94.02773333333333, Term(e_8_2): -138.47944479166665, Term(v_8_2): 94.57546666666666, Term(e_8_3): -139.710378125, Term(v_8_3): 94.6832, Term(e_8_4): -141.26131145833335, Term(v_8_4): 94.47093333333332, Term(e_8_5): -143.09224479166667, Term(v_8_5): 93.97866666666667, Term(e_8_6): -145.123178125, Term(v_8_6): 93.24640000000001, Term(e_8_7): -147.39411145833333, Term(v_8_7): 92.31413333333333, Term(e_8_8): -149.82504479166667, Term(v_8_8): 91.18186666666666, Term(e_8_9): -152.455978125, Term(v_8_9): 89.8896, Term(e_8_10): -155.24691145833333, Term(v_8_10): 88.43733333333333, Term(e_8_11): -158.19784479166668, Term(v_8_11): 86.78506666666667, Term(e_8_12): -161.308778125, Term(v_8_12): 84.9728, Term(e_8_13): -164.57971145833335, Term(v_8_13): 83.00053333333332, Term(e_8_14): -168.01064479166666, Term(v_8_14): 80.86826666666667, Term(e_8_15): -171.601578125, Term(v_8_15): 78.57600000000001, Term(e_8_16): -175.39251145833333, Term(v_8_16): 76.12373333333333, Term(e_8_17): -179.34344479166668, Term(v_8_17): 73.51146666666666, Term(e_8_18): -183.454378125, Term(v_8_18): 70.6992, Term(e_8_19): -187.76531145833331, Term(v_8_19): 67.72693333333333, Term(e_8_20): -192.27624479166667, Term(v_8_20): 64.51466666666667, Term(e_8_21): -197.02717812499998, Term(v_8_21): 61.1024, Term(e_8_22): -202.05811145833334, Term(v_8_22): 57.410133333333334, Term(e_8_23): -207.40904479166667, Term(v_8_23): 53.397866666666665, Term(e_8_24): -213.199978125, Term(v_8_24): 48.945600000000006, Term(e_9_0): -125.937578125, Term(v_9_0): 80.92, Term(e_9_1): -125.79571145833333, Term(v_9_1): 82.40453333333332, Term(e_9_2): -126.41384479166666, Term(v_9_2): 83.12906666666666, Term(e_9_3): -127.47197812499999, Term(v_9_3): 83.45360000000001, Term(e_9_4): -128.85011145833334, Term(v_9_4): 83.45813333333332, Term(e_9_5): -130.46824479166668, Term(v_9_5): 83.18266666666666, Term(e_9_6): -132.286378125, Term(v_9_6): 82.7072, Term(e_9_7): -134.30451145833334, Term(v_9_7): 82.03173333333334, Term(e_9_8): -136.52264479166666, Term(v_9_8): 81.15626666666665, Term(e_9_9): -138.900778125, Term(v_9_9): 80.1208, Term(e_9_10): -141.43891145833334, Term(v_9_10): 78.92533333333334, Term(e_9_11): -144.13704479166665, Term(v_9_11): 77.56986666666667, Term(e_9_12): -146.995178125, Term(v_9_12): 76.05440000000002, Term(e_9_13): -150.01331145833336, Term(v_9_13): 74.37893333333334, Term(e_9_14): -153.1914447916667, Term(v_9_14): 72.54346666666666, Term(e_9_15): -156.529578125, Term(v_9_15): 70.548, Term(e_9_16): -160.02771145833333, Term(v_9_16): 68.39253333333333, Term(e_9_17): -163.68584479166668, Term(v_9_17): 66.07706666666667, Term(e_9_18): -167.503978125, Term(v_9_18): 63.601600000000005, Term(e_9_19): -171.52211145833334, Term(v_9_19): 60.92613333333334, Term(e_9_20): -175.74024479166667, Term(v_9_20): 58.05066666666667, Term(e_9_21): -180.158378125, Term(v_9_21): 54.97520000000001, Term(e_9_22): -184.85651145833333, Term(v_9_22): 51.659733333333335, Term(e_9_23): -189.87464479166667, Term(v_9_23): 48.02426666666666, Term(e_9_24): -195.292778125, Term(v_9_24): 43.948800000000006, Term(e_10_0): -106.097578125, Term(v_10_0): 61.08, Term(e_10_1): -105.75304479166667, Term(v_10_1): 62.713866666666675, Term(e_10_2): -106.08851145833333, Term(v_10_2): 63.66773333333334, Term(e_10_3): -106.823978125, Term(v_10_3): 64.2216, Term(e_10_4): -107.83944479166666, Term(v_10_4): 64.49546666666666, Term(e_10_5): -109.05491145833334, Term(v_10_5): 64.56933333333333, Term(e_10_6): -110.470378125, Term(v_10_6): 64.4432, Term(e_10_7): -112.08584479166666, Term(v_10_7): 64.11706666666666, Term(e_10_8): -113.86131145833335, Term(v_10_8): 63.63093333333333, Term(e_10_9): -115.796778125, Term(v_10_9): 62.9848, Term(e_10_10): -117.85224479166668, Term(v_10_10): 62.178666666666665, Term(e_10_11): -120.06771145833333, Term(v_10_11): 61.25253333333333, Term(e_10_12): -122.403178125, Term(v_10_12): 60.166399999999996, Term(e_10_13): -124.89864479166667, Term(v_10_13): 58.96026666666667, Term(e_10_14): -127.51411145833333, Term(v_10_14): 57.59413333333333, Term(e_10_15): -130.289578125, Term(v_10_15): 56.108000000000004, Term(e_10_16): -133.18504479166666, Term(v_10_16): 54.461866666666666, Term(e_10_17): -136.24051145833334, Term(v_10_17): 52.69573333333333, Term(e_10_18): -139.455978125, Term(v_10_18): 50.7696, Term(e_10_19): -142.83144479166668, Term(v_10_19): 48.68346666666667, Term(e_10_20): -146.40691145833335, Term(v_10_20): 46.397333333333336, Term(e_10_21): -150.182378125, Term(v_10_21): 43.91120000000001, Term(e_10_22): -154.15784479166666, Term(v_10_22): 41.22506666666666, Term(e_10_23): -158.41331145833334, Term(v_10_23): 38.25893333333333, Term(e_10_24): -163.068778125, Term(v_10_24): 34.89280000000001, Term(e_11_0): -88.097578125, Term(v_11_0): 43.08, Term(e_11_1): -87.01864479166667, Term(v_11_1): 45.22026666666666, Term(e_11_2): -86.65971145833333, Term(v_11_2): 46.64053333333334, Term(e_11_3): -86.700778125, Term(v_11_3): 47.6608, Term(e_11_4): -87.02184479166667, Term(v_11_4): 48.401066666666665, Term(e_11_5): -87.58291145833333, Term(v_11_5): 48.90133333333334, Term(e_11_6): -88.343978125, Term(v_11_6): 49.2016, Term(e_11_7): -89.30504479166666, Term(v_11_7): 49.30186666666667, Term(e_11_8): -90.42611145833334, Term(v_11_8): 49.24213333333333, Term(e_11_9): -91.707178125, Term(v_11_9): 49.022400000000005, Term(e_11_10): -93.14824479166667, Term(v_11_10): 48.64266666666666, Term(e_11_11): -94.70931145833333, Term(v_11_11): 48.10293333333334, Term(e_11_12): -96.430378125, Term(v_11_12): 47.4032, Term(e_11_13): -98.31144479166667, Term(v_11_13): 46.583466666666666, Term(e_11_14): -100.31251145833335, Term(v_11_14): 45.603733333333324, Term(e_11_15): -102.47357812499999, Term(v_11_15): 44.464000000000006, Term(e_11_16): -104.79464479166667, Term(v_11_16): 43.20426666666667, Term(e_11_17): -107.27571145833335, Term(v_11_17): 41.78453333333333, Term(e_11_18): -109.916778125, Term(v_11_18): 40.2048, Term(e_11_19): -112.71784479166668, Term(v_11_19): 38.46506666666667, Term(e_11_20): -115.71891145833335, Term(v_11_20): 36.525333333333336, Term(e_11_21): -118.919978125, Term(v_11_21): 34.385600000000004, Term(e_11_22): -122.36104479166667, Term(v_11_22): 32.00586666666666, Term(e_11_23): -126.08211145833333, Term(v_11_23): 29.346133333333327, Term(e_11_24): -130.20317812500002, Term(v_11_24): 26.286400000000004, Term(e_12_0): -75.897578125, Term(v_12_0): 30.88, Term(e_12_1): -74.30824479166667, Term(v_12_1): 33.24266666666667, Term(e_12_2): -73.39891145833333, Term(v_12_2): 34.885333333333335, Term(e_12_3): -72.889578125, Term(v_12_3): 36.128, Term(e_12_4): -72.66024479166667, Term(v_12_4): 37.090666666666664, Term(e_12_5): -72.67091145833334, Term(v_12_5): 37.81333333333333, Term(e_12_6): -72.921578125, Term(v_12_6): 38.336000000000006, Term(e_12_7): -73.33224479166667, Term(v_12_7): 38.65866666666666, Term(e_12_8): -73.90291145833334, Term(v_12_8): 38.821333333333335, Term(e_12_9): -74.633578125, Term(v_12_9): 38.824, Term(e_12_10): -75.52424479166666, Term(v_12_10): 38.66666666666667, Term(e_12_11): -76.57491145833333, Term(v_12_11): 38.349333333333334, Term(e_12_12): -77.785578125, Term(v_12_12): 37.912000000000006, Term(e_12_13): -79.11624479166667, Term(v_12_13): 37.31466666666667, Term(e_12_14): -80.60691145833334, Term(v_12_14): 36.59733333333333, Term(e_12_15): -82.21757812499999, Term(v_12_15): 35.72, Term(e_12_16): -83.98824479166667, Term(v_12_16): 34.68266666666666, Term(e_12_17): -85.91891145833334, Term(v_12_17): 33.48533333333333, Term(e_12_18): -88.00957812499999, Term(v_12_18): 32.128, Term(e_12_19): -90.26024479166666, Term(v_12_19): 30.610666666666667, Term(e_12_20): -92.71091145833333, Term(v_12_20): 28.93333333333333, Term(e_12_21): -95.361578125, Term(v_12_21): 27.016000000000002, Term(e_12_22): -98.25224479166667, Term(v_12_22): 24.858666666666664, Term(e_12_23): -101.42291145833335, Term(v_12_23): 22.42133333333333, Term(e_12_24): -104.993578125, Term(v_12_24): 19.584000000000003, Term(e_13_0): -67.457578125, Term(v_13_0): 22.44, Term(e_13_1): -65.50504479166668, Term(v_13_1): 24.901866666666663, Term(e_13_2): -64.27251145833333, Term(v_13_2): 26.64373333333333, Term(e_13_3): -63.399978125000004, Term(v_13_3): 28.0256, Term(e_13_4): -62.84744479166667, Term(v_13_4): 29.127466666666663, Term(e_13_5): -62.494911458333334, Term(v_13_5): 29.989333333333335, Term(e_13_6): -62.342378124999996, Term(v_13_6): 30.6512, Term(e_13_7): -62.38984479166667, Term(v_13_7): 31.113066666666665, Term(e_13_8): -62.59731145833334, Term(v_13_8): 31.414933333333334, Term(e_13_9): -62.964778124999995, Term(v_13_9): 31.556800000000003, Term(e_13_10): -63.492244791666664, Term(v_13_10): 31.538666666666664, Term(e_13_11): -64.13971145833332, Term(v_13_11): 31.400533333333335, Term(e_13_12): -64.947178125, Term(v_13_12): 31.102400000000003, Term(e_13_13): -65.91464479166666, Term(v_13_13): 30.684266666666666, Term(e_13_14): -67.00211145833333, Term(v_13_14): 30.106133333333332, Term(e_13_15): -68.249578125, Term(v_13_15): 29.368000000000002, Term(e_13_16): -69.61704479166667, Term(v_13_16): 28.509866666666664, Term(e_13_17): -71.14451145833334, Term(v_13_17): 27.49173333333333, Term(e_13_18): -72.83197812499999, Term(v_13_18): 26.3136, Term(e_13_19): -74.67944479166667, Term(v_13_19): 24.975466666666666, Term(e_13_20): -76.72691145833333, Term(v_13_20): 23.43733333333333, Term(e_13_21): -78.97437812499999, Term(v_13_21): 21.6992, Term(e_13_22): -81.46184479166666, Term(v_13_22): 19.761066666666665, Term(e_13_23): -84.22931145833334, Term(v_13_23): 17.50293333333333, Term(e_13_24): -87.356778125, Term(v_13_24): 14.884800000000002, Term(e_14_0): -60.977578125, Term(v_14_0): 15.96, Term(e_14_1): -58.735444791666666, Term(v_14_1): 18.619466666666668, Term(e_14_2): -57.21331145833334, Term(v_14_2): 20.558933333333336, Term(e_14_3): -56.091178125, Term(v_14_3): 22.098399999999998, Term(e_14_4): -55.24904479166666, Term(v_14_4): 23.357866666666666, Term(e_14_5): -54.646911458333335, Term(v_14_5): 24.377333333333336, Term(e_14_6): -54.244778124999996, Term(v_14_6): 25.1968, Term(e_14_7): -54.04264479166667, Term(v_14_7): 25.816266666666667, Term(e_14_8): -54.000511458333335, Term(v_14_8): 26.27573333333333, Term(e_14_9): -54.118378125, Term(v_14_9): 26.5752, Term(e_14_10): -54.39624479166667, Term(v_14_10): 26.714666666666666, Term(e_14_11): -54.83411145833333, Term(v_14_11): 26.694133333333333, Term(e_14_12): -55.431978125, Term(v_14_12): 26.5536, Term(e_14_13): -56.149844791666666, Term(v_14_13): 26.253066666666665, Term(e_14_14): -57.027711458333336, Term(v_14_14): 25.83253333333333, Term(e_14_15): -58.025578124999996, Term(v_14_15): 25.252, Term(e_14_16): -59.183444791666666, Term(v_14_16): 24.511466666666664, Term(e_14_17): -60.50131145833333, Term(v_14_17): 23.610933333333328, Term(e_14_18): -61.979178125, Term(v_14_18): 22.5504, Term(e_14_19): -63.61704479166667, Term(v_14_19): 21.329866666666668, Term(e_14_20): -65.45491145833333, Term(v_14_20): 19.90933333333333, Term(e_14_21): -67.492778125, Term(v_14_21): 18.288800000000002, Term(e_14_22): -69.77064479166667, Term(v_14_22): 16.428266666666666, Term(e_14_23): -72.32851145833334, Term(v_14_23): 14.28773333333333, Term(e_14_24): -75.286378125, Term(v_14_24): 11.747200000000003, Term(e_15_0): -57.537578124999996, Term(v_15_0): 12.52, Term(e_15_1): -55.348778125, Term(v_15_1): 15.272800000000002, Term(e_15_2): -53.879978125, Term(v_15_2): 17.3056, Term(e_15_3): -52.811178125, Term(v_15_3): 18.9384, Term(e_15_4): -52.022378125, Term(v_15_4): 20.2912, Term(e_15_5): -51.473578124999996, Term(v_15_5): 21.404000000000003, Term(e_15_6): -51.124778125, Term(v_15_6): 22.3168, Term(e_15_7): -50.975978125000005, Term(v_15_7): 23.029600000000002, Term(e_15_8): -50.987178125, Term(v_15_8): 23.5824, Term(e_15_9): -51.158378125, Term(v_15_9): 23.9752, Term(e_15_10): -51.489578125, Term(v_15_10): 24.208, Term(e_15_11): -51.940778125, Term(v_15_11): 24.320800000000002, Term(e_15_12): -52.551978125, Term(v_15_12): 24.2736, Term(e_15_13): -53.283178125000006, Term(v_15_13): 24.066399999999998, Term(e_15_14): -54.174378125000004, Term(v_15_14): 23.7392, Term(e_15_15): -55.225578125, Term(v_15_15): 23.252, Term(e_15_16): -56.396778125, Term(v_15_16): 22.6448, Term(e_15_17): -57.72797812500001, Term(v_15_17): 21.8776, Term(e_15_18): -59.219178125, Term(v_15_18): 20.950400000000002, Term(e_15_19): -60.870378125, Term(v_15_19): 19.8632, Term(e_15_20): -62.721578125, Term(v_15_20): 18.575999999999997, Term(e_15_21): -64.772778125, Term(v_15_21): 17.088800000000003, Term(e_15_22): -67.063978125, Term(v_15_22): 15.361600000000001, Term(e_15_23): -69.63517812500001, Term(v_15_23): 13.354399999999998, Term(e_15_24): -72.60637812499999, Term(v_15_24): 10.947200000000002, Term(e_16_0): -63.457578125, Term(v_16_0): 18.44, Term(e_16_1): -61.73331145833333, Term(v_16_1): 20.878933333333336, Term(e_16_2): -60.68904479166666, Term(v_16_2): 22.637866666666664, Term(e_16_3): -60.004778125, Term(v_16_3): 24.0368, Term(e_16_4): -59.60051145833333, Term(v_16_4): 25.19573333333333, Term(e_16_5): -59.39624479166666, Term(v_16_5): 26.11466666666667, Term(e_16_6): -59.391978125, Term(v_16_6): 26.8336, Term(e_16_7): -59.54771145833333, Term(v_16_7): 27.392533333333333, Term(e_16_8): -59.863444791666666, Term(v_16_8): 27.791466666666665, Term(e_16_9): -60.339178125, Term(v_16_9): 28.0304, Term(e_16_10): -60.93491145833333, Term(v_16_10): 28.149333333333335, Term(e_16_11): -61.690644791666664, Term(v_16_11): 28.108266666666665, Term(e_16_12): -62.566378125, Term(v_16_12): 27.9472, Term(e_16_13): -63.60211145833333, Term(v_16_13): 27.666133333333335, Term(e_16_14): -64.75784479166667, Term(v_16_14): 27.225066666666663, Term(e_16_15): -66.03357812499999, Term(v_16_15): 26.664, Term(e_16_16): -67.46931145833334, Term(v_16_16): 25.942933333333333, Term(e_16_17): -69.02504479166666, Term(v_16_17): 25.101866666666663, Term(e_16_18): -70.74077812499999, Term(v_16_18): 24.1008, Term(e_16_19): -72.61651145833333, Term(v_16_19): 22.939733333333333, Term(e_16_20): -74.65224479166667, Term(v_16_20): 21.618666666666662, Term(e_16_21): -76.88797812499999, Term(v_16_21): 20.0976, Term(e_16_22): -79.36371145833333, Term(v_16_22): 18.376533333333334, Term(e_16_23): -82.07944479166667, Term(v_16_23): 16.375466666666664, Term(e_16_24): -85.15517812499999, Term(v_16_24): 14.014400000000002, Term(e_17_0): -79.897578125, Term(v_17_0): 34.88, Term(e_17_1): -78.66771145833334, Term(v_17_1): 36.97253333333334, Term(e_17_2): -78.11784479166667, Term(v_17_2): 38.38506666666667, Term(e_17_3): -77.92797812500001, Term(v_17_3): 39.4376, Term(e_17_4): -78.01811145833334, Term(v_17_4): 40.21013333333333, Term(e_17_5): -78.30824479166667, Term(v_17_5): 40.782666666666664, Term(e_17_6): -78.798378125, Term(v_17_6): 41.15520000000001, Term(e_17_7): -79.48851145833333, Term(v_17_7): 41.367733333333334, Term(e_17_8): -80.33864479166667, Term(v_17_8): 41.42026666666666, Term(e_17_9): -81.308778125, Term(v_17_9): 41.312799999999996, Term(e_17_10): -82.43891145833334, Term(v_17_10): 41.04533333333333, Term(e_17_11): -83.68904479166666, Term(v_17_11): 40.65786666666666, Term(e_17_12): -85.09917812500001, Term(v_17_12): 40.1504, Term(e_17_13): -86.62931145833333, Term(v_17_13): 39.48293333333333, Term(e_17_14): -88.31944479166667, Term(v_17_14): 38.69546666666666, Term(e_17_15): -90.129578125, Term(v_17_15): 37.748000000000005, Term(e_17_16): -92.05971145833334, Term(v_17_16): 36.68053333333333, Term(e_17_17): -94.14984479166667, Term(v_17_17): 35.453066666666665, Term(e_17_18): -96.39997812499999, Term(v_17_18): 34.1056, Term(e_17_19): -98.81011145833332, Term(v_17_19): 32.59813333333334, Term(e_17_20): -101.38024479166666, Term(v_17_20): 30.890666666666664, Term(e_17_21): -104.150378125, Term(v_17_21): 28.983200000000004, Term(e_17_22): -107.12051145833333, Term(v_17_22): 26.87573333333333, Term(e_17_23): -110.37064479166668, Term(v_17_23): 24.488266666666664, Term(e_17_24): -113.980778125, Term(v_17_24): 21.740800000000004, Term(e_18_0): -101.577578125, Term(v_18_0): 56.56, Term(e_18_1): -101.10771145833334, Term(v_18_1): 58.172533333333334, Term(e_18_2): -101.27784479166667, Term(v_18_2): 59.105066666666666, Term(e_18_3): -101.847978125, Term(v_18_3): 59.6776, Term(e_18_4): -102.65811145833334, Term(v_18_4): 60.010133333333336, Term(e_18_5): -103.70824479166666, Term(v_18_5): 60.102666666666664, Term(e_18_6): -104.958378125, Term(v_18_6): 59.995200000000004, Term(e_18_7): -106.36851145833333, Term(v_18_7): 59.72773333333333, Term(e_18_8): -107.93864479166668, Term(v_18_8): 59.30026666666666, Term(e_18_9): -109.668778125, Term(v_18_9): 58.7128, Term(e_18_10): -111.51891145833333, Term(v_18_10): 58.00533333333333, Term(e_18_11): -113.52904479166665, Term(v_18_11): 57.13786666666667, Term(e_18_12): -115.659178125, Term(v_18_12): 56.15039999999999, Term(e_18_13): -117.90931145833333, Term(v_18_13): 55.00293333333333, Term(e_18_14): -120.31944479166667, Term(v_18_14): 53.73546666666667, Term(e_18_15): -122.849578125, Term(v_18_15): 52.348000000000006, Term(e_18_16): -125.53971145833333, Term(v_18_16): 50.800533333333334, Term(e_18_17): -128.34984479166667, Term(v_18_17): 49.133066666666664, Term(e_18_18): -131.319978125, Term(v_18_18): 47.3056, Term(e_18_19): -134.4501114583333, Term(v_18_19): 45.318133333333336, Term(e_18_20): -137.74024479166667, Term(v_18_20): 43.17066666666666, Term(e_18_21): -141.230378125, Term(v_18_21): 40.8232, Term(e_18_22): -144.96051145833331, Term(v_18_22): 38.23573333333333, Term(e_18_23): -148.93064479166668, Term(v_18_23): 35.40826666666666, Term(e_18_24): -153.260778125, Term(v_18_24): 32.180800000000005, Term(e_19_0): -123.457578125, Term(v_19_0): 78.44, Term(e_19_1): -124.43357812500001, Term(v_19_1): 79.204, Term(e_19_2): -125.969578125, Term(v_19_2): 79.408, Term(e_19_3): -127.825578125, Term(v_19_3): 79.292, Term(e_19_4): -129.921578125, Term(v_19_4): 78.976, Term(e_19_5): -132.177578125, Term(v_19_5): 78.46, Term(e_19_6): -134.59357812500002, Term(v_19_6): 77.784, Term(e_19_7): -137.16957812500002, Term(v_19_7): 76.94800000000001, Term(e_19_8): -139.865578125, Term(v_19_8): 75.99199999999999, Term(e_19_9): -142.681578125, Term(v_19_9): 74.916, Term(e_19_10): -145.61757812500002, Term(v_19_10): 73.72, Term(e_19_11): -148.673578125, Term(v_19_11): 72.404, Term(e_19_12): -151.849578125, Term(v_19_12): 70.968, Term(e_19_13): -155.145578125, Term(v_19_13): 69.452, Term(e_19_14): -158.52157812500002, Term(v_19_14): 67.816, Term(e_19_15): -162.017578125, Term(v_19_15): 66.06, Term(e_19_16): -165.63357812499999, Term(v_19_16): 64.184, Term(e_19_17): -169.36957812500003, Term(v_19_17): 62.188, Term(e_19_18): -173.225578125, Term(v_19_18): 60.072, Term(e_19_19): -177.201578125, Term(v_19_19): 57.836, Term(e_19_20): -181.33757812500002, Term(v_19_20): 55.44, Term(e_19_21): -185.63357812499999, Term(v_19_21): 52.884, Term(e_19_22): -190.12957812500002, Term(v_19_22): 50.168000000000006, Term(e_19_23): -194.82557812500002, Term(v_19_23): 47.211999999999996, Term(e_19_24): -199.841578125, Term(v_19_24): 43.93600000000001, Term(e_20_0): -150.617578125, Term(v_20_0): 105.6, Term(e_20_1): -152.38664479166667, Term(v_20_1): 106.35226666666667, Term(e_20_2): -154.83571145833332, Term(v_20_2): 106.42453333333334, Term(e_20_3): -157.64477812500002, Term(v_20_3): 106.13680000000001, Term(e_20_4): -160.73384479166668, Term(v_20_4): 105.56906666666666, Term(e_20_5): -164.02291145833334, Term(v_20_5): 104.76133333333334, Term(e_20_6): -167.51197812499998, Term(v_20_6): 103.7936, Term(e_20_7): -171.20104479166667, Term(v_20_7): 102.62586666666667, Term(e_20_8): -175.05011145833333, Term(v_20_8): 101.29813333333333, Term(e_20_9): -179.019178125, Term(v_20_9): 99.8104, Term(e_20_10): -183.14824479166668, Term(v_20_10): 98.20266666666667, Term(e_20_11): -187.4373114583333, Term(v_20_11): 96.43493333333333, Term(e_20_12): -191.846378125, Term(v_20_12): 94.54719999999999, Term(e_20_13): -196.37544479166667, Term(v_20_13): 92.49946666666666, Term(e_20_14): -201.06451145833336, Term(v_20_14): 90.33173333333332, Term(e_20_15): -205.873578125, Term(v_20_15): 88.04400000000001, Term(e_20_16): -210.8426447916667, Term(v_20_16): 85.59626666666668, Term(e_20_17): -215.93171145833335, Term(v_20_17): 82.98853333333332, Term(e_20_18): -221.180778125, Term(v_20_18): 80.2608, Term(e_20_19): -226.58984479166668, Term(v_20_19): 77.37306666666666, Term(e_20_20): -232.19891145833333, Term(v_20_20): 74.28533333333333, Term(e_20_21): -237.967978125, Term(v_20_21): 70.9976, Term(e_20_22): -243.97704479166666, Term(v_20_22): 67.50986666666667, Term(e_20_23): -250.26611145833334, Term(v_20_23): 63.74213333333333, Term(e_20_24): -256.915178125, Term(v_20_24): 59.6144, Term(e_21_0): -189.817578125, Term(v_21_0): 144.8, Term(e_21_1): -189.99144479166668, Term(v_21_1): 145.54346666666666, Term(e_21_2): -191.16531145833332, Term(v_21_2): 145.32693333333333, Term(e_21_3): -192.859178125, Term(v_21_3): 144.5504, Term(e_21_4): -194.95304479166666, Term(v_21_4): 143.41386666666665, Term(e_21_5): -197.36691145833333, Term(v_21_5): 141.91733333333335, Term(e_21_6): -200.06077812499998, Term(v_21_6): 140.14079999999998, Term(e_21_7): -203.03464479166666, Term(v_21_7): 138.12426666666667, Term(e_21_8): -206.24851145833333, Term(v_21_8): 135.86773333333332, Term(e_21_9): -209.66237812499998, Term(v_21_9): 133.4112, Term(e_21_10): -213.27624479166667, Term(v_21_10): 130.71466666666666, Term(e_21_11): -217.09011145833333, Term(v_21_11): 127.81813333333335, Term(e_21_12): -221.103978125, Term(v_21_12): 124.7216, Term(e_21_13): -225.3178447916667, Term(v_21_13): 121.42506666666667, Term(e_21_14): -229.73171145833334, Term(v_21_14): 117.92853333333333, Term(e_21_15): -234.345578125, Term(v_21_15): 114.232, Term(e_21_16): -239.15944479166666, Term(v_21_16): 110.33546666666666, Term(e_21_17): -244.21331145833335, Term(v_21_17): 106.23893333333334, Term(e_21_18): -249.46717812499998, Term(v_21_18): 101.94239999999999, Term(e_21_19): -254.96104479166667, Term(v_21_19): 97.40586666666667, Term(e_21_20): -260.6949114583333, Term(v_21_20): 92.58933333333331, Term(e_21_21): -266.708778125, Term(v_21_21): 87.49280000000002, Term(e_21_22): -273.08264479166667, Term(v_21_22): 82.07626666666667, Term(e_21_23): -279.81651145833337, Term(v_21_23): 76.25973333333333, Term(e_21_24): -287.110378125, Term(v_21_24): 69.92320000000001, Term(e_22_0): -170.137578125, Term(v_22_0): 125.12, Term(e_22_1): -172.358378125, Term(v_22_1): 125.2752, Term(e_22_2): -175.21917812499998, Term(v_22_2): 124.7504, Term(e_22_3): -178.439978125, Term(v_22_3): 123.9056, Term(e_22_4): -181.940778125, Term(v_22_4): 122.7808, Term(e_22_5): -185.641578125, Term(v_22_5): 121.45599999999999, Term(e_22_6): -189.542378125, Term(v_22_6): 119.93120000000002, Term(e_22_7): -193.603178125, Term(v_22_7): 118.2464, Term(e_22_8): -197.823978125, Term(v_22_8): 116.4016, Term(e_22_9): -202.164778125, Term(v_22_9): 114.39680000000001, Term(e_22_10): -206.66557812500002, Term(v_22_10): 112.27199999999999, Term(e_22_11): -211.286378125, Term(v_22_11): 109.9872, Term(e_22_12): -216.067178125, Term(v_22_12): 107.5824, Term(e_22_13): -220.96797812500003, Term(v_22_13): 105.05760000000001, Term(e_22_14): -225.988778125, Term(v_22_14): 102.4128, Term(e_22_15): -231.129578125, Term(v_22_15): 99.608, Term(e_22_16): -236.430378125, Term(v_22_16): 96.6832, Term(e_22_17): -241.851178125, Term(v_22_17): 93.5984, Term(e_22_18): -247.431978125, Term(v_22_18): 90.3936, Term(e_22_19): -253.172778125, Term(v_22_19): 87.02879999999999, Term(e_22_20): -259.07357812500004, Term(v_22_20): 83.50399999999999, Term(e_22_21): -265.174378125, Term(v_22_21): 79.7792, Term(e_22_22): -271.475178125, Term(v_22_22): 75.8544, Term(e_22_23): -278.055978125, Term(v_22_23): 71.64959999999999, Term(e_22_24): -284.956778125, Term(v_22_24): 67.0848, Term(e_23_0): -146.377578125, Term(v_23_0): 101.36, Term(e_23_1): -149.091178125, Term(v_23_1): 100.9584, Term(e_23_2): -152.164778125, Term(v_23_2): 100.1568, Term(e_23_3): -155.43837812499999, Term(v_23_3): 99.15520000000001, Term(e_23_4): -158.871978125, Term(v_23_4): 97.99359999999999, Term(e_23_5): -162.425578125, Term(v_23_5): 96.712, Term(e_23_6): -166.099178125, Term(v_23_6): 95.3104, Term(e_23_7): -169.85277812500001, Term(v_23_7): 93.8288, Term(e_23_8): -173.726378125, Term(v_23_8): 92.26719999999999, Term(e_23_9): -177.679978125, Term(v_23_9): 90.5856, Term(e_23_10): -181.713578125, Term(v_23_10): 88.82400000000001, Term(e_23_11): -185.827178125, Term(v_23_11): 86.9824, Term(e_23_12): -190.020778125, Term(v_23_12): 85.1008, Term(e_23_13): -194.294378125, Term(v_23_13): 83.1392, Term(e_23_14): -198.647978125, Term(v_23_14): 81.0976, Term(e_23_15): -203.041578125, Term(v_23_15): 78.976, Term(e_23_16): -207.515178125, Term(v_23_16): 76.7744, Term(e_23_17): -212.06877812500002, Term(v_23_17): 74.4928, Term(e_23_18): -216.74237812500002, Term(v_23_18): 72.1312, Term(e_23_19): -221.49597812500002, Term(v_23_19): 69.6496, Term(e_23_20): -226.329578125, Term(v_23_20): 67.088, Term(e_23_21): -231.283178125, Term(v_23_21): 64.4064, Term(e_23_22): -236.356778125, Term(v_23_22): 61.604800000000004, Term(e_23_23): -241.590378125, Term(v_23_23): 58.6432, Term(e_23_24): -247.02397812499999, Term(v_23_24): 55.4816, Term(e_24_0): -130.297578125, Term(v_24_0): 85.28, Term(e_24_1): -132.963178125, Term(v_24_1): 85.1064, Term(e_24_2): -135.988778125, Term(v_24_2): 84.61280000000001, Term(e_24_3): -139.174378125, Term(v_24_3): 83.9192, Term(e_24_4): -142.519978125, Term(v_24_4): 83.1056, Term(e_24_5): -145.945578125, Term(v_24_5): 82.172, Term(e_24_6): -149.491178125, Term(v_24_6): 81.1584, Term(e_24_7): -153.116778125, Term(v_24_7): 80.0248, Term(e_24_8): -156.822378125, Term(v_24_8): 78.81119999999999, Term(e_24_9): -160.607978125, Term(v_24_9): 77.5576, Term(e_24_10): -164.473578125, Term(v_24_10): 76.224, Term(e_24_11): -168.37917812499998, Term(v_24_11): 74.8104, Term(e_24_12): -172.364778125, Term(v_24_12): 73.3168, Term(e_24_13): -176.430378125, Term(v_24_13): 71.7832, Term(e_24_14): -180.53597812499999, Term(v_24_14): 70.1696, Term(e_24_15): -184.721578125, Term(v_24_15): 68.476, Term(e_24_16): -188.98717812499999, Term(v_24_16): 66.74239999999999, Term(e_24_17): -193.332778125, Term(v_24_17): 64.9288, Term(e_24_18): -197.718378125, Term(v_24_18): 63.0352, Term(e_24_19): -202.18397812499998, Term(v_24_19): 61.0616, Term(e_24_20): -206.76957812499998, Term(v_24_20): 59.007999999999996, Term(e_24_21): -211.435178125, Term(v_24_21): 56.8344, Term(e_24_22): -216.220778125, Term(v_24_22): 54.580799999999996, Term(e_24_23): -221.126378125, Term(v_24_23): 52.167199999999994, Term(e_24_24): -226.23197812499998, Term(v_24_24): 49.5936})\n"
     ]
    }
   ]
  },
  {
   "cell_type": "markdown",
   "source": [
    "***Nebenbedingungen/ Restriktionen***"
   ],
   "metadata": {
    "id": "4LJ8EtXBGw06"
   }
  },
  {
   "cell_type": "code",
   "source": [
    "# Ladestand zur Stunde 0 = Ladestand zur Stunde 24, also Summe Lademenge und Entlademenge gleich\n",
    "scip.addCons(quicksum(((e_h_r[(h,r)] * f_e) - (v_h_r[(h,r)] / f_v)) for r in R for h in H) == 0, name=\"Anfangs- und Endbestand gleich\")\n",
    "\n",
    "# Maximale Ladezyklen am pro Tag anhand der Einkaufsmenge (mit Faktor = Lademenge), alternativ anhand der Verkaufsmenge\n",
    "scip.addCons(quicksum((e_h_r[(h,r)] * f_e) for r in R for h in H) <= (erlaubte_zyklen_pro_tag * nettokapazität), name=\"Maximale Ladezyklen pro Tag\")\n",
    "\n",
    "# Mindestladestand nicht unterschritten und Höchstladestand nicht überschritten\n",
    "for h in H:\n",
    "    H_t =  [n for n in range(1, h+1)]\n",
    "    scip.addCons( (a + quicksum(((e_h_r[(t, r)] * f_e) - (v_h_r[(t, r)] / f_v)) for r in R for t in H_t)) >= u, name=f\"Mindestladestand zum Zeitpunkt t={h}\")\n",
    "    scip.addCons( (a + quicksum(((e_h_r[(t, r)] * f_e) - (v_h_r[(t, r)] / f_v)) for r in R for t in H_t)) <= o, name=f\"Maximalladestand zum Zeitpunkt t={h}\")\n",
    "\n",
    "# Lade- und Entladeleistung begrenzt (C-Rate)\n",
    "for h in H:\n",
    "    scip.addCons(quicksum(((e_h_r[(h, r)] * f_e) + (v_h_r[(h, r)] / f_v)) for r in R) <= c * nennkapazität, name=f\"Lade-/Entladeleistung der Stunde h={h}\")\n",
    "\n",
    "\n",
    "print('Nebenbedingungen =', scip.getConss())"
   ],
   "metadata": {
    "id": "drIHi2kOG9Mx",
    "colab": {
     "base_uri": "https://localhost:8080/"
    },
    "outputId": "7d6e41d9-b00a-4839-cfc9-03dc772deddf",
    "ExecuteTime": {
     "end_time": "2025-01-26T18:07:54.844405Z",
     "start_time": "2025-01-26T18:07:54.800580Z"
    }
   },
   "execution_count": 31,
   "outputs": [
    {
     "name": "stdout",
     "output_type": "stream",
     "text": [
      "Nebenbedingungen = [Anfangs- und Endbestand gleich, Maximale Ladezyklen pro Tag, Mindestladestand zum Zeitpunkt t=1, Maximalladestand zum Zeitpunkt t=1, Mindestladestand zum Zeitpunkt t=2, Maximalladestand zum Zeitpunkt t=2, Mindestladestand zum Zeitpunkt t=3, Maximalladestand zum Zeitpunkt t=3, Mindestladestand zum Zeitpunkt t=4, Maximalladestand zum Zeitpunkt t=4, Mindestladestand zum Zeitpunkt t=5, Maximalladestand zum Zeitpunkt t=5, Mindestladestand zum Zeitpunkt t=6, Maximalladestand zum Zeitpunkt t=6, Mindestladestand zum Zeitpunkt t=7, Maximalladestand zum Zeitpunkt t=7, Mindestladestand zum Zeitpunkt t=8, Maximalladestand zum Zeitpunkt t=8, Mindestladestand zum Zeitpunkt t=9, Maximalladestand zum Zeitpunkt t=9, Mindestladestand zum Zeitpunkt t=10, Maximalladestand zum Zeitpunkt t=10, Mindestladestand zum Zeitpunkt t=11, Maximalladestand zum Zeitpunkt t=11, Mindestladestand zum Zeitpunkt t=12, Maximalladestand zum Zeitpunkt t=12, Mindestladestand zum Zeitpunkt t=13, Maximalladestand zum Zeitpunkt t=13, Mindestladestand zum Zeitpunkt t=14, Maximalladestand zum Zeitpunkt t=14, Mindestladestand zum Zeitpunkt t=15, Maximalladestand zum Zeitpunkt t=15, Mindestladestand zum Zeitpunkt t=16, Maximalladestand zum Zeitpunkt t=16, Mindestladestand zum Zeitpunkt t=17, Maximalladestand zum Zeitpunkt t=17, Mindestladestand zum Zeitpunkt t=18, Maximalladestand zum Zeitpunkt t=18, Mindestladestand zum Zeitpunkt t=19, Maximalladestand zum Zeitpunkt t=19, Mindestladestand zum Zeitpunkt t=20, Maximalladestand zum Zeitpunkt t=20, Mindestladestand zum Zeitpunkt t=21, Maximalladestand zum Zeitpunkt t=21, Mindestladestand zum Zeitpunkt t=22, Maximalladestand zum Zeitpunkt t=22, Mindestladestand zum Zeitpunkt t=23, Maximalladestand zum Zeitpunkt t=23, Mindestladestand zum Zeitpunkt t=24, Maximalladestand zum Zeitpunkt t=24, Lade-/Entladeleistung der Stunde h=1, Lade-/Entladeleistung der Stunde h=2, Lade-/Entladeleistung der Stunde h=3, Lade-/Entladeleistung der Stunde h=4, Lade-/Entladeleistung der Stunde h=5, Lade-/Entladeleistung der Stunde h=6, Lade-/Entladeleistung der Stunde h=7, Lade-/Entladeleistung der Stunde h=8, Lade-/Entladeleistung der Stunde h=9, Lade-/Entladeleistung der Stunde h=10, Lade-/Entladeleistung der Stunde h=11, Lade-/Entladeleistung der Stunde h=12, Lade-/Entladeleistung der Stunde h=13, Lade-/Entladeleistung der Stunde h=14, Lade-/Entladeleistung der Stunde h=15, Lade-/Entladeleistung der Stunde h=16, Lade-/Entladeleistung der Stunde h=17, Lade-/Entladeleistung der Stunde h=18, Lade-/Entladeleistung der Stunde h=19, Lade-/Entladeleistung der Stunde h=20, Lade-/Entladeleistung der Stunde h=21, Lade-/Entladeleistung der Stunde h=22, Lade-/Entladeleistung der Stunde h=23, Lade-/Entladeleistung der Stunde h=24]\n"
     ]
    }
   ]
  },
  {
   "cell_type": "markdown",
   "source": [
    "**Berechnung der Lösung**"
   ],
   "metadata": {
    "id": "z30z05i1HAMS"
   }
  },
  {
   "cell_type": "code",
   "source": [
    "scip.setIntParam(\"display/verblevel\", 5)  # Set verbosity level to 5\n",
    "\n",
    "\n",
    "scip.optimize()\n",
    "# Status des Solvers\n",
    "status = scip.getStatus()\n",
    "print(f\"Status des Solvers: {status} \\n\")\n",
    "\n",
    "if status == \"optimal\":\n",
    "    print('LÖSUNG:')\n",
    "    print('Zielfunktionswert (Gewinn) =', scip.getObjVal())\n",
    "    for h in H:\n",
    "      v_h = 0\n",
    "      e_h = 0\n",
    "      risikoklasse_v = None\n",
    "      risikodict_v = {}\n",
    "      risikoklasse_e = None\n",
    "      risikodict_e = {}\n",
    "      for r in R:\n",
    "        risikodict_v[r] = scip.getVal(v_h_r[(h, r)])\n",
    "        risikodict_e[r] = scip.getVal(e_h_r[(h, r)])\n",
    "        if scip.getVal(v_h_r[(h, r)]) > 0:\n",
    "          risikoklasse_v = r\n",
    "\n",
    "        if scip.getVal(e_h_r[(h, r)]) > 0:\n",
    "          risikoklasse_e = r\n",
    "\n",
    "        v_h += scip.getVal(v_h_r[(h, r)])\n",
    "        e_h += scip.getVal(e_h_r[(h, r)])\n",
    "      print(\"EINKAUF Stunde\", h, \" : \" , e_h)\n",
    "      if risikoklasse_e != None: print(\"EINKAUF Risikoklasse Stunde\", h, \" : \", risikoklasse_e)\n",
    "      #print(\"EINKAUF Risiko: \", risikodict_e)\n",
    "      print(\"Verkauf Stunde\", h, \" : \" , v_h)\n",
    "      if risikoklasse_v != None: print(\"VERKAUF Risikoklasse Stunde\", h, \" : \", risikoklasse_v)\n",
    "      #print(\"VERKAUF Risiko: \", risikodict_v)\n",
    "else:\n",
    "    print('Problem hat keine Lösung')"
   ],
   "metadata": {
    "id": "UJ1ttWA9HCXI",
    "colab": {
     "base_uri": "https://localhost:8080/"
    },
    "outputId": "3bb99279-749e-4213-87d5-5760d84dbef7",
    "ExecuteTime": {
     "end_time": "2025-01-26T18:07:54.880043Z",
     "start_time": "2025-01-26T18:07:54.846190Z"
    }
   },
   "execution_count": 32,
   "outputs": [
    {
     "name": "stdout",
     "output_type": "stream",
     "text": [
      "LP Solver <Soplex 7.1.1>: barrier convergence tolerance cannot be set -- tolerance of SCIP and LP solver may differ\n",
      "LP Solver <Soplex 7.1.1>: fastmip setting not available -- SCIP parameter has no effect\n",
      "LP Solver <Soplex 7.1.1>: number of threads settings not available -- SCIP parameter has no effect\n",
      "Status des Solvers: optimal \n",
      "\n",
      "LÖSUNG:\n",
      "Zielfunktionswert (Gewinn) = 2147.819629826543\n",
      "EINKAUF Stunde 1  :  0.0\n",
      "Verkauf Stunde 1  :  0.0\n",
      "EINKAUF Stunde 2  :  0.0\n",
      "Verkauf Stunde 2  :  0.0\n",
      "EINKAUF Stunde 3  :  0.0\n",
      "Verkauf Stunde 3  :  0.0\n",
      "EINKAUF Stunde 4  :  0.0\n",
      "Verkauf Stunde 4  :  0.0\n",
      "EINKAUF Stunde 5  :  0.0\n",
      "Verkauf Stunde 5  :  0.0\n",
      "EINKAUF Stunde 6  :  0.0\n",
      "Verkauf Stunde 6  :  0.0\n",
      "EINKAUF Stunde 7  :  0.0\n",
      "Verkauf Stunde 7  :  0.0\n",
      "EINKAUF Stunde 8  :  0.0\n",
      "Verkauf Stunde 8  :  11.516923076923078\n",
      "VERKAUF Risikoklasse Stunde 8  :  3\n",
      "EINKAUF Stunde 9  :  0.0\n",
      "Verkauf Stunde 9  :  0.0\n",
      "EINKAUF Stunde 10  :  0.0\n",
      "Verkauf Stunde 10  :  -1.7048470897115737e-15\n",
      "EINKAUF Stunde 11  :  0.0\n",
      "Verkauf Stunde 11  :  0.0\n",
      "EINKAUF Stunde 12  :  0.0\n",
      "Verkauf Stunde 12  :  0.0\n",
      "EINKAUF Stunde 13  :  0.0\n",
      "Verkauf Stunde 13  :  0.0\n",
      "EINKAUF Stunde 14  :  12.495119094103867\n",
      "EINKAUF Risikoklasse Stunde 14  :  8\n",
      "Verkauf Stunde 14  :  0.0\n",
      "EINKAUF Stunde 15  :  20.82519849017311\n",
      "EINKAUF Risikoklasse Stunde 15  :  7\n",
      "Verkauf Stunde 15  :  0.0\n",
      "EINKAUF Stunde 16  :  0.0\n",
      "Verkauf Stunde 16  :  0.0\n",
      "EINKAUF Stunde 17  :  0.0\n",
      "Verkauf Stunde 17  :  0.0\n",
      "EINKAUF Stunde 18  :  0.0\n",
      "Verkauf Stunde 18  :  0.0\n",
      "EINKAUF Stunde 19  :  0.0\n",
      "Verkauf Stunde 19  :  0.0\n",
      "EINKAUF Stunde 20  :  0.0\n",
      "Verkauf Stunde 20  :  0.0\n",
      "EINKAUF Stunde 21  :  0.0\n",
      "Verkauf Stunde 21  :  19.194871794871794\n",
      "VERKAUF Risikoklasse Stunde 21  :  1\n",
      "EINKAUF Stunde 22  :  0.0\n",
      "Verkauf Stunde 22  :  0.0\n",
      "EINKAUF Stunde 23  :  0.0\n",
      "Verkauf Stunde 23  :  0.0\n",
      "EINKAUF Stunde 24  :  0.0\n",
      "Verkauf Stunde 24  :  0.0\n",
      "transformed problem has 1200 variables (0 bin, 0 int, 0 impl, 1200 cont) and 74 constraints\n",
      "     74 constraints of type <linear>\n",
      "\n",
      "original problem has 33000 active (37.1622%) nonzeros and 33000 (37.1622%) check nonzeros\n",
      "\n",
      "feasible solution found by trivial heuristic after 0.0 seconds, objective value 0.000000e+00\n",
      "presolving:\n",
      "(round 1, fast)       0 del vars, 0 del conss, 0 add conss, 2400 chg bounds, 0 chg sides, 0 chg coeffs, 0 upgd conss, 0 impls, 0 clqs\n",
      "(round 2, exhaustive) 0 del vars, 25 del conss, 0 add conss, 2400 chg bounds, 0 chg sides, 0 chg coeffs, 0 upgd conss, 0 impls, 0 clqs\n",
      "(round 3, exhaustive) 1152 del vars, 25 del conss, 0 add conss, 2400 chg bounds, 0 chg sides, 0 chg coeffs, 0 upgd conss, 0 impls, 0 clqs\n",
      "(round 4, fast)       1152 del vars, 25 del conss, 0 add conss, 2400 chg bounds, 1 chg sides, 0 chg coeffs, 0 upgd conss, 0 impls, 0 clqs\n",
      "   (0.0s) symmetry computation started: requiring (bin +, int +, cont +), (fixed: bin -, int -, cont -)\n",
      "   (0.0s) no symmetry present (symcode time: 0.00)\n",
      "clique table cleanup detected 0 bound changes\n",
      "\n",
      "presolved problem has 672 active (28.5714%) nonzeros and 672 (28.5714%) check nonzeros\n",
      "\n",
      "presolving (5 rounds: 5 fast, 3 medium, 3 exhaustive):\n",
      " 1152 deleted vars, 25 deleted constraints, 0 added constraints, 2400 tightened bounds, 0 added holes, 1 changed sides, 0 changed coefficients\n",
      " 0 implications, 0 cliques\n",
      "presolved problem has 48 variables (0 bin, 0 int, 0 impl, 48 cont) and 49 constraints\n",
      "     49 constraints of type <linear>\n",
      "Presolving Time: 0.02\n",
      "transformed 1/1 original solutions to the transformed problem space\n",
      "\n",
      " time | node  | left  |LP iter|LP it/n|mem/heur|mdpt |vars |cons |rows |cuts |sepa|confs|strbr|  dualbound   | primalbound  |  gap   | compl. \n",
      "* 0.0s|     1 |     0 |     8 |     - |    LP  |   0 |  48 |  49 |  49 |   0 |  0 |   0 |   0 | 2.147820e+03 | 2.147820e+03 |   0.00%| unknown\n",
      "  0.0s|     1 |     0 |     8 |     - |    10M |   0 |  48 |  49 |  49 |   0 |  0 |   0 |   0 | 2.147820e+03 | 2.147820e+03 |   0.00%| unknown\n",
      "\n",
      "SCIP Status        : problem is solved [optimal solution found]\n",
      "Solving Time (sec) : 0.03\n",
      "Solving Nodes      : 1\n",
      "Primal Bound       : +2.14781962982654e+03 (2 solutions)\n",
      "Dual Bound         : +2.14781962982654e+03\n",
      "Gap                : 0.00 %\n"
     ]
    }
   ]
  },
  {
   "cell_type": "code",
   "outputs": [
    {
     "name": "stdout",
     "output_type": "stream",
     "text": [
      "Worksheet 'var2_var' found. Writing solution...\n",
      "Solution written to 'Ergebnisse.xlsx' in the 'var2_var' worksheet.\n"
     ]
    }
   ],
   "source": [
    "# Ergebnisse in Excel speichern\n",
    "\n",
    "import pandas as pd\n",
    "from openpyxl import load_workbook\n",
    "\n",
    "\n",
    "# File and worksheet details\n",
    "file_path = \"Ergebnisse.xlsx\"\n",
    "if fixe_zykluskosten:\n",
    "    sheet_name = \"var2_fix\"\n",
    "else:\n",
    "    sheet_name = \"var2_var\"\n",
    "\n",
    "# Prepare the solution data for export\n",
    "solution_data = {\n",
    "    \"Hour\": [h for h in H],\n",
    "    \"Einkauf\": [],\n",
    "    \"Verkauf\": [],\n",
    "    \"Risikoklasse\": [],\n",
    "    \"Gebotspreis\": [],\n",
    "}\n",
    "\n",
    "# Populate the solution_data dictionary\n",
    "for h in H:\n",
    "    v_h = 0\n",
    "    e_h = 0\n",
    "    risikoklasse_v = None\n",
    "    risikoklasse_e = None\n",
    "    for r in R:\n",
    "        # Update the Verkauf and Einkauf values for the current hour\n",
    "        v_h += scip.getVal(v_h_r[(h, r)])\n",
    "        e_h += scip.getVal(e_h_r[(h, r)])\n",
    "        # Determine the risk class for Verkauf and Einkauf\n",
    "        if scip.getVal(v_h_r[(h, r)]) > 0:\n",
    "            risikoklasse_v = r\n",
    "        if scip.getVal(e_h_r[(h, r)]) > 0:\n",
    "            risikoklasse_e = r\n",
    "\n",
    "    # Append rounded values and risk classes to the solution data\n",
    "    solution_data[\"Einkauf\"].append(round(e_h, 3))\n",
    "    solution_data[\"Verkauf\"].append(round(v_h, 3))\n",
    "    solution_data[\"Risikoklasse\"].append(\n",
    "        risikoklasse_v if round(v_h, 3) > 0 else risikoklasse_e if round(e_h, 3) > 0 else \"\"\n",
    "    )\n",
    "    solution_data[\"Gebotspreis\"].append(\n",
    "        gebotspreis_verkauf_h_r[(h, risikoklasse_v)] if round(v_h, 3) > 0 else gebotspreis_einkauf_h_r[(h, risikoklasse_e)] if round(e_h, 3) > 0 else \"\"\n",
    "    )\n",
    "\n",
    "# Convert to a DataFrame\n",
    "solution_df = pd.DataFrame(solution_data)\n",
    "\n",
    "# Write to Excel\n",
    "try:\n",
    "    # Load the workbook to check for existing worksheets\n",
    "    workbook = load_workbook(file_path)\n",
    "    if sheet_name not in workbook.sheetnames:\n",
    "        # If the worksheet doesn't exist, create it\n",
    "        print(f\"Worksheet '{sheet_name}' not found. Creating it...\")\n",
    "        with pd.ExcelWriter(file_path, mode=\"a\", engine=\"openpyxl\") as writer:\n",
    "            solution_df.to_excel(writer, sheet_name=sheet_name, index=False)\n",
    "    else:\n",
    "        # If the worksheet exists, overwrite it\n",
    "        print(f\"Worksheet '{sheet_name}' found. Writing solution...\")\n",
    "        with pd.ExcelWriter(file_path, mode=\"a\", engine=\"openpyxl\", if_sheet_exists=\"replace\") as writer:\n",
    "            solution_df.to_excel(writer, sheet_name=sheet_name, index=False)\n",
    "except FileNotFoundError:\n",
    "    # If the file doesn't exist, create it and write the solution\n",
    "    print(f\"File '{file_path}' not found. Creating it and writing solution...\")\n",
    "    with pd.ExcelWriter(file_path, mode=\"w\", engine=\"openpyxl\") as writer:\n",
    "        solution_df.to_excel(writer, sheet_name=sheet_name, index=False)\n",
    "\n",
    "print(f\"Solution written to '{file_path}' in the '{sheet_name}' worksheet.\")\n"
   ],
   "metadata": {
    "collapsed": false,
    "ExecuteTime": {
     "end_time": "2025-01-26T18:07:54.916729Z",
     "start_time": "2025-01-26T18:07:54.880726Z"
    }
   },
   "execution_count": 33
  }
 ]
}
