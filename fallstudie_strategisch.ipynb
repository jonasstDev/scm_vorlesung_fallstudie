{
 "cells": [
  {
   "cell_type": "code",
   "execution_count": 2,
   "id": "initial_id",
   "metadata": {
    "collapsed": true,
    "ExecuteTime": {
     "end_time": "2025-01-21T21:16:37.900027Z",
     "start_time": "2025-01-21T21:16:37.775930Z"
    }
   },
   "outputs": [
    {
     "name": "stdout",
     "output_type": "stream",
     "text": [
      "{1: np.float64(81.52000000000001), 2: np.float64(72.24000000000001), 3: np.float64(68.16000000000001), 4: np.float64(66.64), 5: np.float64(66.8), 6: np.float64(71.04), 7: np.float64(88.55999999999999), 8: np.float64(92.68), 9: np.float64(80.92), 10: np.float64(61.080000000000005), 11: np.float64(43.080000000000005), 12: np.float64(30.880000000000003), 13: np.float64(22.44), 14: np.float64(15.959999999999999), 15: np.float64(12.52), 16: np.float64(18.44), 17: np.float64(34.88), 18: np.float64(56.56), 19: np.float64(78.44000000000001), 20: np.float64(105.60000000000001), 21: np.float64(144.8), 22: np.float64(125.12), 23: np.float64(101.36), 24: np.float64(85.28)}\n"
     ]
    }
   ],
   "source": [
    "# Erwartungswerte\n",
    "H = [n for n in range(1, 25)]\n",
    "\n",
    "import pandas as pd\n",
    "\n",
    "prognose = pd.read_excel('Preisprognosen.xlsx')\n",
    "\n",
    "p_h = {}\n",
    "\n",
    "for h in H:\n",
    "    stundenprognose = prognose[prognose['Stunde'] == h]\n",
    "    checksum = stundenprognose['Wahrscheinlichkeit'].sum()\n",
    "    if checksum != 1:\n",
    "        print('WARNING: Prognosedaten unvollständig')\n",
    "\n",
    "    erwartungswert_strompreis = (stundenprognose['Strompreis'] * stundenprognose['Wahrscheinlichkeit']).sum() / checksum\n",
    "    p_h[h] = erwartungswert_strompreis\n",
    "\n",
    "print (p_h)"
   ]
  },
  {
   "cell_type": "code",
   "outputs": [],
   "source": [
    "df = pd.DataFrame([p_h])\n",
    "\n",
    "file_name = 'graph.xlsx'\n",
    "df.to_excel(file_name, index=False)\n",
    "\n",
    "\n",
    "\n",
    "# 8 Zeitpunkte\n",
    "\n",
    "# 64 MwH \n",
    "# Wenn verkaufen dann so viel wie geht, es gehen 20 \n",
    "# 20 20 20 4\n",
    "# 20 20 12 12"
   ],
   "metadata": {
    "collapsed": false,
    "ExecuteTime": {
     "end_time": "2025-01-21T21:35:03.951184Z",
     "start_time": "2025-01-21T21:35:03.767310Z"
    }
   },
   "id": "4ce85b7feb3828a5",
   "execution_count": 4
  },
  {
   "cell_type": "code",
   "outputs": [],
   "source": [],
   "metadata": {
    "collapsed": false
   },
   "id": "f8e288bd38e3600c"
  }
 ],
 "metadata": {
  "kernelspec": {
   "display_name": "Python 3",
   "language": "python",
   "name": "python3"
  },
  "language_info": {
   "codemirror_mode": {
    "name": "ipython",
    "version": 2
   },
   "file_extension": ".py",
   "mimetype": "text/x-python",
   "name": "python",
   "nbconvert_exporter": "python",
   "pygments_lexer": "ipython2",
   "version": "2.7.6"
  }
 },
 "nbformat": 4,
 "nbformat_minor": 5
}
