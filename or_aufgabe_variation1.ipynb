{
 "nbformat": 4,
 "nbformat_minor": 0,
 "metadata": {
  "colab": {
   "provenance": []
  },
  "kernelspec": {
   "name": "python3",
   "language": "python",
   "display_name": "Python 3 (ipykernel)"
  },
  "language_info": {
   "name": "python"
  }
 },
 "cells": [
  {
   "cell_type": "code",
   "execution_count": 25,
   "metadata": {
    "colab": {
     "base_uri": "https://localhost:8080/"
    },
    "id": "ZnQ8O5cCDDQL",
    "outputId": "d063fe54-5fd1-407e-bc22-79d563a613b1",
    "ExecuteTime": {
     "end_time": "2025-01-26T17:49:31.358550Z",
     "start_time": "2025-01-26T17:49:31.354795Z"
    }
   },
   "outputs": [],
   "source": [
    "# pip als Paketmanager\n",
    "#! pip install -q pyscipopt\n",
    "#! pip install pandas\n",
    "#!pip install openpyxl"
   ]
  },
  {
   "cell_type": "code",
   "source": [],
   "metadata": {
    "id": "PMKEy--2UXQH",
    "ExecuteTime": {
     "end_time": "2025-01-26T17:49:31.403998Z",
     "start_time": "2025-01-26T17:49:31.399967Z"
    }
   },
   "execution_count": 25,
   "outputs": []
  },
  {
   "cell_type": "code",
   "source": [
    "from pyscipopt import Model, quicksum"
   ],
   "metadata": {
    "id": "X2VAyQ7jDpsj",
    "ExecuteTime": {
     "end_time": "2025-01-26T17:49:31.409453Z",
     "start_time": "2025-01-26T17:49:31.406540Z"
    }
   },
   "execution_count": 26,
   "outputs": []
  },
  {
   "cell_type": "markdown",
   "source": [
    "**Optimierungsmodell für den Kauf und Verkauf von Strom auf dem Strommarkt**"
   ],
   "metadata": {
    "id": "X5_MT5TQDrb4"
   }
  },
  {
   "cell_type": "code",
   "source": [
    "# Erstellen einer Modellinstanz\n",
    "scip = Model()"
   ],
   "metadata": {
    "id": "B4-fy7HIEAsr",
    "ExecuteTime": {
     "end_time": "2025-01-26T17:49:31.432084Z",
     "start_time": "2025-01-26T17:49:31.411489Z"
    }
   },
   "execution_count": 27,
   "outputs": []
  },
  {
   "cell_type": "markdown",
   "source": [
    "**Indexmenge**"
   ],
   "metadata": {
    "id": "m3fgChtdEDH5"
   }
  },
  {
   "cell_type": "code",
   "source": [
    "# Investition über Zeitraum j Tage\n",
    "j = 3\n",
    "\n",
    "H = [n for n in range(1, 24*j+1)]"
   ],
   "metadata": {
    "id": "_s8ylJM4EHTo",
    "ExecuteTime": {
     "end_time": "2025-01-26T17:49:31.439610Z",
     "start_time": "2025-01-26T17:49:31.435574Z"
    }
   },
   "execution_count": 28,
   "outputs": []
  },
  {
   "cell_type": "markdown",
   "source": [
    "**Batterie-Systemspezifikationen**"
   ],
   "metadata": {
    "id": "tNBFK_MnEKQt"
   }
  },
  {
   "cell_type": "code",
   "source": [
    "fixe_zykluskosten = True\n",
    "\n",
    "wirkungsgrad_wechselrichter = 0.985\n",
    "wirkungsgrad_laden = 0.975\n",
    "round_trip_efficiency = 0.95\n",
    "entlade_verlust = wirkungsgrad_laden - round_trip_efficiency\n",
    "\n",
    "wirkungsgrad_systemeingang = wirkungsgrad_wechselrichter * wirkungsgrad_laden\n",
    "wirkungsgrad_systemausgang = (1-(entlade_verlust / wirkungsgrad_laden)) * wirkungsgrad_wechselrichter\n",
    "\n",
    "\n",
    "f_e = wirkungsgrad_systemeingang # Faktor Einkauf\n",
    "f_v = wirkungsgrad_systemausgang # Faktor Verkauf\n",
    "\n",
    "\n",
    "nennkapazität = 40 # MWh brutto\n",
    "lademinimum = 0.2 # 20%\n",
    "lademaximum = 1 # 100%\n",
    "anfangsbestand = 0.5 # 50%\n",
    "\n",
    "nettokapazität = zyklus = nennkapazität * (lademaximum - lademinimum) # MWh netto\n",
    "zykluskosten = 1500 # € / zyklus\n",
    "mwh_zykluskosten = zykluskosten / zyklus # € / MWh -> entweder geladen oder entladen\n",
    "\n",
    "erlaubte_zyklen_pro_tag = 2\n",
    "\n",
    "a = anfangsbestand * nennkapazität # MWh Anfangs- und Endbestand\n",
    "u = lademinimum * nennkapazität # MWh Untergrenze Batteriekapazität\n",
    "o = lademaximum * nennkapazität # MWh Obergrenze Batteriekapazität\n",
    "\n",
    "c = 0.5 # nennkapazität / h\n",
    "\n",
    "\n",
    "# Sicherstellen, dass unsere Faktoren für Systemeingang und -ausgang den multiplizierten Wirkungsgraden entspricht\n",
    "print(wirkungsgrad_systemeingang*wirkungsgrad_systemausgang)\n",
    "print(wirkungsgrad_wechselrichter*wirkungsgrad_wechselrichter*round_trip_efficiency)"
   ],
   "metadata": {
    "colab": {
     "base_uri": "https://localhost:8080/"
    },
    "id": "dbHcYiqREQ3l",
    "outputId": "95fa5faa-1c3a-491f-e0d7-875e8010c30a",
    "ExecuteTime": {
     "end_time": "2025-01-26T17:49:31.447279Z",
     "start_time": "2025-01-26T17:49:31.441131Z"
    }
   },
   "execution_count": 29,
   "outputs": [
    {
     "name": "stdout",
     "output_type": "stream",
     "text": [
      "0.92171375\n",
      "0.92171375\n"
     ]
    }
   ]
  },
  {
   "cell_type": "markdown",
   "source": [
    "**Vorhersagedaten**"
   ],
   "metadata": {
    "id": "uXv-Z9v_ESaI"
   }
  },
  {
   "cell_type": "code",
   "source": [
    "import pandas as pd\n",
    "\n",
    "prognose = pd.read_excel('Preisprognosen.xlsx')\n",
    "\n",
    "p_h = {}\n",
    "\n",
    "for h in range(1, 24+1):\n",
    "    stundenprognose = prognose[prognose['Stunde'] == h]\n",
    "    checksum = stundenprognose['Wahrscheinlichkeit'].sum()\n",
    "    if checksum != 1:\n",
    "        print('WARNING: Prognosedaten unvollständig')\n",
    "\n",
    "    for i in range(0, j):\n",
    "        p_h[h+i*24] = stundenprognose['Strompreis'].mean()\n",
    "\n",
    "print (p_h)"
   ],
   "metadata": {
    "colab": {
     "base_uri": "https://localhost:8080/"
    },
    "id": "UabCBzkIEXMD",
    "outputId": "a07982f8-7a03-4de7-bd22-90f3763c88eb",
    "ExecuteTime": {
     "end_time": "2025-01-26T17:49:31.484469Z",
     "start_time": "2025-01-26T17:49:31.448906Z"
    }
   },
   "execution_count": 30,
   "outputs": [
    {
     "name": "stdout",
     "output_type": "stream",
     "text": [
      "{1: np.float64(81.52), 25: np.float64(81.52), 49: np.float64(81.52), 2: np.float64(72.24), 26: np.float64(72.24), 50: np.float64(72.24), 3: np.float64(68.16), 27: np.float64(68.16), 51: np.float64(68.16), 4: np.float64(66.64), 28: np.float64(66.64), 52: np.float64(66.64), 5: np.float64(66.8), 29: np.float64(66.8), 53: np.float64(66.8), 6: np.float64(71.04), 30: np.float64(71.04), 54: np.float64(71.04), 7: np.float64(88.56), 31: np.float64(88.56), 55: np.float64(88.56), 8: np.float64(92.68), 32: np.float64(92.68), 56: np.float64(92.68), 9: np.float64(80.92), 33: np.float64(80.92), 57: np.float64(80.92), 10: np.float64(61.08), 34: np.float64(61.08), 58: np.float64(61.08), 11: np.float64(43.08), 35: np.float64(43.08), 59: np.float64(43.08), 12: np.float64(30.88), 36: np.float64(30.88), 60: np.float64(30.88), 13: np.float64(22.44), 37: np.float64(22.44), 61: np.float64(22.44), 14: np.float64(15.96), 38: np.float64(15.96), 62: np.float64(15.96), 15: np.float64(12.52), 39: np.float64(12.52), 63: np.float64(12.52), 16: np.float64(18.44), 40: np.float64(18.44), 64: np.float64(18.44), 17: np.float64(34.88), 41: np.float64(34.88), 65: np.float64(34.88), 18: np.float64(56.56), 42: np.float64(56.56), 66: np.float64(56.56), 19: np.float64(78.44), 43: np.float64(78.44), 67: np.float64(78.44), 20: np.float64(105.6), 44: np.float64(105.6), 68: np.float64(105.6), 21: np.float64(144.8), 45: np.float64(144.8), 69: np.float64(144.8), 22: np.float64(125.12), 46: np.float64(125.12), 70: np.float64(125.12), 23: np.float64(101.36), 47: np.float64(101.36), 71: np.float64(101.36), 24: np.float64(85.28), 48: np.float64(85.28), 72: np.float64(85.28)}\n"
     ]
    }
   ]
  },
  {
   "cell_type": "markdown",
   "source": [
    "**Entscheidungsvariablen**"
   ],
   "metadata": {
    "id": "DMgUDSvBEbtt"
   }
  },
  {
   "cell_type": "code",
   "source": [
    "e_h={}\n",
    "v_h={}\n",
    "\n",
    "for h in H:\n",
    "    e_h[h] = scip.addVar(vtype='C', lb=0, ub=None, name=f\"e_{h}\")\n",
    "    v_h[h] = scip.addVar(vtype='C', lb=0, ub=None, name=f\"v_{h}\")\n",
    "\n",
    "print('Entscheidungsvariablen =', scip.getVars())"
   ],
   "metadata": {
    "id": "b6h0dqgcEiTE",
    "colab": {
     "base_uri": "https://localhost:8080/"
    },
    "outputId": "0ff4575c-e777-48c8-8974-d3e8e492ab5c",
    "ExecuteTime": {
     "end_time": "2025-01-26T17:49:31.493355Z",
     "start_time": "2025-01-26T17:49:31.486988Z"
    }
   },
   "execution_count": 31,
   "outputs": [
    {
     "name": "stdout",
     "output_type": "stream",
     "text": [
      "Entscheidungsvariablen = [e_1, v_1, e_2, v_2, e_3, v_3, e_4, v_4, e_5, v_5, e_6, v_6, e_7, v_7, e_8, v_8, e_9, v_9, e_10, v_10, e_11, v_11, e_12, v_12, e_13, v_13, e_14, v_14, e_15, v_15, e_16, v_16, e_17, v_17, e_18, v_18, e_19, v_19, e_20, v_20, e_21, v_21, e_22, v_22, e_23, v_23, e_24, v_24, e_25, v_25, e_26, v_26, e_27, v_27, e_28, v_28, e_29, v_29, e_30, v_30, e_31, v_31, e_32, v_32, e_33, v_33, e_34, v_34, e_35, v_35, e_36, v_36, e_37, v_37, e_38, v_38, e_39, v_39, e_40, v_40, e_41, v_41, e_42, v_42, e_43, v_43, e_44, v_44, e_45, v_45, e_46, v_46, e_47, v_47, e_48, v_48, e_49, v_49, e_50, v_50, e_51, v_51, e_52, v_52, e_53, v_53, e_54, v_54, e_55, v_55, e_56, v_56, e_57, v_57, e_58, v_58, e_59, v_59, e_60, v_60, e_61, v_61, e_62, v_62, e_63, v_63, e_64, v_64, e_65, v_65, e_66, v_66, e_67, v_67, e_68, v_68, e_69, v_69, e_70, v_70, e_71, v_71, e_72, v_72]\n"
     ]
    }
   ]
  },
  {
   "cell_type": "markdown",
   "source": [
    "**Zielfunktion**"
   ],
   "metadata": {
    "id": "mAMlXtDUGNDN"
   }
  },
  {
   "cell_type": "code",
   "source": [
    "gewinn_kauf_verkauf = quicksum((p_h[h] * (v_h[h] - e_h[h])) for h in H)\n",
    "\n",
    "if fixe_zykluskosten:\n",
    "    zykluskosten = 3000 * j\n",
    "else:\n",
    "    zykluskosten = quicksum((e_h[h] * f_e * mwh_zykluskosten) for h in H)\n",
    "\n",
    "scip.setObjective(gewinn_kauf_verkauf - zykluskosten, sense=\"maximize\")\n",
    "print(scip.getObjective())"
   ],
   "metadata": {
    "id": "adVdozuvGPtc",
    "colab": {
     "base_uri": "https://localhost:8080/"
    },
    "outputId": "7364929b-6a62-49c2-cdbc-062e32fdf80f",
    "ExecuteTime": {
     "end_time": "2025-01-26T17:49:31.498861Z",
     "start_time": "2025-01-26T17:49:31.494976Z"
    }
   },
   "execution_count": 32,
   "outputs": [
    {
     "name": "stdout",
     "output_type": "stream",
     "text": [
      "Expr({Term(e_1): -81.52, Term(v_1): 81.52, Term(e_2): -72.24, Term(v_2): 72.24, Term(e_3): -68.16, Term(v_3): 68.16, Term(e_4): -66.64, Term(v_4): 66.64, Term(e_5): -66.8, Term(v_5): 66.8, Term(e_6): -71.04, Term(v_6): 71.04, Term(e_7): -88.56, Term(v_7): 88.56, Term(e_8): -92.68, Term(v_8): 92.68, Term(e_9): -80.92, Term(v_9): 80.92, Term(e_10): -61.08, Term(v_10): 61.08, Term(e_11): -43.08, Term(v_11): 43.08, Term(e_12): -30.88, Term(v_12): 30.88, Term(e_13): -22.44, Term(v_13): 22.44, Term(e_14): -15.96, Term(v_14): 15.96, Term(e_15): -12.52, Term(v_15): 12.52, Term(e_16): -18.44, Term(v_16): 18.44, Term(e_17): -34.88, Term(v_17): 34.88, Term(e_18): -56.56, Term(v_18): 56.56, Term(e_19): -78.44, Term(v_19): 78.44, Term(e_20): -105.6, Term(v_20): 105.6, Term(e_21): -144.8, Term(v_21): 144.8, Term(e_22): -125.12, Term(v_22): 125.12, Term(e_23): -101.36, Term(v_23): 101.36, Term(e_24): -85.28, Term(v_24): 85.28, Term(e_25): -81.52, Term(v_25): 81.52, Term(e_26): -72.24, Term(v_26): 72.24, Term(e_27): -68.16, Term(v_27): 68.16, Term(e_28): -66.64, Term(v_28): 66.64, Term(e_29): -66.8, Term(v_29): 66.8, Term(e_30): -71.04, Term(v_30): 71.04, Term(e_31): -88.56, Term(v_31): 88.56, Term(e_32): -92.68, Term(v_32): 92.68, Term(e_33): -80.92, Term(v_33): 80.92, Term(e_34): -61.08, Term(v_34): 61.08, Term(e_35): -43.08, Term(v_35): 43.08, Term(e_36): -30.88, Term(v_36): 30.88, Term(e_37): -22.44, Term(v_37): 22.44, Term(e_38): -15.96, Term(v_38): 15.96, Term(e_39): -12.52, Term(v_39): 12.52, Term(e_40): -18.44, Term(v_40): 18.44, Term(e_41): -34.88, Term(v_41): 34.88, Term(e_42): -56.56, Term(v_42): 56.56, Term(e_43): -78.44, Term(v_43): 78.44, Term(e_44): -105.6, Term(v_44): 105.6, Term(e_45): -144.8, Term(v_45): 144.8, Term(e_46): -125.12, Term(v_46): 125.12, Term(e_47): -101.36, Term(v_47): 101.36, Term(e_48): -85.28, Term(v_48): 85.28, Term(e_49): -81.52, Term(v_49): 81.52, Term(e_50): -72.24, Term(v_50): 72.24, Term(e_51): -68.16, Term(v_51): 68.16, Term(e_52): -66.64, Term(v_52): 66.64, Term(e_53): -66.8, Term(v_53): 66.8, Term(e_54): -71.04, Term(v_54): 71.04, Term(e_55): -88.56, Term(v_55): 88.56, Term(e_56): -92.68, Term(v_56): 92.68, Term(e_57): -80.92, Term(v_57): 80.92, Term(e_58): -61.08, Term(v_58): 61.08, Term(e_59): -43.08, Term(v_59): 43.08, Term(e_60): -30.88, Term(v_60): 30.88, Term(e_61): -22.44, Term(v_61): 22.44, Term(e_62): -15.96, Term(v_62): 15.96, Term(e_63): -12.52, Term(v_63): 12.52, Term(e_64): -18.44, Term(v_64): 18.44, Term(e_65): -34.88, Term(v_65): 34.88, Term(e_66): -56.56, Term(v_66): 56.56, Term(e_67): -78.44, Term(v_67): 78.44, Term(e_68): -105.6, Term(v_68): 105.6, Term(e_69): -144.8, Term(v_69): 144.8, Term(e_70): -125.12, Term(v_70): 125.12, Term(e_71): -101.36, Term(v_71): 101.36, Term(e_72): -85.28, Term(v_72): 85.28})\n"
     ]
    }
   ]
  },
  {
   "cell_type": "markdown",
   "source": [
    "***Nebenbedingungen/ Restriktionen***"
   ],
   "metadata": {
    "id": "4LJ8EtXBGw06"
   }
  },
  {
   "cell_type": "code",
   "source": [
    "# Ladestand zur Stunde 0 = Ladestand zur Stunde 24, also Summe Lademenge und Entlademenge gleich\n",
    "scip.addCons(quicksum(((e_h[h] * f_e) - (v_h[h] / f_v)) for h in H) == 0, name=\"Anfangs- und Endbestand gleich\")\n",
    "\n",
    "# Maximale Ladezyklen am pro Tag anhand der Einkaufsmenge (mit Faktor = Lademenge), alternativ anhand der Verkaufsmenge\n",
    "scip.addCons(quicksum((e_h[h] * f_e) for h in H) <= (erlaubte_zyklen_pro_tag * nettokapazität * j), name=\"Maximale Ladezyklen pro Tag\")\n",
    "\n",
    "# Mindestladestand nicht unterschritten und Höchstladestand nicht überschritten\n",
    "for h in H:\n",
    "    H_t =  [n for n in range(1, h+1)]\n",
    "    scip.addCons( (a + quicksum(((e_h[t] * f_e) - (v_h[t] / f_v)) for t in H_t)) >= u, name=f\"Mindestladestand zum Zeitpunkt t={h}\")\n",
    "    scip.addCons( (a + quicksum(((e_h[t] * f_e) - (v_h[t] / f_v)) for t in H_t)) <= o, name=f\"Maximalladestand zum Zeitpunkt t={h}\")\n",
    "\n",
    "# Lade- und Entladeleistung begrenzt (C-Rate)\n",
    "for h in H:\n",
    "    scip.addCons((e_h[h] * f_e) + (v_h[h] / f_v) <= c * nennkapazität, name=f\"Lade-/Entladeleistung der Stunde h={h}\")\n",
    "\n",
    "print('Nebenbedingungen =', scip.getConss())"
   ],
   "metadata": {
    "id": "drIHi2kOG9Mx",
    "colab": {
     "base_uri": "https://localhost:8080/"
    },
    "outputId": "310564d9-dd00-42c1-ba68-60ee1aa93ae9",
    "ExecuteTime": {
     "end_time": "2025-01-26T17:49:31.516576Z",
     "start_time": "2025-01-26T17:49:31.500100Z"
    }
   },
   "execution_count": 33,
   "outputs": [
    {
     "name": "stdout",
     "output_type": "stream",
     "text": [
      "Nebenbedingungen = [Anfangs- und Endbestand gleich, Maximale Ladezyklen pro Tag, Mindestladestand zum Zeitpunkt t=1, Maximalladestand zum Zeitpunkt t=1, Mindestladestand zum Zeitpunkt t=2, Maximalladestand zum Zeitpunkt t=2, Mindestladestand zum Zeitpunkt t=3, Maximalladestand zum Zeitpunkt t=3, Mindestladestand zum Zeitpunkt t=4, Maximalladestand zum Zeitpunkt t=4, Mindestladestand zum Zeitpunkt t=5, Maximalladestand zum Zeitpunkt t=5, Mindestladestand zum Zeitpunkt t=6, Maximalladestand zum Zeitpunkt t=6, Mindestladestand zum Zeitpunkt t=7, Maximalladestand zum Zeitpunkt t=7, Mindestladestand zum Zeitpunkt t=8, Maximalladestand zum Zeitpunkt t=8, Mindestladestand zum Zeitpunkt t=9, Maximalladestand zum Zeitpunkt t=9, Mindestladestand zum Zeitpunkt t=10, Maximalladestand zum Zeitpunkt t=10, Mindestladestand zum Zeitpunkt t=11, Maximalladestand zum Zeitpunkt t=11, Mindestladestand zum Zeitpunkt t=12, Maximalladestand zum Zeitpunkt t=12, Mindestladestand zum Zeitpunkt t=13, Maximalladestand zum Zeitpunkt t=13, Mindestladestand zum Zeitpunkt t=14, Maximalladestand zum Zeitpunkt t=14, Mindestladestand zum Zeitpunkt t=15, Maximalladestand zum Zeitpunkt t=15, Mindestladestand zum Zeitpunkt t=16, Maximalladestand zum Zeitpunkt t=16, Mindestladestand zum Zeitpunkt t=17, Maximalladestand zum Zeitpunkt t=17, Mindestladestand zum Zeitpunkt t=18, Maximalladestand zum Zeitpunkt t=18, Mindestladestand zum Zeitpunkt t=19, Maximalladestand zum Zeitpunkt t=19, Mindestladestand zum Zeitpunkt t=20, Maximalladestand zum Zeitpunkt t=20, Mindestladestand zum Zeitpunkt t=21, Maximalladestand zum Zeitpunkt t=21, Mindestladestand zum Zeitpunkt t=22, Maximalladestand zum Zeitpunkt t=22, Mindestladestand zum Zeitpunkt t=23, Maximalladestand zum Zeitpunkt t=23, Mindestladestand zum Zeitpunkt t=24, Maximalladestand zum Zeitpunkt t=24, Mindestladestand zum Zeitpunkt t=25, Maximalladestand zum Zeitpunkt t=25, Mindestladestand zum Zeitpunkt t=26, Maximalladestand zum Zeitpunkt t=26, Mindestladestand zum Zeitpunkt t=27, Maximalladestand zum Zeitpunkt t=27, Mindestladestand zum Zeitpunkt t=28, Maximalladestand zum Zeitpunkt t=28, Mindestladestand zum Zeitpunkt t=29, Maximalladestand zum Zeitpunkt t=29, Mindestladestand zum Zeitpunkt t=30, Maximalladestand zum Zeitpunkt t=30, Mindestladestand zum Zeitpunkt t=31, Maximalladestand zum Zeitpunkt t=31, Mindestladestand zum Zeitpunkt t=32, Maximalladestand zum Zeitpunkt t=32, Mindestladestand zum Zeitpunkt t=33, Maximalladestand zum Zeitpunkt t=33, Mindestladestand zum Zeitpunkt t=34, Maximalladestand zum Zeitpunkt t=34, Mindestladestand zum Zeitpunkt t=35, Maximalladestand zum Zeitpunkt t=35, Mindestladestand zum Zeitpunkt t=36, Maximalladestand zum Zeitpunkt t=36, Mindestladestand zum Zeitpunkt t=37, Maximalladestand zum Zeitpunkt t=37, Mindestladestand zum Zeitpunkt t=38, Maximalladestand zum Zeitpunkt t=38, Mindestladestand zum Zeitpunkt t=39, Maximalladestand zum Zeitpunkt t=39, Mindestladestand zum Zeitpunkt t=40, Maximalladestand zum Zeitpunkt t=40, Mindestladestand zum Zeitpunkt t=41, Maximalladestand zum Zeitpunkt t=41, Mindestladestand zum Zeitpunkt t=42, Maximalladestand zum Zeitpunkt t=42, Mindestladestand zum Zeitpunkt t=43, Maximalladestand zum Zeitpunkt t=43, Mindestladestand zum Zeitpunkt t=44, Maximalladestand zum Zeitpunkt t=44, Mindestladestand zum Zeitpunkt t=45, Maximalladestand zum Zeitpunkt t=45, Mindestladestand zum Zeitpunkt t=46, Maximalladestand zum Zeitpunkt t=46, Mindestladestand zum Zeitpunkt t=47, Maximalladestand zum Zeitpunkt t=47, Mindestladestand zum Zeitpunkt t=48, Maximalladestand zum Zeitpunkt t=48, Mindestladestand zum Zeitpunkt t=49, Maximalladestand zum Zeitpunkt t=49, Mindestladestand zum Zeitpunkt t=50, Maximalladestand zum Zeitpunkt t=50, Mindestladestand zum Zeitpunkt t=51, Maximalladestand zum Zeitpunkt t=51, Mindestladestand zum Zeitpunkt t=52, Maximalladestand zum Zeitpunkt t=52, Mindestladestand zum Zeitpunkt t=53, Maximalladestand zum Zeitpunkt t=53, Mindestladestand zum Zeitpunkt t=54, Maximalladestand zum Zeitpunkt t=54, Mindestladestand zum Zeitpunkt t=55, Maximalladestand zum Zeitpunkt t=55, Mindestladestand zum Zeitpunkt t=56, Maximalladestand zum Zeitpunkt t=56, Mindestladestand zum Zeitpunkt t=57, Maximalladestand zum Zeitpunkt t=57, Mindestladestand zum Zeitpunkt t=58, Maximalladestand zum Zeitpunkt t=58, Mindestladestand zum Zeitpunkt t=59, Maximalladestand zum Zeitpunkt t=59, Mindestladestand zum Zeitpunkt t=60, Maximalladestand zum Zeitpunkt t=60, Mindestladestand zum Zeitpunkt t=61, Maximalladestand zum Zeitpunkt t=61, Mindestladestand zum Zeitpunkt t=62, Maximalladestand zum Zeitpunkt t=62, Mindestladestand zum Zeitpunkt t=63, Maximalladestand zum Zeitpunkt t=63, Mindestladestand zum Zeitpunkt t=64, Maximalladestand zum Zeitpunkt t=64, Mindestladestand zum Zeitpunkt t=65, Maximalladestand zum Zeitpunkt t=65, Mindestladestand zum Zeitpunkt t=66, Maximalladestand zum Zeitpunkt t=66, Mindestladestand zum Zeitpunkt t=67, Maximalladestand zum Zeitpunkt t=67, Mindestladestand zum Zeitpunkt t=68, Maximalladestand zum Zeitpunkt t=68, Mindestladestand zum Zeitpunkt t=69, Maximalladestand zum Zeitpunkt t=69, Mindestladestand zum Zeitpunkt t=70, Maximalladestand zum Zeitpunkt t=70, Mindestladestand zum Zeitpunkt t=71, Maximalladestand zum Zeitpunkt t=71, Mindestladestand zum Zeitpunkt t=72, Maximalladestand zum Zeitpunkt t=72, Lade-/Entladeleistung der Stunde h=1, Lade-/Entladeleistung der Stunde h=2, Lade-/Entladeleistung der Stunde h=3, Lade-/Entladeleistung der Stunde h=4, Lade-/Entladeleistung der Stunde h=5, Lade-/Entladeleistung der Stunde h=6, Lade-/Entladeleistung der Stunde h=7, Lade-/Entladeleistung der Stunde h=8, Lade-/Entladeleistung der Stunde h=9, Lade-/Entladeleistung der Stunde h=10, Lade-/Entladeleistung der Stunde h=11, Lade-/Entladeleistung der Stunde h=12, Lade-/Entladeleistung der Stunde h=13, Lade-/Entladeleistung der Stunde h=14, Lade-/Entladeleistung der Stunde h=15, Lade-/Entladeleistung der Stunde h=16, Lade-/Entladeleistung der Stunde h=17, Lade-/Entladeleistung der Stunde h=18, Lade-/Entladeleistung der Stunde h=19, Lade-/Entladeleistung der Stunde h=20, Lade-/Entladeleistung der Stunde h=21, Lade-/Entladeleistung der Stunde h=22, Lade-/Entladeleistung der Stunde h=23, Lade-/Entladeleistung der Stunde h=24, Lade-/Entladeleistung der Stunde h=25, Lade-/Entladeleistung der Stunde h=26, Lade-/Entladeleistung der Stunde h=27, Lade-/Entladeleistung der Stunde h=28, Lade-/Entladeleistung der Stunde h=29, Lade-/Entladeleistung der Stunde h=30, Lade-/Entladeleistung der Stunde h=31, Lade-/Entladeleistung der Stunde h=32, Lade-/Entladeleistung der Stunde h=33, Lade-/Entladeleistung der Stunde h=34, Lade-/Entladeleistung der Stunde h=35, Lade-/Entladeleistung der Stunde h=36, Lade-/Entladeleistung der Stunde h=37, Lade-/Entladeleistung der Stunde h=38, Lade-/Entladeleistung der Stunde h=39, Lade-/Entladeleistung der Stunde h=40, Lade-/Entladeleistung der Stunde h=41, Lade-/Entladeleistung der Stunde h=42, Lade-/Entladeleistung der Stunde h=43, Lade-/Entladeleistung der Stunde h=44, Lade-/Entladeleistung der Stunde h=45, Lade-/Entladeleistung der Stunde h=46, Lade-/Entladeleistung der Stunde h=47, Lade-/Entladeleistung der Stunde h=48, Lade-/Entladeleistung der Stunde h=49, Lade-/Entladeleistung der Stunde h=50, Lade-/Entladeleistung der Stunde h=51, Lade-/Entladeleistung der Stunde h=52, Lade-/Entladeleistung der Stunde h=53, Lade-/Entladeleistung der Stunde h=54, Lade-/Entladeleistung der Stunde h=55, Lade-/Entladeleistung der Stunde h=56, Lade-/Entladeleistung der Stunde h=57, Lade-/Entladeleistung der Stunde h=58, Lade-/Entladeleistung der Stunde h=59, Lade-/Entladeleistung der Stunde h=60, Lade-/Entladeleistung der Stunde h=61, Lade-/Entladeleistung der Stunde h=62, Lade-/Entladeleistung der Stunde h=63, Lade-/Entladeleistung der Stunde h=64, Lade-/Entladeleistung der Stunde h=65, Lade-/Entladeleistung der Stunde h=66, Lade-/Entladeleistung der Stunde h=67, Lade-/Entladeleistung der Stunde h=68, Lade-/Entladeleistung der Stunde h=69, Lade-/Entladeleistung der Stunde h=70, Lade-/Entladeleistung der Stunde h=71, Lade-/Entladeleistung der Stunde h=72]\n"
     ]
    }
   ]
  },
  {
   "cell_type": "markdown",
   "source": [
    "**Berechnung der Lösung**"
   ],
   "metadata": {
    "id": "z30z05i1HAMS"
   }
  },
  {
   "cell_type": "code",
   "source": [
    "scip.setIntParam(\"display/verblevel\", 5)  # Set verbosity level to 5\n",
    "\n",
    "\n",
    "scip.optimize()\n",
    "# Status des Solvers\n",
    "status = scip.getStatus()\n",
    "print(f\"Status des Solvers: {status} \\n\")\n",
    "\n",
    "if status == \"optimal\":\n",
    "    print('LÖSUNG:')\n",
    "    print('Zielfunktionswert (Gewinn) =', scip.getObjVal())\n",
    "    for h in H:\n",
    "        print(\"EINKAUF Stunde\", h, \" : \" , scip.getVal(e_h[h]))\n",
    "        print(\"Verkauf Stunde\", h, \" : \" , scip.getVal(v_h[h]))\n",
    "\n",
    "else:\n",
    "    print('Problem hat keine Lösung')"
   ],
   "metadata": {
    "id": "UJ1ttWA9HCXI",
    "colab": {
     "base_uri": "https://localhost:8080/"
    },
    "outputId": "ebd50a9b-a34f-4476-c936-5b02a1271b9b",
    "ExecuteTime": {
     "end_time": "2025-01-26T17:49:31.530636Z",
     "start_time": "2025-01-26T17:49:31.517450Z"
    }
   },
   "execution_count": 34,
   "outputs": [
    {
     "name": "stdout",
     "output_type": "stream",
     "text": [
      "LP Solver <Soplex 7.1.1>: barrier convergence tolerance cannot be set -- tolerance of SCIP and LP solver may differ\n",
      "LP Solver <Soplex 7.1.1>: fastmip setting not available -- SCIP parameter has no effect\n",
      "LP Solver <Soplex 7.1.1>: number of threads settings not available -- SCIP parameter has no effect\n",
      "transformed problem has 144 variables (0 bin, 0 int, 0 impl, 144 cont) and 218 constraints\n",
      "    218 constraints of type <linear>\n",
      "\n",
      "original problem has 10872 active (34.633%) nonzeros and 10872 (34.633%) check nonzeros\n",
      "\n",
      "feasible solution found by trivial heuristic after 0.0 seconds, objective value -9.000000e+03\n",
      "presolving:\n",
      "(round 1, fast)       0 del vars, 0 del conss, 0 add conss, 288 chg bounds, 0 chg sides, 0 chg coeffs, 0 upgd conss, 0 impls, 0 clqs\n",
      "(round 2, fast)       0 del vars, 1 del conss, 0 add conss, 288 chg bounds, 0 chg sides, 0 chg coeffs, 0 upgd conss, 0 impls, 0 clqs\n",
      "(round 3, exhaustive) 0 del vars, 73 del conss, 0 add conss, 288 chg bounds, 0 chg sides, 0 chg coeffs, 0 upgd conss, 0 impls, 0 clqs\n",
      "   (0.0s) symmetry computation started: requiring (bin +, int +, cont +), (fixed: bin -, int -, cont -)\n",
      "   (0.0s) no symmetry present (symcode time: 0.00)\n",
      "clique table cleanup detected 0 bound changes\n",
      "\n",
      "presolved problem has 5472 active (26.2069%) nonzeros and 5472 (26.2069%) check nonzeros\n",
      "\n",
      "presolving (4 rounds: 4 fast, 2 medium, 2 exhaustive):\n",
      " 0 deleted vars, 73 deleted constraints, 0 added constraints, 288 tightened bounds, 0 added holes, 0 changed sides, 0 changed coefficients\n",
      " 0 implications, 0 cliques\n",
      "presolved problem has 144 variables (0 bin, 0 int, 0 impl, 144 cont) and 145 constraints\n",
      "    145 constraints of type <linear>\n",
      "Presolving Time: 0.01\n",
      "transformed 1/1 original solutions to the transformed problem space\n",
      "\n",
      " time | node  | left  |LP iter|LP it/n|mem/heur|mdpt |vars |cons |rows |cuts |sepa|confs|strbr|  dualbound   | primalbound  |  gap   | compl. \n",
      "* 0.0s|     1 |     0 |    48 |     - |    LP  |   0 | 144 | 145 | 145 |   0 |  0 |   0 |   0 | 3.779237e+03 | 3.779237e+03 |   0.00%| unknown\n",
      "  0.0s|     1 |     0 |    48 |     - |  4832k |   0 | 144 | 145 | 145 |   0 |  0 |   0 |   0 | 3.779237e+03 | 3.779237e+03 |   0.00%| unknown\n",
      "\n",
      "SCIP Status        : problem is solved [optimal solution found]\n",
      "Solving Time (sec) : 0.01\n",
      "Solving Nodes      : 1\n",
      "PriStatus des Solvers: optimal \n",
      "\n",
      "LÖSUNG:\n",
      "Zielfunktionswert (Gewinn) = 3779.2367237797735\n",
      "EINKAUF Stunde 1  :  0.0\n",
      "Verkauf Stunde 1  :  0.0\n",
      "EINKAUF Stunde 2  :  0.0\n",
      "Verkauf Stunde 2  :  0.0\n",
      "EINKAUF Stunde 3  :  0.0\n",
      "Verkauf Stunde 3  :  0.0\n",
      "EINKAUF Stunde 4  :  20.82519849017311\n",
      "Verkauf Stunde 4  :  0.0\n",
      "EINKAUF Stunde 5  :  0.0\n",
      "Verkauf Stunde 5  :  0.0\n",
      "EINKAUF Stunde 6  :  0.0\n",
      "Verkauf Stunde 6  :  0.0\n",
      "EINKAUF Stunde 7  :  0.0\n",
      "Verkauf Stunde 7  :  11.516923076923078\n",
      "EINKAUF Stunde 8  :  0.0\n",
      "Verkauf Stunde 8  :  19.194871794871794\n",
      "EINKAUF Stunde 9  :  0.0\n",
      "Verkauf Stunde 9  :  0.0\n",
      "EINKAUF Stunde 10  :  0.0\n",
      "Verkauf Stunde 10  :  0.0\n",
      "EINKAUF Stunde 11  :  0.0\n",
      "Verkauf Stunde 11  :  0.0\n",
      "EINKAUF Stunde 12  :  0.0\n",
      "Verkauf Stunde 12  :  0.0\n",
      "EINKAUF Stunde 13  :  0.0\n",
      "Verkauf Stunde 13  :  0.0\n",
      "EINKAUF Stunde 14  :  12.495119094103867\n",
      "Verkauf Stunde 14  :  0.0\n",
      "EINKAUF Stunde 15  :  20.82519849017311\n",
      "Verkauf Stunde 15  :  0.0\n",
      "EINKAUF Stunde 16  :  0.0\n",
      "Verkauf Stunde 16  :  0.0\n",
      "EINKAUF Stunde 17  :  0.0\n",
      "Verkauf Stunde 17  :  0.0\n",
      "EINKAUF Stunde 18  :  0.0\n",
      "Verkauf Stunde 18  :  0.0\n",
      "EINKAUF Stunde 19  :  0.0\n",
      "Verkauf Stunde 19  :  0.0\n",
      "EINKAUF Stunde 20  :  0.0\n",
      "Verkauf Stunde 20  :  0.0\n",
      "EINKAUF Stunde 21  :  0.0\n",
      "Verkauf Stunde 21  :  19.194871794871794\n",
      "EINKAUF Stunde 22  :  0.0\n",
      "Verkauf Stunde 22  :  11.516923076923078\n",
      "EINKAUF Stunde 23  :  0.0\n",
      "Verkauf Stunde 23  :  0.0\n",
      "EINKAUF Stunde 24  :  0.0\n",
      "Verkauf Stunde 24  :  0.0\n",
      "EINKAUF Stunde 25  :  0.0\n",
      "Verkauf Stunde 25  :  0.0\n",
      "EINKAUF Stunde 26  :  0.0\n",
      "Verkauf Stunde 26  :  0.0\n",
      "EINKAUF Stunde 27  :  0.0\n",
      "Verkauf Stunde 27  :  0.0\n",
      "EINKAUF Stunde 28  :  20.82519849017311\n",
      "Verkauf Stunde 28  :  0.0\n",
      "EINKAUF Stunde 29  :  12.495119094103874\n",
      "Verkauf Stunde 29  :  0.0\n",
      "EINKAUF Stunde 30  :  0.0\n",
      "Verkauf Stunde 30  :  0.0\n",
      "EINKAUF Stunde 31  :  0.0\n",
      "Verkauf Stunde 31  :  11.516923076923083\n",
      "EINKAUF Stunde 32  :  0.0\n",
      "Verkauf Stunde 32  :  19.194871794871794\n",
      "EINKAUF Stunde 33  :  0.0\n",
      "Verkauf Stunde 33  :  0.0\n",
      "EINKAUF Stunde 34  :  0.0\n",
      "Verkauf Stunde 34  :  0.0\n",
      "EINKAUF Stunde 35  :  0.0\n",
      "Verkauf Stunde 35  :  0.0\n",
      "EINKAUF Stunde 36  :  0.0\n",
      "Verkauf Stunde 36  :  0.0\n",
      "EINKAUF Stunde 37  :  0.0\n",
      "Verkauf Stunde 37  :  0.0\n",
      "EINKAUF Stunde 38  :  12.495119094103867\n",
      "Verkauf Stunde 38  :  0.0\n",
      "EINKAUF Stunde 39  :  20.82519849017311\n",
      "Verkauf Stunde 39  :  0.0\n",
      "EINKAUF Stunde 40  :  0.0\n",
      "Verkauf Stunde 40  :  0.0\n",
      "EINKAUF Stunde 41  :  0.0\n",
      "Verkauf Stunde 41  :  0.0\n",
      "EINKAUF Stunde 42  :  0.0\n",
      "Verkauf Stunde 42  :  0.0\n",
      "EINKAUF Stunde 43  :  0.0\n",
      "Verkauf Stunde 43  :  0.0\n",
      "EINKAUF Stunde 44  :  0.0\n",
      "Verkauf Stunde 44  :  0.0\n",
      "EINKAUF Stunde 45  :  0.0\n",
      "Verkauf Stunde 45  :  19.194871794871794\n",
      "EINKAUF Stunde 46  :  0.0\n",
      "Verkauf Stunde 46  :  11.516923076923078\n",
      "EINKAUF Stunde 47  :  0.0\n",
      "Verkauf Stunde 47  :  0.0\n",
      "EINKAUF Stunde 48  :  0.0\n",
      "Verkauf Stunde 48  :  0.0\n",
      "EINKAUF Stunde 49  :  0.0\n",
      "Verkauf Stunde 49  :  0.0\n",
      "EINKAUF Stunde 50  :  0.0\n",
      "Verkauf Stunde 50  :  0.0\n",
      "EINKAUF Stunde 51  :  0.0\n",
      "Verkauf Stunde 51  :  0.0\n",
      "EINKAUF Stunde 52  :  20.82519849017311\n",
      "Verkauf Stunde 52  :  0.0\n",
      "EINKAUF Stunde 53  :  12.495119094103867\n",
      "Verkauf Stunde 53  :  0.0\n",
      "EINKAUF Stunde 54  :  0.0\n",
      "Verkauf Stunde 54  :  0.0\n",
      "EINKAUF Stunde 55  :  0.0\n",
      "Verkauf Stunde 55  :  11.516923076923078\n",
      "EINKAUF Stunde 56  :  0.0\n",
      "Verkauf Stunde 56  :  19.194871794871794\n",
      "EINKAUF Stunde 57  :  0.0\n",
      "Verkauf Stunde 57  :  0.0\n",
      "EINKAUF Stunde 58  :  0.0\n",
      "Verkauf Stunde 58  :  0.0\n",
      "EINKAUF Stunde 59  :  0.0\n",
      "Verkauf Stunde 59  :  0.0\n",
      "EINKAUF Stunde 60  :  0.0\n",
      "Verkauf Stunde 60  :  0.0\n",
      "EINKAUF Stunde 61  :  0.0\n",
      "Verkauf Stunde 61  :  0.0\n",
      "EINKAUF Stunde 62  :  12.495119094103867\n",
      "Verkauf Stunde 62  :  0.0\n",
      "EINKAUF Stunde 63  :  20.82519849017311\n",
      "Verkauf Stunde 63  :  0.0\n",
      "EINKAUF Stunde 64  :  0.0\n",
      "Verkauf Stunde 64  :  0.0\n",
      "EINKAUF Stunde 65  :  0.0\n",
      "Verkauf Stunde 65  :  0.0\n",
      "EINKAUF Stunde 66  :  0.0\n",
      "Verkauf Stunde 66  :  0.0\n",
      "EINKAUF Stunde 67  :  0.0\n",
      "Verkauf Stunde 67  :  0.0\n",
      "EINKAUF Stunde 68  :  0.0\n",
      "Verkauf Stunde 68  :  0.0\n",
      "EINKAUF Stunde 69  :  0.0\n",
      "Verkauf Stunde 69  :  19.194871794871794\n",
      "EINKAUF Stunde 70  :  0.0\n",
      "Verkauf Stunde 70  :  11.516923076923078\n",
      "EINKAUF Stunde 71  :  0.0\n",
      "Verkauf Stunde 71  :  0.0\n",
      "EINKAUF Stunde 72  :  12.495119094103863\n",
      "Verkauf Stunde 72  :  0.0\n",
      "mal Bound       : +3.77923672377977e+03 (2 solutions)\n",
      "Dual Bound         : +3.77923672377977e+03\n",
      "Gap                : 0.00 %\n"
     ]
    }
   ]
  },
  {
   "cell_type": "code",
   "source": [
    "einkauf_sum = sum(scip.getVal(e_h[h]) for h in H)\n",
    "print(f'Es wurden {einkauf_sum} MWh eingekauft')\n",
    "verkauf_sum = sum(scip.getVal(v_h[h]) for h in H)\n",
    "print(f'Es wurden {verkauf_sum} MWh verkauft')\n",
    "\n",
    "gesamtwirkungsgrad = (0.95*0.985*0.985)\n",
    "\n",
    "\n",
    "if(gesamtwirkungsgrad != verkauf_sum / einkauf_sum):\n",
    "    print(gesamtwirkungsgrad)\n",
    "    print(verkauf_sum / einkauf_sum)\n",
    "    print('CHECK: Wirkungsgrad stimmt nicht überein')\n",
    "else:\n",
    "    print('CHECK: Wirkungsgrad stimmt überein')"
   ],
   "metadata": {
    "id": "Zcwt448BHF60",
    "colab": {
     "base_uri": "https://localhost:8080/"
    },
    "outputId": "18afc5a3-c9c3-4ae5-96e8-72aec000d716",
    "ExecuteTime": {
     "end_time": "2025-01-26T17:49:31.534922Z",
     "start_time": "2025-01-26T17:49:31.531439Z"
    }
   },
   "execution_count": 35,
   "outputs": [
    {
     "name": "stdout",
     "output_type": "stream",
     "text": [
      "Es wurden 199.92190550566187 MWh eingekauft\n",
      "Es wurden 184.27076923076925 MWh verkauft\n",
      "CHECK: Wirkungsgrad stimmt überein\n"
     ]
    }
   ]
  },
  {
   "cell_type": "code",
   "outputs": [
    {
     "name": "stdout",
     "output_type": "stream",
     "text": [
      "Worksheet 'var1_fix' found. Writing solution...\n",
      "Solution written to 'Ergebnisse.xlsx' in the 'var1_fix' worksheet.\n"
     ]
    }
   ],
   "source": [
    "# Ergebnisse in Excel speichern\n",
    "\n",
    "import pandas as pd\n",
    "from openpyxl import load_workbook\n",
    "\n",
    "# File and worksheet details\n",
    "file_path = \"Ergebnisse.xlsx\"\n",
    "if fixe_zykluskosten:\n",
    "    sheet_name = \"var1_fix\"\n",
    "else:\n",
    "    sheet_name = \"var1_var\"\n",
    "\n",
    "# Extract solution data from the solved SCIP model\n",
    "solution_data = {\n",
    "    \"Hour\": [h for h in H],\n",
    "    \"Einkauf\": [round(scip.getVal(e_h[h]), 3) for h in H],\n",
    "    \"Verkauf\": [round(scip.getVal(v_h[h]), 3) for h in H],\n",
    "    \"Gebotspreis\": [\n",
    "    \"min\" if round(scip.getVal(v_h[h]), 3) > 0 else \"max\" if round(scip.getVal(e_h[h]), 3) > 0 else \"\" \n",
    "    for h in H]\n",
    "}\n",
    "\n",
    "solution_df = pd.DataFrame(solution_data)\n",
    "\n",
    "# Write the solution to the Excel file\n",
    "try:\n",
    "    # Load the workbook to check for existing worksheets\n",
    "    workbook = load_workbook(file_path)\n",
    "    if sheet_name not in workbook.sheetnames:\n",
    "        # If the worksheet doesn't exist, create it\n",
    "        print(f\"Worksheet '{sheet_name}' not found. Creating it...\")\n",
    "        with pd.ExcelWriter(file_path, mode=\"a\", engine=\"openpyxl\") as writer:\n",
    "            solution_df.to_excel(writer, sheet_name=sheet_name, index=False)\n",
    "    else:\n",
    "        # If the worksheet exists, overwrite it\n",
    "        print(f\"Worksheet '{sheet_name}' found. Writing solution...\")\n",
    "        with pd.ExcelWriter(file_path, mode=\"a\", engine=\"openpyxl\", if_sheet_exists=\"replace\") as writer:\n",
    "            solution_df.to_excel(writer, sheet_name=sheet_name, index=False)\n",
    "except FileNotFoundError:\n",
    "    # If the file doesn't exist, create it and write the solution\n",
    "    print(f\"File '{file_path}' not found. Creating it and writing solution...\")\n",
    "    with pd.ExcelWriter(file_path, mode=\"w\", engine=\"openpyxl\") as writer:\n",
    "        solution_df.to_excel(writer, sheet_name=sheet_name, index=False)\n",
    "\n",
    "print(f\"Solution written to '{file_path}' in the '{sheet_name}' worksheet.\")\n"
   ],
   "metadata": {
    "collapsed": false,
    "ExecuteTime": {
     "end_time": "2025-01-26T17:49:31.576046Z",
     "start_time": "2025-01-26T17:49:31.536613Z"
    }
   },
   "execution_count": 36
  }
 ]
}
