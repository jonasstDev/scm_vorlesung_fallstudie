{
 "cells": [
  {
   "cell_type": "code",
   "execution_count": 12,
   "metadata": {
    "id": "9nfCME0_Lx05",
    "ExecuteTime": {
     "end_time": "2025-01-22T18:39:31.803519Z",
     "start_time": "2025-01-22T18:39:31.783794Z"
    }
   },
   "outputs": [],
   "source": [
    "# pip als Paketmanager\n",
    "#! pip install -q pyscipopt\n",
    "#! pip install pandas\n",
    "#!pip install openpyxl"
   ]
  },
  {
   "cell_type": "code",
   "execution_count": null,
   "metadata": {
    "id": "qrpgFGjALyiy",
    "is_executing": true
   },
   "outputs": [],
   "source": [
    "from pyscipopt import Model, quicksum"
   ]
  },
  {
   "cell_type": "markdown",
   "metadata": {
    "id": "1k-fB9oinyM7"
   },
   "source": [
    "# Optimierungsmodell zur Produktionsplanung"
   ]
  },
  {
   "cell_type": "code",
   "execution_count": 3,
   "metadata": {
    "id": "DqnRqdDApk9E",
    "ExecuteTime": {
     "end_time": "2025-01-22T18:36:54.084650Z",
     "start_time": "2025-01-22T18:36:54.044967Z"
    }
   },
   "outputs": [],
   "source": [
    "# Erstellen einer Modellinstanz\n",
    "scip = Model()"
   ]
  },
  {
   "cell_type": "markdown",
   "metadata": {
    "id": "HQvqRr9JnwMh"
   },
   "source": [
    "## Indexmenge"
   ]
  },
  {
   "cell_type": "code",
   "execution_count": 4,
   "metadata": {
    "id": "hwH_MTKEn0iL",
    "ExecuteTime": {
     "end_time": "2025-01-22T18:36:54.087043Z",
     "start_time": "2025-01-22T18:36:54.085635Z"
    }
   },
   "outputs": [],
   "source": [
    "H = [n for n in range(1, 25)]"
   ]
  },
  {
   "cell_type": "markdown",
   "metadata": {
    "id": "J4Z0Jylyn6Hb"
   },
   "source": [
    "## Batterie-Systemspezifikationen"
   ]
  },
  {
   "cell_type": "code",
   "execution_count": 5,
   "metadata": {
    "id": "3tDODUrNn--F",
    "ExecuteTime": {
     "end_time": "2025-01-22T18:36:54.090165Z",
     "start_time": "2025-01-22T18:36:54.087490Z"
    }
   },
   "outputs": [
    {
     "name": "stdout",
     "output_type": "stream",
     "text": [
      "0.960375\n",
      "0.9597435897435898\n",
      "0.92171375\n",
      "0.92171375\n"
     ]
    }
   ],
   "source": [
    "wirkungsgrad_wechselrichter = 0.985\n",
    "wirkungsgrad_laden = 0.975\n",
    "round_trip_efficiency = 0.95\n",
    "\n",
    "wirkungsgrad_systemeingang = wirkungsgrad_wechselrichter * wirkungsgrad_laden\n",
    "wirkungsgrad_systemausgang = (1-((wirkungsgrad_laden-round_trip_efficiency) / wirkungsgrad_laden)) * wirkungsgrad_wechselrichter\n",
    "wirkungsgrad_systemausgang = (1-((wirkungsgrad_laden-round_trip_efficiency) / wirkungsgrad_laden)) * wirkungsgrad_wechselrichter\n",
    "wirkungsgrad_systemausgang = (((wirkungsgrad_laden) / wirkungsgrad_laden)) * wirkungsgrad_wechselrichter\n",
    "\n",
    "\n",
    "f_e = wirkungsgrad_systemeingang # Faktor Eingang\n",
    "f_v = wirkungsgrad_systemausgang # Faktor Ausgang\n",
    "\n",
    "\n",
    "nennkapazität = 40 # MWh brutto\n",
    "lademinimum = 0.2 # 20%\n",
    "lademaximum = 1 # 100%\n",
    "anfangsbesand = 0.5 # 50%\n",
    "\n",
    "nettokapazität = zyklus = nennkapazität * (lademaximum - lademinimum) # MWh netto\n",
    "zykluskosten = 1500 # € / nettokapazität\n",
    "mwh_zykluskosten = zykluskosten / nettokapazität # € / MWh\n",
    "\n",
    "erlaubte_zyklen_pro_tag = 2\n",
    "\n",
    "a = anfangsbesand * nennkapazität # MWh Anfangs- und Endbestand\n",
    "u = lademinimum * nennkapazität # MWh Untergrenze Batteriekapazität\n",
    "o = lademaximum * nennkapazität # MWh Obergrenze Batteriekapazität \n",
    "\n",
    "c = 0.5 # nennkapazität / h\n",
    "\n",
    "print(wirkungsgrad_systemeingang)\n",
    "print(wirkungsgrad_systemausgang)\n",
    "\n",
    "print(wirkungsgrad_systemeingang*wirkungsgrad_systemausgang)\n",
    "print(wirkungsgrad_wechselrichter*wirkungsgrad_wechselrichter*round_trip_efficiency)\n"
   ]
  },
  {
   "cell_type": "markdown",
   "metadata": {},
   "source": [
    "## Vorhersagedaten"
   ]
  },
  {
   "cell_type": "code",
   "execution_count": 6,
   "metadata": {
    "id": "gebL0QDgoEOo",
    "ExecuteTime": {
     "end_time": "2025-01-22T18:36:54.866466Z",
     "start_time": "2025-01-22T18:36:54.090724Z"
    }
   },
   "outputs": [
    {
     "name": "stdout",
     "output_type": "stream",
     "text": [
      "{1: np.float64(81.52000000000001), 2: np.float64(72.24000000000001), 3: np.float64(68.16000000000001), 4: np.float64(66.64), 5: np.float64(66.8), 6: np.float64(71.04), 7: np.float64(88.55999999999999), 8: np.float64(92.68), 9: np.float64(80.92), 10: np.float64(61.080000000000005), 11: np.float64(43.080000000000005), 12: np.float64(30.880000000000003), 13: np.float64(22.44), 14: np.float64(15.959999999999999), 15: np.float64(12.52), 16: np.float64(18.44), 17: np.float64(34.88), 18: np.float64(56.56), 19: np.float64(78.44000000000001), 20: np.float64(105.60000000000001), 21: np.float64(144.8), 22: np.float64(125.12), 23: np.float64(101.36), 24: np.float64(85.28)}\n"
     ]
    }
   ],
   "source": [
    "import pandas as pd\n",
    "\n",
    "prognose = pd.read_excel('Preisprognosen.xlsx')\n",
    "\n",
    "p_h = {}\n",
    "\n",
    "for h in H:\n",
    "    stundenprognose = prognose[prognose['Stunde'] == h]\n",
    "    checksum = stundenprognose['Wahrscheinlichkeit'].sum()\n",
    "    if checksum != 1:\n",
    "        print('WARNING: Prognosedaten unvollständig')\n",
    "\n",
    "    erwartungswert_strompreis = (stundenprognose['Strompreis'] * stundenprognose['Wahrscheinlichkeit']).sum() / checksum\n",
    "    p_h[h] = erwartungswert_strompreis\n",
    "\n",
    "print (p_h)"
   ]
  },
  {
   "cell_type": "markdown",
   "metadata": {
    "id": "L0Ho9tuAoG8n"
   },
   "source": [
    "## Entscheidungsvariablen"
   ]
  },
  {
   "cell_type": "code",
   "execution_count": 7,
   "metadata": {
    "id": "1b4ajhJ4oJAW",
    "ExecuteTime": {
     "end_time": "2025-01-22T18:36:54.872042Z",
     "start_time": "2025-01-22T18:36:54.867067Z"
    }
   },
   "outputs": [
    {
     "name": "stdout",
     "output_type": "stream",
     "text": [
      "Entscheidungsvariablen = [e_1, v_1, e_2, v_2, e_3, v_3, e_4, v_4, e_5, v_5, e_6, v_6, e_7, v_7, e_8, v_8, e_9, v_9, e_10, v_10, e_11, v_11, e_12, v_12, e_13, v_13, e_14, v_14, e_15, v_15, e_16, v_16, e_17, v_17, e_18, v_18, e_19, v_19, e_20, v_20, e_21, v_21, e_22, v_22, e_23, v_23, e_24, v_24]\n"
     ]
    }
   ],
   "source": [
    "e_h={}\n",
    "v_h={}\n",
    "\n",
    "for h in H:\n",
    "    e_h[h] = scip.addVar(vtype='C', lb=0, ub=None, name=f\"e_{h}\")\n",
    "    v_h[h] = scip.addVar(vtype='C', lb=0, ub=None, name=f\"v_{h}\")\n",
    "\n",
    "print('Entscheidungsvariablen =', scip.getVars())"
   ]
  },
  {
   "cell_type": "markdown",
   "metadata": {
    "id": "7-sH7ayQptNn"
   },
   "source": [
    "## Zielfunktion"
   ]
  },
  {
   "cell_type": "code",
   "execution_count": 8,
   "metadata": {
    "id": "DP11hT9cpvNS",
    "ExecuteTime": {
     "end_time": "2025-01-22T18:36:54.875733Z",
     "start_time": "2025-01-22T18:36:54.872532Z"
    }
   },
   "outputs": [],
   "source": [
    "gewinn_kauf_verkauf = quicksum((p_h[h] * (v_h[h] - e_h[h])) for h in H)\n",
    "zykluskosten = quicksum((e_h[h] * f_e * mwh_zykluskosten) for h in H)\n",
    "zykluskosten = 3000\n",
    "\n",
    "scip.setObjective(gewinn_kauf_verkauf - zykluskosten, sense=\"maximize\")"
   ]
  },
  {
   "cell_type": "markdown",
   "metadata": {
    "id": "eUVXIzAHqVSe"
   },
   "source": [
    "## Nebenbedingungen / Restriktionen"
   ]
  },
  {
   "cell_type": "code",
   "execution_count": 9,
   "metadata": {
    "id": "7N_nK2zSqURt",
    "ExecuteTime": {
     "end_time": "2025-01-22T18:36:54.883299Z",
     "start_time": "2025-01-22T18:36:54.877101Z"
    }
   },
   "outputs": [
    {
     "name": "stdout",
     "output_type": "stream",
     "text": [
      "Nebenbedingungen = [Anfangs- und Endbestand gleich, Maximale Ladezyklen pro Tag, Mindestladestand zum Zeitpunkt t1, Maximalladestand zum Zeitpunkt t1, Mindestladestand zum Zeitpunkt t2, Maximalladestand zum Zeitpunkt t2, Mindestladestand zum Zeitpunkt t3, Maximalladestand zum Zeitpunkt t3, Mindestladestand zum Zeitpunkt t4, Maximalladestand zum Zeitpunkt t4, Mindestladestand zum Zeitpunkt t5, Maximalladestand zum Zeitpunkt t5, Mindestladestand zum Zeitpunkt t6, Maximalladestand zum Zeitpunkt t6, Mindestladestand zum Zeitpunkt t7, Maximalladestand zum Zeitpunkt t7, Mindestladestand zum Zeitpunkt t8, Maximalladestand zum Zeitpunkt t8, Mindestladestand zum Zeitpunkt t9, Maximalladestand zum Zeitpunkt t9, Mindestladestand zum Zeitpunkt t10, Maximalladestand zum Zeitpunkt t10, Mindestladestand zum Zeitpunkt t11, Maximalladestand zum Zeitpunkt t11, Mindestladestand zum Zeitpunkt t12, Maximalladestand zum Zeitpunkt t12, Mindestladestand zum Zeitpunkt t13, Maximalladestand zum Zeitpunkt t13, Mindestladestand zum Zeitpunkt t14, Maximalladestand zum Zeitpunkt t14, Mindestladestand zum Zeitpunkt t15, Maximalladestand zum Zeitpunkt t15, Mindestladestand zum Zeitpunkt t16, Maximalladestand zum Zeitpunkt t16, Mindestladestand zum Zeitpunkt t17, Maximalladestand zum Zeitpunkt t17, Mindestladestand zum Zeitpunkt t18, Maximalladestand zum Zeitpunkt t18, Mindestladestand zum Zeitpunkt t19, Maximalladestand zum Zeitpunkt t19, Mindestladestand zum Zeitpunkt t20, Maximalladestand zum Zeitpunkt t20, Mindestladestand zum Zeitpunkt t21, Maximalladestand zum Zeitpunkt t21, Mindestladestand zum Zeitpunkt t22, Maximalladestand zum Zeitpunkt t22, Mindestladestand zum Zeitpunkt t23, Maximalladestand zum Zeitpunkt t23, Mindestladestand zum Zeitpunkt t24, Maximalladestand zum Zeitpunkt t24, c51, c52, c53, c54, c55, c56, c57, c58, c59, c60, c61, c62, c63, c64, c65, c66, c67, c68, c69, c70, c71, c72, c73, c74]\n"
     ]
    }
   ],
   "source": [
    "# Ladestand zur Stunde 0 = Ladestand zur Stunde 24\n",
    "scip.addCons(quicksum(((e_h[h] * f_e) - (v_h[h] / f_v)) for h in H) == 0, name=\"Anfangs- und Endbestand gleich\") # Check\n",
    "\n",
    "# Maximale Ladezyklen am pro Tag\n",
    "scip.addCons(quicksum((e_h[h] * f_e) for h in H) <= (2 * nettokapazität), name=\"Maximale Ladezyklen pro Tag\") # Check\n",
    "\n",
    "# Mindestladestand nicht unterschritten\n",
    "for t in H:\n",
    "    H_t =  [n for n in range(1, t+1)]\n",
    "    scip.addCons( (a + quicksum(((e_h[h] * f_e) - (v_h[h] / f_v)) for h in H_t)) >= u, name=f\"Mindestladestand zum Zeitpunkt t{t}\")\n",
    "    scip.addCons( (a + quicksum(((e_h[h] * f_e) - (v_h[h] / f_v)) for h in H_t)) <= o, name=f\"Maximalladestand zum Zeitpunkt t{t}\")\n",
    "\n",
    "for h in H:\n",
    "    scip.addCons((e_h[h] * f_e) + (v_h[h] / f_v) <= c * nennkapazität)\n",
    "\n",
    "print('Nebenbedingungen =', scip.getConss())"
   ]
  },
  {
   "cell_type": "markdown",
   "metadata": {
    "id": "IPKeY5QcrCKo"
   },
   "source": [
    "## Berechnung der Lösung"
   ]
  },
  {
   "cell_type": "code",
   "execution_count": 10,
   "metadata": {
    "id": "fHtzLajYqL_D",
    "ExecuteTime": {
     "end_time": "2025-01-22T18:36:54.905121Z",
     "start_time": "2025-01-22T18:36:54.883917Z"
    }
   },
   "outputs": [
    {
     "name": "stdout",
     "output_type": "stream",
     "text": [
      "Status des Solvers: optimal \n",
      "LP Solver <Soplex 7.1.1>: barrier convergence tolerance cannot be set -- tolerance of SCIP and LP solver may differ\n",
      "LP Solver <Soplex 7.1.1>: fastmip setting not available -- SCIP parameter has no effect\n",
      "LP Solver <Soplex 7.1.1>: number of threads settings not available -- SCIP parameter has no effect\n",
      "transformed problem has 48 variables (0 bin, 0 int, 0 impl, 48 cont) and 74 constraints\n",
      "     74 constraints of type <linear>\n",
      "\n",
      "original problem has 1320 active (37.1622%) nonzeros and 1320 (37.1622%) check nonzeros\n",
      "\n",
      "feasible solution found by trivial heuristic after 0.0 seconds, objective value -3.000000e+03\n",
      "presolving:\n",
      "(round 1, fast)       0 del vars, 0 del conss, 0 add conss, 96 chg bounds, 0 chg sides, 0 chg coeffs, 0 upgd conss, 0 impls, 0 clqs\n",
      "(round 2, fast)       0 del vars, 1 del conss, 0 add conss, 96 chg bounds, 0 chg sides, 0 chg coeffs, 0 upgd conss, 0 impls, 0 clqs\n",
      "(round 3, exhaustive) 0 del vars, 25 del conss, 0 add conss, 96 chg bounds, 0 chg sides, 0 chg coeffs, 0 upgd conss, 0 impls, 0 clqs\n",
      "   (0.0s) symmetry computation started: requiring (bin +, int +, cont +), (fixed: bin -, int -, cont -)\n",
      "   (0.0s) no symmetry present (symcode time: 0.00)\n",
      "clique table cleanup detected 0 bound changes\n",
      "\n",
      "presolved problem has 672 active (28.5714%) nonzeros and 672 (28.5714%) check nonzeros\n",
      "\n",
      "presolving (4 rounds: 4 fast, 2 medium, 2 exhaustive):\n",
      " 0 deleted vars, 25 deleted constraints, 0 added constraints, 96 tightened bounds, 0 added holes, 0 changed sides, 0 changed coefficients\n",
      " 0 implications, 0 cliques\n",
      "presolved problem has 48 variables (0 bin, 0 int, 0 impl, 48 cont) and 49 constraints\n",
      "     49 constraints of type <linear>\n",
      "Presolving Time: 0.00\n",
      "transformed 1/1 original solutions to the transformed problem space\n",
      "\n",
      " time | node  | left  |LP iter|LP it/n|mem/heur|mdpt |vars |cons |rows |cuts |sepa|confs|strbr|  dualbound   | primalbound  |  gap   | compl. \n",
      "* 0.0s|     1 |     0 |    17 |     - |    LP  |   0 |  48 |  49 |  49 |   0 |  0 |   0 |   0 | 1.105806e+03 | 1.105806e+03 |   0.00%| unknown\n",
      "  0.0s|     1 |     0 |    17 |     - |  1445k |   0 |  48 |  49 |  49 |   0 |  0 |   0 |   0 | 1.105806e+03 | 1.105806e+03 |   0.00%| unknown\n",
      "\n",
      "SCIP Status        : problem is solved [optimal solution found]\n",
      "Solving Time (sec) : 0.02\n",
      "Solving Nodes      : 1\n",
      "Primal Bound       : +1.10580570735390e+03 (2 solutions)\n",
      "Dual Bound         : +1.10580570735390e+03\n",
      "Gap                : 0.00 %\n",
      "\n",
      "LÖSUNG:\n",
      "Zielfunktionswert (Gewinn) = 1105.8057073538985\n",
      "EINKAUF Stunde 1  :  0.0\n",
      "Verkauf Stunde 1  :  0.0\n",
      "EINKAUF Stunde 2  :  0.0\n",
      "Verkauf Stunde 2  :  0.0\n",
      "EINKAUF Stunde 3  :  0.0\n",
      "Verkauf Stunde 3  :  0.0\n",
      "EINKAUF Stunde 4  :  20.82519849017312\n",
      "Verkauf Stunde 4  :  0.0\n",
      "EINKAUF Stunde 5  :  0.0\n",
      "Verkauf Stunde 5  :  0.0\n",
      "EINKAUF Stunde 6  :  0.0\n",
      "Verkauf Stunde 6  :  0.0\n",
      "EINKAUF Stunde 7  :  0.0\n",
      "Verkauf Stunde 7  :  11.516923076923083\n",
      "EINKAUF Stunde 8  :  0.0\n",
      "Verkauf Stunde 8  :  19.194871794871794\n",
      "EINKAUF Stunde 9  :  0.0\n",
      "Verkauf Stunde 9  :  0.0\n",
      "EINKAUF Stunde 10  :  0.0\n",
      "Verkauf Stunde 10  :  0.0\n",
      "EINKAUF Stunde 11  :  0.0\n",
      "Verkauf Stunde 11  :  0.0\n",
      "EINKAUF Stunde 12  :  0.0\n",
      "Verkauf Stunde 12  :  0.0\n",
      "EINKAUF Stunde 13  :  0.0\n",
      "Verkauf Stunde 13  :  0.0\n",
      "EINKAUF Stunde 14  :  12.495119094103867\n",
      "Verkauf Stunde 14  :  0.0\n",
      "EINKAUF Stunde 15  :  20.82519849017311\n",
      "Verkauf Stunde 15  :  0.0\n",
      "EINKAUF Stunde 16  :  0.0\n",
      "Verkauf Stunde 16  :  0.0\n",
      "EINKAUF Stunde 17  :  0.0\n",
      "Verkauf Stunde 17  :  0.0\n",
      "EINKAUF Stunde 18  :  0.0\n",
      "Verkauf Stunde 18  :  0.0\n",
      "EINKAUF Stunde 19  :  0.0\n",
      "Verkauf Stunde 19  :  0.0\n",
      "EINKAUF Stunde 20  :  0.0\n",
      "Verkauf Stunde 20  :  0.0\n",
      "EINKAUF Stunde 21  :  0.0\n",
      "Verkauf Stunde 21  :  19.194871794871794\n",
      "EINKAUF Stunde 22  :  0.0\n",
      "Verkauf Stunde 22  :  11.516923076923078\n",
      "EINKAUF Stunde 23  :  0.0\n",
      "Verkauf Stunde 23  :  0.0\n",
      "EINKAUF Stunde 24  :  12.495119094103863\n",
      "Verkauf Stunde 24  :  0.0\n"
     ]
    }
   ],
   "source": [
    "scip.setIntParam(\"display/verblevel\", 5)  # Set verbosity level to 5\n",
    "\n",
    "\n",
    "scip.optimize()\n",
    "# Status des Solvers\n",
    "status = scip.getStatus()\n",
    "print(f\"Status des Solvers: {status} \\n\")\n",
    "\n",
    "if status == \"optimal\":\n",
    "    print('LÖSUNG:')\n",
    "    print('Zielfunktionswert (Gewinn) =', scip.getObjVal())\n",
    "    for h in H:\n",
    "        print(\"EINKAUF Stunde\", h, \" : \" , scip.getVal(e_h[h]))\n",
    "        print(\"Verkauf Stunde\", h, \" : \" , scip.getVal(v_h[h]))\n",
    "\n",
    "else:\n",
    "    print('Problem hat keine Lösung')\n",
    "\n"
   ]
  },
  {
   "cell_type": "code",
   "execution_count": 11,
   "metadata": {
    "ExecuteTime": {
     "end_time": "2025-01-22T18:36:54.908955Z",
     "start_time": "2025-01-22T18:36:54.906278Z"
    }
   },
   "outputs": [
    {
     "name": "stdout",
     "output_type": "stream",
     "text": [
      "Es wurden 66.64063516855396 MWh eingekauft\n",
      "Es wurden 61.42358974358975 MWh verkauft\n",
      "Wirkungsgrad stimmt überein\n"
     ]
    }
   ],
   "source": [
    "einkauf_sum = sum(scip.getVal(e_h[h]) for h in H)\n",
    "print(f'Es wurden {einkauf_sum} MWh eingekauft')\n",
    "verkauf_sum = sum(scip.getVal(v_h[h]) for h in H)\n",
    "print(f'Es wurden {verkauf_sum} MWh verkauft')\n",
    "\n",
    "gesamtwirkungsgrad = (0.95*0.985*0.985)\n",
    "\n",
    "\n",
    "if(gesamtwirkungsgrad != verkauf_sum / einkauf_sum):\n",
    "    print('Wirkungsgrad stimmt nicht überein')\n",
    "else:\n",
    "    print('Wirkungsgrad stimmt überein')"
   ]
  }
 ],
 "metadata": {
  "colab": {
   "authorship_tag": "ABX9TyPs6JH4nGj6Y6r0ez2DcMph",
   "include_colab_link": true,
   "provenance": []
  },
  "kernelspec": {
   "display_name": "base",
   "language": "python",
   "name": "python3"
  },
  "language_info": {
   "codemirror_mode": {
    "name": "ipython",
    "version": 3
   },
   "file_extension": ".py",
   "mimetype": "text/x-python",
   "name": "python",
   "nbconvert_exporter": "python",
   "pygments_lexer": "ipython3",
   "version": "3.11.5"
  }
 },
 "nbformat": 4,
 "nbformat_minor": 0
}
