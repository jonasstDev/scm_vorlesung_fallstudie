{
 "cells": [
  {
   "cell_type": "code",
   "execution_count": 166,
   "metadata": {
    "id": "9nfCME0_Lx05",
    "ExecuteTime": {
     "end_time": "2025-01-23T10:28:16.966596Z",
     "start_time": "2025-01-23T10:28:16.930399Z"
    }
   },
   "outputs": [],
   "source": [
    "# pip als Paketmanager\n",
    "#! pip install -q pyscipopt\n",
    "#! pip install pandas\n",
    "#!pip install openpyxl"
   ]
  },
  {
   "cell_type": "code",
   "execution_count": 167,
   "metadata": {
    "id": "qrpgFGjALyiy",
    "ExecuteTime": {
     "end_time": "2025-01-23T10:28:17.006216Z",
     "start_time": "2025-01-23T10:28:16.980488Z"
    }
   },
   "outputs": [],
   "source": [
    "from pyscipopt import Model, quicksum"
   ]
  },
  {
   "cell_type": "markdown",
   "metadata": {
    "id": "1k-fB9oinyM7"
   },
   "source": [
    "# Optimierungsmodell zur Produktionsplanung"
   ]
  },
  {
   "cell_type": "code",
   "execution_count": 168,
   "metadata": {
    "id": "DqnRqdDApk9E",
    "ExecuteTime": {
     "end_time": "2025-01-23T10:28:17.106870Z",
     "start_time": "2025-01-23T10:28:17.008257Z"
    }
   },
   "outputs": [],
   "source": [
    "# Erstellen einer Modellinstanz\n",
    "scip = Model()"
   ]
  },
  {
   "cell_type": "markdown",
   "metadata": {
    "id": "HQvqRr9JnwMh"
   },
   "source": [
    "## Indexmenge"
   ]
  },
  {
   "cell_type": "code",
   "execution_count": 169,
   "metadata": {
    "id": "hwH_MTKEn0iL",
    "ExecuteTime": {
     "end_time": "2025-01-23T10:28:17.134601Z",
     "start_time": "2025-01-23T10:28:17.121144Z"
    }
   },
   "outputs": [],
   "source": [
    "H = [n for n in range(1, 25)]"
   ]
  },
  {
   "cell_type": "markdown",
   "metadata": {
    "id": "J4Z0Jylyn6Hb"
   },
   "source": [
    "## Batterie-Systemspezifikationen"
   ]
  },
  {
   "cell_type": "code",
   "execution_count": 170,
   "metadata": {
    "id": "3tDODUrNn--F",
    "ExecuteTime": {
     "end_time": "2025-01-23T10:28:17.193645Z",
     "start_time": "2025-01-23T10:28:17.151489Z"
    }
   },
   "outputs": [
    {
     "name": "stdout",
     "output_type": "stream",
     "text": [
      "0.92171375\n",
      "0.92171375\n"
     ]
    }
   ],
   "source": [
    "fixe_zykluskosten = False\n",
    "\n",
    "wirkungsgrad_wechselrichter = 0.985\n",
    "wirkungsgrad_laden = 0.975\n",
    "round_trip_efficiency = 0.95\n",
    "entlade_verlust = wirkungsgrad_laden - round_trip_efficiency\n",
    "\n",
    "wirkungsgrad_systemeingang = wirkungsgrad_wechselrichter * wirkungsgrad_laden\n",
    "wirkungsgrad_systemausgang = (1-(entlade_verlust / wirkungsgrad_laden)) * wirkungsgrad_wechselrichter\n",
    "\n",
    "\n",
    "f_e = wirkungsgrad_systemeingang # Faktor Einkauf\n",
    "f_v = wirkungsgrad_systemausgang # Faktor Verkauf\n",
    "\n",
    "\n",
    "nennkapazität = 40 # MWh brutto\n",
    "lademinimum = 0.2 # 20%\n",
    "lademaximum = 1 # 100%\n",
    "anfangsbestand = 0.5 # 50%\n",
    "\n",
    "nettokapazität = zyklus = nennkapazität * (lademaximum - lademinimum) # MWh netto\n",
    "zykluskosten = 1500 # € / zyklus\n",
    "mwh_zykluskosten = zykluskosten / zyklus # € / MWh\n",
    "\n",
    "erlaubte_zyklen_pro_tag = 2\n",
    "\n",
    "a = anfangsbestand * nennkapazität # MWh Anfangs- und Endbestand\n",
    "u = lademinimum * nennkapazität # MWh Untergrenze Batteriekapazität\n",
    "o = lademaximum * nennkapazität # MWh Obergrenze Batteriekapazität \n",
    "\n",
    "c = 0.5 # nennkapazität / h\n",
    "\n",
    "\n",
    "# Sicherstellen, dass unsere Faktoren für Systemeingang und -ausgang den multiplizierten Wirkungsgraden entspricht\n",
    "print(wirkungsgrad_systemeingang*wirkungsgrad_systemausgang)\n",
    "print(wirkungsgrad_wechselrichter*wirkungsgrad_wechselrichter*round_trip_efficiency)\n",
    "\n"
   ]
  },
  {
   "cell_type": "markdown",
   "metadata": {},
   "source": [
    "## Vorhersagedaten"
   ]
  },
  {
   "cell_type": "code",
   "execution_count": 171,
   "metadata": {
    "id": "gebL0QDgoEOo",
    "ExecuteTime": {
     "end_time": "2025-01-23T10:28:17.458948Z",
     "start_time": "2025-01-23T10:28:17.200278Z"
    }
   },
   "outputs": [
    {
     "name": "stdout",
     "output_type": "stream",
     "text": [
      "{1: np.float64(81.52000000000001), 2: np.float64(72.24000000000001), 3: np.float64(68.16000000000001), 4: np.float64(66.64), 5: np.float64(66.8), 6: np.float64(71.04), 7: np.float64(88.55999999999999), 8: np.float64(92.68), 9: np.float64(80.92), 10: np.float64(61.080000000000005), 11: np.float64(43.080000000000005), 12: np.float64(30.880000000000003), 13: np.float64(22.44), 14: np.float64(15.959999999999999), 15: np.float64(12.52), 16: np.float64(18.44), 17: np.float64(34.88), 18: np.float64(56.56), 19: np.float64(78.44000000000001), 20: np.float64(105.60000000000001), 21: np.float64(144.8), 22: np.float64(125.12), 23: np.float64(101.36), 24: np.float64(85.28)}\n"
     ]
    }
   ],
   "source": [
    "import pandas as pd\n",
    "\n",
    "prognose = pd.read_excel('Preisprognosen.xlsx')\n",
    "\n",
    "p_h = {}\n",
    "\n",
    "for h in H:\n",
    "    stundenprognose = prognose[prognose['Stunde'] == h]\n",
    "    checksum = stundenprognose['Wahrscheinlichkeit'].sum()\n",
    "    if checksum != 1:\n",
    "        print('WARNING: Prognosedaten unvollständig')\n",
    "\n",
    "    erwartungswert_strompreis = (stundenprognose['Strompreis'] * stundenprognose['Wahrscheinlichkeit']).sum() / checksum\n",
    "    p_h[h] = erwartungswert_strompreis\n",
    "\n",
    "print (p_h)"
   ]
  },
  {
   "cell_type": "markdown",
   "metadata": {
    "id": "L0Ho9tuAoG8n"
   },
   "source": [
    "## Entscheidungsvariablen"
   ]
  },
  {
   "cell_type": "code",
   "execution_count": 172,
   "metadata": {
    "id": "1b4ajhJ4oJAW",
    "ExecuteTime": {
     "end_time": "2025-01-23T10:28:17.476152Z",
     "start_time": "2025-01-23T10:28:17.465194Z"
    }
   },
   "outputs": [
    {
     "name": "stdout",
     "output_type": "stream",
     "text": [
      "Entscheidungsvariablen = [e_1, v_1, e_2, v_2, e_3, v_3, e_4, v_4, e_5, v_5, e_6, v_6, e_7, v_7, e_8, v_8, e_9, v_9, e_10, v_10, e_11, v_11, e_12, v_12, e_13, v_13, e_14, v_14, e_15, v_15, e_16, v_16, e_17, v_17, e_18, v_18, e_19, v_19, e_20, v_20, e_21, v_21, e_22, v_22, e_23, v_23, e_24, v_24]\n"
     ]
    }
   ],
   "source": [
    "e_h={}\n",
    "v_h={}\n",
    "\n",
    "for h in H:\n",
    "    e_h[h] = scip.addVar(vtype='C', lb=0, ub=None, name=f\"e_{h}\")\n",
    "    v_h[h] = scip.addVar(vtype='C', lb=0, ub=None, name=f\"v_{h}\")\n",
    "\n",
    "print('Entscheidungsvariablen =', scip.getVars())"
   ]
  },
  {
   "cell_type": "markdown",
   "metadata": {
    "id": "7-sH7ayQptNn"
   },
   "source": [
    "## Zielfunktion"
   ]
  },
  {
   "cell_type": "code",
   "execution_count": 173,
   "metadata": {
    "id": "DP11hT9cpvNS",
    "ExecuteTime": {
     "end_time": "2025-01-23T10:28:17.489024Z",
     "start_time": "2025-01-23T10:28:17.477407Z"
    }
   },
   "outputs": [
    {
     "name": "stdout",
     "output_type": "stream",
     "text": [
      "Expr({Term(e_1): -126.53757812500001, Term(v_1): 81.52000000000001, Term(e_2): -117.25757812500001, Term(v_2): 72.24000000000001, Term(e_3): -113.17757812500001, Term(v_3): 68.16000000000001, Term(e_4): -111.657578125, Term(v_4): 66.64, Term(e_5): -111.817578125, Term(v_5): 66.8, Term(e_6): -116.057578125, Term(v_6): 71.04, Term(e_7): -133.577578125, Term(v_7): 88.55999999999999, Term(e_8): -137.697578125, Term(v_8): 92.68, Term(e_9): -125.937578125, Term(v_9): 80.92, Term(e_10): -106.09757812500001, Term(v_10): 61.080000000000005, Term(e_11): -88.09757812500001, Term(v_11): 43.080000000000005, Term(e_12): -75.897578125, Term(v_12): 30.880000000000003, Term(e_13): -67.457578125, Term(v_13): 22.44, Term(e_14): -60.977578125, Term(v_14): 15.959999999999999, Term(e_15): -57.537578124999996, Term(v_15): 12.52, Term(e_16): -63.457578125, Term(v_16): 18.44, Term(e_17): -79.897578125, Term(v_17): 34.88, Term(e_18): -101.577578125, Term(v_18): 56.56, Term(e_19): -123.45757812500001, Term(v_19): 78.44000000000001, Term(e_20): -150.61757812500002, Term(v_20): 105.60000000000001, Term(e_21): -189.817578125, Term(v_21): 144.8, Term(e_22): -170.137578125, Term(v_22): 125.12, Term(e_23): -146.377578125, Term(v_23): 101.36, Term(e_24): -130.297578125, Term(v_24): 85.28})\n"
     ]
    }
   ],
   "source": [
    "gewinn_kauf_verkauf = quicksum((p_h[h] * (v_h[h] - e_h[h])) for h in H)\n",
    "\n",
    "if fixe_zykluskosten:\n",
    "    zykluskosten = 3000\n",
    "else:\n",
    "    zykluskosten = quicksum((e_h[h] * f_e * mwh_zykluskosten) for h in H)\n",
    "\n",
    "scip.setObjective(gewinn_kauf_verkauf - zykluskosten, sense=\"maximize\")\n",
    "print(scip.getObjective())"
   ]
  },
  {
   "cell_type": "markdown",
   "metadata": {
    "id": "eUVXIzAHqVSe"
   },
   "source": [
    "## Nebenbedingungen / Restriktionen"
   ]
  },
  {
   "cell_type": "code",
   "execution_count": 174,
   "metadata": {
    "id": "7N_nK2zSqURt",
    "ExecuteTime": {
     "end_time": "2025-01-23T10:28:17.510567Z",
     "start_time": "2025-01-23T10:28:17.491338Z"
    }
   },
   "outputs": [
    {
     "name": "stdout",
     "output_type": "stream",
     "text": [
      "Nebenbedingungen = [Anfangs- und Endbestand gleich, Maximale Ladezyklen pro Tag, Mindestladestand zum Zeitpunkt t=1, Maximalladestand zum Zeitpunkt t=1, Mindestladestand zum Zeitpunkt t=2, Maximalladestand zum Zeitpunkt t=2, Mindestladestand zum Zeitpunkt t=3, Maximalladestand zum Zeitpunkt t=3, Mindestladestand zum Zeitpunkt t=4, Maximalladestand zum Zeitpunkt t=4, Mindestladestand zum Zeitpunkt t=5, Maximalladestand zum Zeitpunkt t=5, Mindestladestand zum Zeitpunkt t=6, Maximalladestand zum Zeitpunkt t=6, Mindestladestand zum Zeitpunkt t=7, Maximalladestand zum Zeitpunkt t=7, Mindestladestand zum Zeitpunkt t=8, Maximalladestand zum Zeitpunkt t=8, Mindestladestand zum Zeitpunkt t=9, Maximalladestand zum Zeitpunkt t=9, Mindestladestand zum Zeitpunkt t=10, Maximalladestand zum Zeitpunkt t=10, Mindestladestand zum Zeitpunkt t=11, Maximalladestand zum Zeitpunkt t=11, Mindestladestand zum Zeitpunkt t=12, Maximalladestand zum Zeitpunkt t=12, Mindestladestand zum Zeitpunkt t=13, Maximalladestand zum Zeitpunkt t=13, Mindestladestand zum Zeitpunkt t=14, Maximalladestand zum Zeitpunkt t=14, Mindestladestand zum Zeitpunkt t=15, Maximalladestand zum Zeitpunkt t=15, Mindestladestand zum Zeitpunkt t=16, Maximalladestand zum Zeitpunkt t=16, Mindestladestand zum Zeitpunkt t=17, Maximalladestand zum Zeitpunkt t=17, Mindestladestand zum Zeitpunkt t=18, Maximalladestand zum Zeitpunkt t=18, Mindestladestand zum Zeitpunkt t=19, Maximalladestand zum Zeitpunkt t=19, Mindestladestand zum Zeitpunkt t=20, Maximalladestand zum Zeitpunkt t=20, Mindestladestand zum Zeitpunkt t=21, Maximalladestand zum Zeitpunkt t=21, Mindestladestand zum Zeitpunkt t=22, Maximalladestand zum Zeitpunkt t=22, Mindestladestand zum Zeitpunkt t=23, Maximalladestand zum Zeitpunkt t=23, Mindestladestand zum Zeitpunkt t=24, Maximalladestand zum Zeitpunkt t=24, Lade-/Entladeleistung der Stunde h=1, Lade-/Entladeleistung der Stunde h=2, Lade-/Entladeleistung der Stunde h=3, Lade-/Entladeleistung der Stunde h=4, Lade-/Entladeleistung der Stunde h=5, Lade-/Entladeleistung der Stunde h=6, Lade-/Entladeleistung der Stunde h=7, Lade-/Entladeleistung der Stunde h=8, Lade-/Entladeleistung der Stunde h=9, Lade-/Entladeleistung der Stunde h=10, Lade-/Entladeleistung der Stunde h=11, Lade-/Entladeleistung der Stunde h=12, Lade-/Entladeleistung der Stunde h=13, Lade-/Entladeleistung der Stunde h=14, Lade-/Entladeleistung der Stunde h=15, Lade-/Entladeleistung der Stunde h=16, Lade-/Entladeleistung der Stunde h=17, Lade-/Entladeleistung der Stunde h=18, Lade-/Entladeleistung der Stunde h=19, Lade-/Entladeleistung der Stunde h=20, Lade-/Entladeleistung der Stunde h=21, Lade-/Entladeleistung der Stunde h=22, Lade-/Entladeleistung der Stunde h=23, Lade-/Entladeleistung der Stunde h=24]\n"
     ]
    }
   ],
   "source": [
    "# Ladestand zur Stunde 0 = Ladestand zur Stunde 24, also Summe Lademenge und Entlademenge gleich\n",
    "scip.addCons(quicksum(((e_h[h] * f_e) - (v_h[h] / f_v)) for h in H) == 0, name=\"Anfangs- und Endbestand gleich\") \n",
    "\n",
    "# Maximale Ladezyklen am pro Tag anhand der Einkaufsmenge (mit Faktor = Lademenge), alternativ anhand der Verkaufsmenge\n",
    "scip.addCons(quicksum((e_h[h] * f_e) for h in H) <= (erlaubte_zyklen_pro_tag * nettokapazität), name=\"Maximale Ladezyklen pro Tag\")\n",
    "\n",
    "# Mindestladestand nicht unterschritten und Höchstladestand nicht überschritten\n",
    "for h in H:\n",
    "    H_t =  [n for n in range(1, h+1)]\n",
    "    scip.addCons( (a + quicksum(((e_h[t] * f_e) - (v_h[t] / f_v)) for t in H_t)) >= u, name=f\"Mindestladestand zum Zeitpunkt t={h}\")\n",
    "    scip.addCons( (a + quicksum(((e_h[t] * f_e) - (v_h[t] / f_v)) for t in H_t)) <= o, name=f\"Maximalladestand zum Zeitpunkt t={h}\")\n",
    "\n",
    "# Lade- und Entladeleistung begrenzt (C-Rate)\n",
    "for h in H:\n",
    "    scip.addCons((e_h[h] * f_e) + (v_h[h] / f_v) <= c * nennkapazität, name=f\"Lade-/Entladeleistung der Stunde h={h}\")\n",
    "\n",
    "print('Nebenbedingungen =', scip.getConss())"
   ]
  },
  {
   "cell_type": "markdown",
   "metadata": {
    "id": "IPKeY5QcrCKo"
   },
   "source": [
    "## Berechnung der Lösung"
   ]
  },
  {
   "cell_type": "code",
   "execution_count": 175,
   "metadata": {
    "id": "fHtzLajYqL_D",
    "ExecuteTime": {
     "end_time": "2025-01-23T10:28:17.549340Z",
     "start_time": "2025-01-23T10:28:17.525170Z"
    }
   },
   "outputs": [
    {
     "name": "stdout",
     "output_type": "stream",
     "text": [
      "LP Solver <Soplex 7.1.1>: barrier convergence tolerance cannot be set -- tolerance of SCIP and LP solver may differ\n",
      "LP Solver <Soplex 7.1.1>: fastmip setting not available -- SCIP parameter has no effect\n",
      "LP Solver <Soplex 7.1.1>: number of threads settings not available -- SCIP parameter has no effect\n",
      "Status des Solvers: optimal \n",
      "\n",
      "LÖSUNG:\n",
      "Zielfunktionswert (Gewinn) = 1886.6522808278019\n",
      "EINKAUF Stunde 1  :  0.0\n",
      "Verkauf Stunde 1  :  0.0\n",
      "EINKAUF Stunde 2  :  0.0\n",
      "Verkauf Stunde 2  :  0.0\n",
      "EINKAUF Stunde 3  :  0.0\n",
      "Verkauf Stunde 3  :  0.0\n",
      "EINKAUF Stunde 4  :  0.0\n",
      "Verkauf Stunde 4  :  0.0\n",
      "EINKAUF Stunde 5  :  0.0\n",
      "Verkauf Stunde 5  :  0.0\n",
      "EINKAUF Stunde 6  :  0.0\n",
      "Verkauf Stunde 6  :  0.0\n",
      "EINKAUF Stunde 7  :  0.0\n",
      "Verkauf Stunde 7  :  0.0\n",
      "EINKAUF Stunde 8  :  0.0\n",
      "Verkauf Stunde 8  :  11.516923076923078\n",
      "EINKAUF Stunde 9  :  0.0\n",
      "Verkauf Stunde 9  :  -1.7048470897115737e-15\n",
      "EINKAUF Stunde 10  :  0.0\n",
      "Verkauf Stunde 10  :  0.0\n",
      "EINKAUF Stunde 11  :  0.0\n",
      "Verkauf Stunde 11  :  0.0\n",
      "EINKAUF Stunde 12  :  0.0\n",
      "Verkauf Stunde 12  :  0.0\n",
      "EINKAUF Stunde 13  :  0.0\n",
      "Verkauf Stunde 13  :  0.0\n",
      "EINKAUF Stunde 14  :  12.495119094103867\n",
      "Verkauf Stunde 14  :  0.0\n",
      "EINKAUF Stunde 15  :  20.82519849017311\n",
      "Verkauf Stunde 15  :  0.0\n",
      "EINKAUF Stunde 16  :  0.0\n",
      "Verkauf Stunde 16  :  0.0\n",
      "EINKAUF Stunde 17  :  0.0\n",
      "Verkauf Stunde 17  :  0.0\n",
      "EINKAUF Stunde 18  :  0.0\n",
      "Verkauf Stunde 18  :  0.0\n",
      "EINKAUF Stunde 19  :  0.0\n",
      "Verkauf Stunde 19  :  0.0\n",
      "EINKAUF Stunde 20  :  0.0\n",
      "Verkauf Stunde 20  :  0.0\n",
      "EINKAUF Stunde 21  :  0.0\n",
      "Verkauf Stunde 21  :  19.194871794871794\n",
      "EINKAUF Stunde 22  :  0.0\n",
      "Verkauf Stunde 22  :  0.0\n",
      "EINKAUF Stunde 23  :  0.0\n",
      "Verkauf Stunde 23  :  0.0\n",
      "EINKAUF Stunde 24  :  0.0\n",
      "Verkauf Stunde 24  :  0.0\n",
      "transformed problem has 48 variables (0 bin, 0 int, 0 impl, 48 cont) and 74 constraints\n",
      "     74 constraints of type <linear>\n",
      "\n",
      "original problem has 1320 active (37.1622%) nonzeros and 1320 (37.1622%) check nonzeros\n",
      "\n",
      "feasible solution found by trivial heuristic after 0.0 seconds, objective value 0.000000e+00\n",
      "presolving:\n",
      "(round 1, fast)       0 del vars, 0 del conss, 0 add conss, 96 chg bounds, 0 chg sides, 0 chg coeffs, 0 upgd conss, 0 impls, 0 clqs\n",
      "(round 2, fast)       0 del vars, 1 del conss, 0 add conss, 96 chg bounds, 0 chg sides, 0 chg coeffs, 0 upgd conss, 0 impls, 0 clqs\n",
      "(round 3, exhaustive) 0 del vars, 25 del conss, 0 add conss, 96 chg bounds, 0 chg sides, 0 chg coeffs, 0 upgd conss, 0 impls, 0 clqs\n",
      "   (0.0s) symmetry computation started: requiring (bin +, int +, cont +), (fixed: bin -, int -, cont -)\n",
      "   (0.0s) no symmetry present (symcode time: 0.00)\n",
      "clique table cleanup detected 0 bound changes\n",
      "\n",
      "presolved problem has 672 active (28.5714%) nonzeros and 672 (28.5714%) check nonzeros\n",
      "\n",
      "presolving (4 rounds: 4 fast, 2 medium, 2 exhaustive):\n",
      " 0 deleted vars, 25 deleted constraints, 0 added constraints, 96 tightened bounds, 0 added holes, 0 changed sides, 0 changed coefficients\n",
      " 0 implications, 0 cliques\n",
      "presolved problem has 48 variables (0 bin, 0 int, 0 impl, 48 cont) and 49 constraints\n",
      "     49 constraints of type <linear>\n",
      "Presolving Time: 0.01\n",
      "transformed 1/1 original solutions to the transformed problem space\n",
      "\n",
      " time | node  | left  |LP iter|LP it/n|mem/heur|mdpt |vars |cons |rows |cuts |sepa|confs|strbr|  dualbound   | primalbound  |  gap   | compl. \n",
      "* 0.0s|     1 |     0 |     8 |     - |    LP  |   0 |  48 |  49 |  49 |   0 |  0 |   0 |   0 | 1.886652e+03 | 1.886652e+03 |   0.00%| unknown\n",
      "  0.0s|     1 |     0 |     8 |     - |  1453k |   0 |  48 |  49 |  49 |   0 |  0 |   0 |   0 | 1.886652e+03 | 1.886652e+03 |   0.00%| unknown\n",
      "\n",
      "SCIP Status        : problem is solved [optimal solution found]\n",
      "Solving Time (sec) : 0.01\n",
      "Solving Nodes      : 1\n",
      "Primal Bound       : +1.88665228082780e+03 (2 solutions)\n",
      "Dual Bound         : +1.88665228082780e+03\n",
      "Gap                : 0.00 %\n"
     ]
    }
   ],
   "source": [
    "scip.setIntParam(\"display/verblevel\", 5)  # Set verbosity level to 5\n",
    "\n",
    "\n",
    "scip.optimize()\n",
    "# Status des Solvers\n",
    "status = scip.getStatus()\n",
    "print(f\"Status des Solvers: {status} \\n\")\n",
    "\n",
    "if status == \"optimal\":\n",
    "    print('LÖSUNG:')\n",
    "    print('Zielfunktionswert (Gewinn) =', scip.getObjVal())\n",
    "    for h in H:\n",
    "        print(\"EINKAUF Stunde\", h, \" : \" , scip.getVal(e_h[h]))\n",
    "        print(\"Verkauf Stunde\", h, \" : \" , scip.getVal(v_h[h]))\n",
    "\n",
    "else:\n",
    "    print('Problem hat keine Lösung')\n",
    "\n"
   ]
  },
  {
   "cell_type": "code",
   "execution_count": 176,
   "metadata": {
    "ExecuteTime": {
     "end_time": "2025-01-23T10:28:17.560682Z",
     "start_time": "2025-01-23T10:28:17.552199Z"
    }
   },
   "outputs": [
    {
     "name": "stdout",
     "output_type": "stream",
     "text": [
      "Es wurden 33.32031758427698 MWh eingekauft\n",
      "Es wurden 30.711794871794872 MWh verkauft\n",
      "CHECK: Wirkungsgrad stimmt nicht überein\n"
     ]
    }
   ],
   "source": [
    "einkauf_sum = sum(scip.getVal(e_h[h]) for h in H)\n",
    "print(f'Es wurden {einkauf_sum} MWh eingekauft')\n",
    "verkauf_sum = sum(scip.getVal(v_h[h]) for h in H)\n",
    "print(f'Es wurden {verkauf_sum} MWh verkauft')\n",
    "\n",
    "gesamtwirkungsgrad = (0.95*0.985*0.985)\n",
    "\n",
    "\n",
    "if(gesamtwirkungsgrad != verkauf_sum / einkauf_sum):\n",
    "    print('CHECK: Wirkungsgrad stimmt nicht überein')\n",
    "else:\n",
    "    print('CHECK: Wirkungsgrad stimmt überein')"
   ]
  }
 ],
 "metadata": {
  "colab": {
   "authorship_tag": "ABX9TyPs6JH4nGj6Y6r0ez2DcMph",
   "include_colab_link": true,
   "provenance": []
  },
  "kernelspec": {
   "display_name": "base",
   "language": "python",
   "name": "python3"
  },
  "language_info": {
   "codemirror_mode": {
    "name": "ipython",
    "version": 3
   },
   "file_extension": ".py",
   "mimetype": "text/x-python",
   "name": "python",
   "nbconvert_exporter": "python",
   "pygments_lexer": "ipython3",
   "version": "3.11.5"
  }
 },
 "nbformat": 4,
 "nbformat_minor": 0
}
